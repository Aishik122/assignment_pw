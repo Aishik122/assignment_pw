{
 "cells": [
  {
   "cell_type": "markdown",
   "metadata": {},
   "source": [
    "# For Loop :-"
   ]
  },
  {
   "cell_type": "markdown",
   "metadata": {},
   "source": [
    "Write a Python program to print numbers from 1 to 10 using a for loop.\n"
   ]
  },
  {
   "cell_type": "code",
   "execution_count": 1,
   "metadata": {},
   "outputs": [
    {
     "name": "stdout",
     "output_type": "stream",
     "text": [
      "1\n",
      "2\n",
      "3\n",
      "4\n",
      "5\n",
      "6\n",
      "7\n",
      "8\n",
      "9\n",
      "10\n"
     ]
    }
   ],
   "source": [
    "def one_ten():\n",
    "    for i in range(1,11): print(i)\n",
    "one_ten()"
   ]
  },
  {
   "cell_type": "markdown",
   "metadata": {},
   "source": [
    "Explain the difference between a for loop and a while loop in Python.\n"
   ]
  },
  {
   "cell_type": "code",
   "execution_count": null,
   "metadata": {},
   "outputs": [],
   "source": [
    "ans :- if we know that how many time we should run the iteration then we use for loop else if we dont know exat number but a break condition is there we can use while loop ."
   ]
  },
  {
   "cell_type": "markdown",
   "metadata": {},
   "source": [
    "Write a Python program to calculate the sum of all numbers from 1 to 100 using a for loop.\n"
   ]
  },
  {
   "cell_type": "code",
   "execution_count": 3,
   "metadata": {},
   "outputs": [
    {
     "name": "stdout",
     "output_type": "stream",
     "text": [
      "5050\n"
     ]
    }
   ],
   "source": [
    "def sum_cal_one_100():\n",
    "    c=0\n",
    "    for i in range(1,101):\n",
    "        c+=i\n",
    "    print(c)\n",
    "sum_cal_one_100()"
   ]
  },
  {
   "cell_type": "markdown",
   "metadata": {},
   "source": [
    "How do you iterate through a list using a for loop in Python?\n"
   ]
  },
  {
   "cell_type": "code",
   "execution_count": null,
   "metadata": {},
   "outputs": [],
   "source": [
    "to iter a list we can do it by two ways 1st is iter with list values  or iter with index "
   ]
  },
  {
   "cell_type": "code",
   "execution_count": 5,
   "metadata": {},
   "outputs": [
    {
     "name": "stdout",
     "output_type": "stream",
     "text": [
      "1\n",
      "2\n",
      "3\n",
      "4\n",
      "5\n",
      "6\n",
      "7\n",
      "8\n",
      "9\n",
      "10\n",
      "1\n",
      "2\n",
      "3\n",
      "4\n",
      "5\n",
      "6\n",
      "7\n",
      "8\n",
      "9\n",
      "10\n"
     ]
    }
   ],
   "source": [
    "li=[1,2,3,4,5,6,7,8,9,10]\n",
    "# iter through values \n",
    "for i in li :\n",
    "    print (i)\n",
    "# iter with indexes\n",
    "for i in range(len(li)):\n",
    "    print(li[i])"
   ]
  },
  {
   "cell_type": "markdown",
   "metadata": {},
   "source": [
    "Write a Python program to find the product of all elements in a list using a for loop.\n"
   ]
  },
  {
   "cell_type": "code",
   "execution_count": 8,
   "metadata": {},
   "outputs": [
    {
     "name": "stdout",
     "output_type": "stream",
     "text": [
      "original list is {li}\n",
      "sum of all the value present in list is 55\n"
     ]
    }
   ],
   "source": [
    "print(\"original list is {li}\")\n",
    "def sum_li(li):\n",
    "    c=0\n",
    "    for i in li:\n",
    "        c+=i\n",
    "    return c\n",
    "sum_val = sum_li(li)\n",
    "print(f'sum of all the value present in list is {sum_val}')"
   ]
  },
  {
   "cell_type": "markdown",
   "metadata": {},
   "source": [
    "Create a Python program that prints all even numbers from 1 to 20 using a for loop.\n"
   ]
  },
  {
   "cell_type": "code",
   "execution_count": 10,
   "metadata": {},
   "outputs": [
    {
     "data": {
      "text/plain": [
       "[2, 4, 6, 8, 10, 12, 14, 16, 18, 20]"
      ]
     },
     "execution_count": 10,
     "metadata": {},
     "output_type": "execute_result"
    }
   ],
   "source": [
    "def even_nums():\n",
    "    li=[]\n",
    "    for i in range(1,21):\n",
    "        if i %2==0:\n",
    "            li.append(i)\n",
    "    return li\n",
    "even_nums()"
   ]
  },
  {
   "cell_type": "markdown",
   "metadata": {},
   "source": [
    "Write a Python program that calculates the factorial of a number using a for loop.\n"
   ]
  },
  {
   "cell_type": "code",
   "execution_count": 11,
   "metadata": {},
   "outputs": [
    {
     "data": {
      "text/plain": [
       "120"
      ]
     },
     "execution_count": 11,
     "metadata": {},
     "output_type": "execute_result"
    }
   ],
   "source": [
    "def factorial(num):\n",
    "    c=1\n",
    "    for i in range(1,num+1):\n",
    "        c*=i\n",
    "    return c\n",
    "factorial(5)\n"
   ]
  },
  {
   "cell_type": "markdown",
   "metadata": {},
   "source": [
    "How can you iterate through the characters of a string using a for loop in Python?\n"
   ]
  },
  {
   "cell_type": "code",
   "execution_count": 12,
   "metadata": {},
   "outputs": [
    {
     "name": "stdout",
     "output_type": "stream",
     "text": [
      "S\n",
      "t\n",
      "r\n",
      "i\n",
      "n\n",
      "g\n"
     ]
    }
   ],
   "source": [
    "# yes we can \n",
    "s='String'\n",
    "for i in s:\n",
    "    print(i)"
   ]
  },
  {
   "cell_type": "markdown",
   "metadata": {},
   "source": [
    "Write a Python program to find the largest number in a list using a for loop.\n"
   ]
  },
  {
   "cell_type": "code",
   "execution_count": 22,
   "metadata": {},
   "outputs": [
    {
     "name": "stdout",
     "output_type": "stream",
     "text": [
      "654\n"
     ]
    }
   ],
   "source": [
    "li = [12, 3, 1, 123, 4, 1, 3, 13, 132, 31, 35, 352, 4, 654, 3, 457, 45]\n",
    "\n",
    "def largeset(li):\n",
    "    for i in range(len(li)):\n",
    "        for j in range(i, len(li)-1):\n",
    "            if li[j] > li[j+1]:\n",
    "                li[j], li[j+1] = li[j+1], li[j]\n",
    "    return li[-1]  # Return the last element, which is the largest after sorting\n",
    "\n",
    "result = largeset(li)\n",
    "print(result)"
   ]
  },
  {
   "cell_type": "markdown",
   "metadata": {},
   "source": [
    "Create a Python program that prints the Fibonacci sequence up to a specified limit using a for loop.\n"
   ]
  },
  {
   "cell_type": "code",
   "execution_count": 27,
   "metadata": {},
   "outputs": [
    {
     "data": {
      "text/plain": [
       "[0, 1, 1, 2, 3, 5]"
      ]
     },
     "execution_count": 27,
     "metadata": {},
     "output_type": "execute_result"
    }
   ],
   "source": [
    "def fibo(limit):\n",
    "    a=0\n",
    "    b=1\n",
    "    li=[]\n",
    "    c=0\n",
    "    for i in range(limit+1):\n",
    "        li.append(c)\n",
    "        a=b\n",
    "        b=c\n",
    "        c=a+b\n",
    "    return li\n",
    "fibo(5)"
   ]
  },
  {
   "cell_type": "markdown",
   "metadata": {},
   "source": [
    "Write a Python program to reverse a list using a for loop.\n"
   ]
  },
  {
   "cell_type": "code",
   "execution_count": 29,
   "metadata": {},
   "outputs": [
    {
     "data": {
      "text/plain": [
       "[3, 1, 1, 3, 4, 12, 4, 3, 13, 31, 35, 45, 123, 132, 352, 457, 654]"
      ]
     },
     "execution_count": 29,
     "metadata": {},
     "output_type": "execute_result"
    }
   ],
   "source": [
    "li"
   ]
  },
  {
   "cell_type": "code",
   "execution_count": 34,
   "metadata": {},
   "outputs": [
    {
     "data": {
      "text/plain": [
       "[654, 457, 352, 132, 123, 45, 35, 31, 13, 3, 4, 12, 4, 3, 1, 1, 3]"
      ]
     },
     "execution_count": 34,
     "metadata": {},
     "output_type": "execute_result"
    }
   ],
   "source": [
    "\n",
    "def rev_list(li):\n",
    "    k=[]\n",
    "    for i in range(len(li)-1,-1,-1):\n",
    "        k.append(li[i])\n",
    "    return k \n",
    "rev_list(li)"
   ]
  },
  {
   "cell_type": "markdown",
   "metadata": {},
   "source": [
    "Write a Python program to find the common elements between two lists using a for loop.\n"
   ]
  },
  {
   "cell_type": "code",
   "execution_count": 36,
   "metadata": {},
   "outputs": [
    {
     "name": "stdout",
     "output_type": "stream",
     "text": [
      "list 1 is [3, 1, 1, 3, 4, 12, 4, 3, 13, 31, 35, 45, 123, 132, 352, 457, 654]\n",
      "list 2 is [1, 2, 3, 4, 5, 6, 7, 8, 9, 10, 11]\n",
      "common elements are [3, 1, 4]\n"
     ]
    }
   ],
   "source": [
    "print(f'list 1 is {li}')\n",
    "li2=[1,2,3,4,5,6,7,8,9,10,11]\n",
    "print(f'list 2 is {li2}')\n",
    "def common_element(li,li2):\n",
    "    c=[]\n",
    "    for i in li:\n",
    "        if i in li2 and i not in c:\n",
    "            c.append(i)\n",
    "    return c \n",
    "\n",
    "print(f'common elements are {common_element(li,li2)}')\n"
   ]
  },
  {
   "cell_type": "markdown",
   "metadata": {},
   "source": [
    "Explain how to use a for loop to iterate through the keys and values of a dictionary in Python.\n"
   ]
  },
  {
   "cell_type": "code",
   "execution_count": 37,
   "metadata": {},
   "outputs": [
    {
     "name": "stdout",
     "output_type": "stream",
     "text": [
      "John\n",
      "25\n",
      "New York\n",
      "False\n",
      "[90, 85, 92, 78]\n"
     ]
    }
   ],
   "source": [
    "my_dict = {\n",
    "    'name': 'John',\n",
    "    'age': 25,\n",
    "    'city': 'New York',\n",
    "    'is_student': False,\n",
    "    'grades': [90, 85, 92, 78]\n",
    "}\n",
    "for i in my_dict.values():\n",
    "    print(i)"
   ]
  },
  {
   "cell_type": "code",
   "execution_count": 38,
   "metadata": {},
   "outputs": [
    {
     "name": "stdout",
     "output_type": "stream",
     "text": [
      "name John\n",
      "age 25\n",
      "city New York\n",
      "is_student False\n",
      "grades [90, 85, 92, 78]\n"
     ]
    }
   ],
   "source": [
    "for i,j in my_dict.items():\n",
    "    print(i,j)"
   ]
  },
  {
   "cell_type": "code",
   "execution_count": 40,
   "metadata": {},
   "outputs": [
    {
     "name": "stdout",
     "output_type": "stream",
     "text": [
      "name\n",
      "age\n",
      "city\n",
      "is_student\n",
      "grades\n"
     ]
    }
   ],
   "source": [
    "for j in my_dict.keys():\n",
    "    print(j)"
   ]
  },
  {
   "cell_type": "markdown",
   "metadata": {},
   "source": [
    "Write a Python program to find the GCD (Greatest Common Divisor) of two numbers using a for loop.\n"
   ]
  },
  {
   "cell_type": "code",
   "execution_count": 42,
   "metadata": {},
   "outputs": [
    {
     "data": {
      "text/plain": [
       "4"
      ]
     },
     "execution_count": 42,
     "metadata": {},
     "output_type": "execute_result"
    }
   ],
   "source": [
    "def find_gcd(a, b):\n",
    "    for i in range(1, min(a, b) + 1):\n",
    "        if a % i == 0 and b % i == 0:\n",
    "            gcd = i\n",
    "    return gcd\n",
    "find_gcd(96, 28)"
   ]
  },
  {
   "cell_type": "markdown",
   "metadata": {},
   "source": [
    "Create a Python program that checks if a string is a palindrome using a for loop.\n"
   ]
  },
  {
   "cell_type": "code",
   "execution_count": 44,
   "metadata": {},
   "outputs": [
    {
     "data": {
      "text/plain": [
       "'not a palindrome'"
      ]
     },
     "execution_count": 44,
     "metadata": {},
     "output_type": "execute_result"
    }
   ],
   "source": [
    "def palindrome(x):\n",
    "    k=''\n",
    "    for i in range(len(x)-1,-1,-1):\n",
    "        k+=x[i]\n",
    "    if k.lower() == x.lower():\n",
    "        return \"palindrome\"\n",
    "    else:\n",
    "        return \"not a palindrome\"\n",
    "palindrome(\"hellow\")"
   ]
  },
  {
   "cell_type": "markdown",
   "metadata": {},
   "source": [
    "Write a Python program to remove duplicates from a list using a for loop.\n"
   ]
  },
  {
   "cell_type": "code",
   "execution_count": 53,
   "metadata": {},
   "outputs": [
    {
     "name": "stdout",
     "output_type": "stream",
     "text": [
      "[1, 2, 3, 4, 5]\n"
     ]
    }
   ],
   "source": [
    "def remove_duplicates(nums):\n",
    "    nums_set = set()\n",
    "    i = 0\n",
    "    while i < len(nums):\n",
    "        if nums[i] in nums_set:\n",
    "            nums.pop(i)\n",
    "        else:\n",
    "            nums_set.add(nums[i])\n",
    "            i += 1\n",
    "    return nums\n",
    "\n",
    "nums = [1, 1, 2, 3, 4, 5, 5, 4]\n",
    "print(remove_duplicates(nums))\n",
    "    "
   ]
  },
  {
   "cell_type": "markdown",
   "metadata": {},
   "source": [
    "Create a Python program that counts the number of words in a sentence using a for loop.\n"
   ]
  },
  {
   "cell_type": "code",
   "execution_count": 1,
   "metadata": {},
   "outputs": [
    {
     "data": {
      "text/plain": [
       "10"
      ]
     },
     "execution_count": 1,
     "metadata": {},
     "output_type": "execute_result"
    }
   ],
   "source": [
    "def number_count(x):\n",
    "    c=0\n",
    "    for i in x:\n",
    "        if ord(i)==32:\n",
    "            pass\n",
    "        else:\n",
    "            c+=1\n",
    "    return c\n",
    "number_count('Hello World')"
   ]
  },
  {
   "cell_type": "markdown",
   "metadata": {},
   "source": [
    "Write a Python program to find the sum of all odd numbers from 1 to 50 using a for loop.\n"
   ]
  },
  {
   "cell_type": "code",
   "execution_count": 2,
   "metadata": {},
   "outputs": [
    {
     "data": {
      "text/plain": [
       "625"
      ]
     },
     "execution_count": 2,
     "metadata": {},
     "output_type": "execute_result"
    }
   ],
   "source": [
    "def odd_one_fifty():\n",
    "    c=0\n",
    "    for i in range(1,51):\n",
    "        if i%2==0:\n",
    "            pass\n",
    "        else:\n",
    "            c+=i\n",
    "    return c \n",
    "odd_one_fifty()"
   ]
  },
  {
   "cell_type": "markdown",
   "metadata": {},
   "source": [
    "Create a Python program that calculates the square root of a number using a for loop.\n"
   ]
  },
  {
   "cell_type": "code",
   "execution_count": 8,
   "metadata": {},
   "outputs": [
    {
     "data": {
      "text/plain": [
       "4"
      ]
     },
     "execution_count": 8,
     "metadata": {},
     "output_type": "execute_result"
    }
   ],
   "source": [
    "def sqrt_rev(x):\n",
    "  for i in range(0,x+1):\n",
    "    if i**2 == x:\n",
    "      return i\n",
    "  return 'No sqrt found for number {0}'.format(x)\n",
    "sqrt_rev(16)"
   ]
  },
  {
   "cell_type": "markdown",
   "metadata": {},
   "source": [
    "Write a Python program to find the LCM (Least Common Multiple) of two numbers using a for loop."
   ]
  },
  {
   "cell_type": "code",
   "execution_count": 9,
   "metadata": {},
   "outputs": [
    {
     "name": "stdout",
     "output_type": "stream",
     "text": [
      "The LCM of 12 and 18 is: 36\n"
     ]
    }
   ],
   "source": [
    "def lcm(x, y):\n",
    "  \"\"\"\n",
    "  This function finds the Least Common Multiple (LCM) of two numbers using a for loop.\n",
    "\n",
    "  Args:\n",
    "    x: The first number.\n",
    "    y: The second number.\n",
    "\n",
    "  Returns:\n",
    "    The LCM of x and y.\n",
    "  \"\"\"\n",
    "  # Initialize the LCM as the larger number\n",
    "  lcm = max(x, y)\n",
    "\n",
    "  # Loop until the LCM is divisible by both x and y\n",
    "  while True:\n",
    "    if lcm % x == 0 and lcm % y == 0:\n",
    "      break\n",
    "    lcm += 1\n",
    "\n",
    "  return lcm\n",
    "\n",
    "# Example usage\n",
    "num1 = 12\n",
    "num2 = 18\n",
    "\n",
    "lcm_value = lcm(num1, num2)\n",
    "\n",
    "print(f\"The LCM of {num1} and {num2} is: {lcm_value}\")"
   ]
  },
  {
   "cell_type": "markdown",
   "metadata": {},
   "source": [
    "# If else :\n",
    "\n",
    "\n"
   ]
  },
  {
   "cell_type": "markdown",
   "metadata": {},
   "source": [
    "Write a Python program to check if a number is positive, negative, or zero using an if-else statement.\n"
   ]
  },
  {
   "cell_type": "code",
   "execution_count": 10,
   "metadata": {},
   "outputs": [
    {
     "data": {
      "text/plain": [
       "'the number is zero :( '"
      ]
     },
     "execution_count": 10,
     "metadata": {},
     "output_type": "execute_result"
    }
   ],
   "source": [
    "def number_check(num):\n",
    "    if num >0:\n",
    "        return \"positive\"\n",
    "    if num < 0:\n",
    "        return \"negetive\"\n",
    "    if num == 0 : \n",
    "        return \"the number is zero :( \"\n",
    "number_check(0)"
   ]
  },
  {
   "cell_type": "markdown",
   "metadata": {},
   "source": [
    "Create a Python program that checks if a given number is even or odd using an if-else statement.\n"
   ]
  },
  {
   "cell_type": "code",
   "execution_count": 13,
   "metadata": {},
   "outputs": [
    {
     "data": {
      "text/plain": [
       "'the number is odd '"
      ]
     },
     "execution_count": 13,
     "metadata": {},
     "output_type": "execute_result"
    }
   ],
   "source": [
    "def odd_even(num):\n",
    "    if num % 2 ==0 :\n",
    "        return \"even\"\n",
    "    else:\n",
    "        return 'the number is odd '\n",
    "odd_even(1)"
   ]
  },
  {
   "cell_type": "markdown",
   "metadata": {},
   "source": [
    "How can you use nested if-else statements in Python, and provide an example?\n"
   ]
  },
  {
   "cell_type": "code",
   "execution_count": 15,
   "metadata": {},
   "outputs": [
    {
     "name": "stdout",
     "output_type": "stream",
     "text": [
      "0.5\n",
      "4\n",
      "1.5\n",
      "16\n",
      "2.5\n",
      "36\n",
      "3.5\n",
      "64\n",
      "4.5\n"
     ]
    }
   ],
   "source": [
    "li=[1,2,3,4,5,6,7,8,9]\n",
    "for i in li:\n",
    "    if i%2==0:\n",
    "        if i != 0:\n",
    "            print(i**2)\n",
    "        else:\n",
    "            if i == 3 :\n",
    "                pass\n",
    "    else:\n",
    "        print(i/2)"
   ]
  },
  {
   "cell_type": "markdown",
   "metadata": {},
   "source": [
    "Write a Python program that calculates the absolute value of a number using if-else.\n"
   ]
  },
  {
   "cell_type": "code",
   "execution_count": 16,
   "metadata": {},
   "outputs": [
    {
     "data": {
      "text/plain": [
       "10"
      ]
     },
     "execution_count": 16,
     "metadata": {},
     "output_type": "execute_result"
    }
   ],
   "source": [
    "def abso(num):\n",
    "    if num < 0:\n",
    "        return int(str(num)[1:])\n",
    "    else:\n",
    "        return num \n",
    "abso(-10)"
   ]
  },
  {
   "cell_type": "markdown",
   "metadata": {},
   "source": [
    "Create a Python program that checks if a given character is a vowel or consonant using if-else.\n"
   ]
  },
  {
   "cell_type": "code",
   "execution_count": 18,
   "metadata": {},
   "outputs": [
    {
     "data": {
      "text/plain": [
       "'Consonant'"
      ]
     },
     "execution_count": 18,
     "metadata": {},
     "output_type": "execute_result"
    }
   ],
   "source": [
    "def vowel_or_not(x):\n",
    "    li=[]\n",
    "    li.extend('AEIOU')\n",
    "    if x.upper() in li:\n",
    "        return 'Vowel'\n",
    "    else:\n",
    "        return \"Consonant\"\n",
    "vowel_or_not(\"b\")"
   ]
  },
  {
   "cell_type": "markdown",
   "metadata": {},
   "source": [
    "Write a Python program to determine if a user is eligible to vote based on their age using if-else.\n"
   ]
  },
  {
   "cell_type": "code",
   "execution_count": 19,
   "metadata": {},
   "outputs": [
    {
     "data": {
      "text/plain": [
       "True"
      ]
     },
     "execution_count": 19,
     "metadata": {},
     "output_type": "execute_result"
    }
   ],
   "source": [
    "def valid_voter(age):\n",
    "    if age>=18:\n",
    "        return True \n",
    "    elif age<0:\n",
    "        return \"Age can't be negetive\"\n",
    "    else:\n",
    "        return \"not a valid valid voter\"\n",
    "valid_voter(18)"
   ]
  },
  {
   "cell_type": "markdown",
   "metadata": {},
   "source": [
    "Write a Python program to check if a number is within a specified range using if-else.\n"
   ]
  },
  {
   "cell_type": "code",
   "execution_count": 22,
   "metadata": {},
   "outputs": [
    {
     "data": {
      "text/plain": [
       "(21, 'number in not in range')"
      ]
     },
     "execution_count": 22,
     "metadata": {},
     "output_type": "execute_result"
    }
   ],
   "source": [
    "def num_in_range(num,start_range,end_range):\n",
    "    if num in range(start_range,end_range+1):\n",
    "        return num,\"number in provided range\"\n",
    "    else:\n",
    "        return num,\"number in not in range\"\n",
    "num_in_range(21,10,20)\n"
   ]
  },
  {
   "cell_type": "markdown",
   "metadata": {},
   "source": [
    "Write a Python program to check if a string is empty or not using if-else.\n"
   ]
  },
  {
   "cell_type": "code",
   "execution_count": 23,
   "metadata": {},
   "outputs": [
    {
     "data": {
      "text/plain": [
       "'the string is empty'"
      ]
     },
     "execution_count": 23,
     "metadata": {},
     "output_type": "execute_result"
    }
   ],
   "source": [
    "def empty_str(x):\n",
    "    if x==\"\":\n",
    "        return \"the string is empty\"\n",
    "    else:\n",
    "        return \"the string is not empty\" \n",
    "empty_str(\"\")"
   ]
  },
  {
   "cell_type": "markdown",
   "metadata": {},
   "source": [
    "How do you use the \"assert\" statement in Python to add debugging checks within if-else blocks?\n"
   ]
  },
  {
   "cell_type": "code",
   "execution_count": 28,
   "metadata": {},
   "outputs": [
    {
     "name": "stdout",
     "output_type": "stream",
     "text": [
      "Number is not positive\n"
     ]
    }
   ],
   "source": [
    "def is_positive(number):\n",
    "  if number > 0:\n",
    "    assert True, \"Number is not positive\"\n",
    "    # Your code assuming the number is positive\n",
    "  else:\n",
    "    print(\"Number is not positive\")\n",
    "\n",
    "# print(is_positive(5))  # No error raised\n",
    "is_positive(-2)  # Raises AssertionError with the specified message"
   ]
  },
  {
   "cell_type": "markdown",
   "metadata": {},
   "source": [
    "Create a Python program that determines the eligibility of a person for a senior citizen discount based on age using if-else.\n"
   ]
  },
  {
   "cell_type": "code",
   "execution_count": 30,
   "metadata": {},
   "outputs": [
    {
     "data": {
      "text/plain": [
       "1200.0"
      ]
     },
     "execution_count": 30,
     "metadata": {},
     "output_type": "execute_result"
    }
   ],
   "source": [
    "def senior(age,item_price):\n",
    "    if age>60 :\n",
    "        item_price = item_price*0.80 # we give 20% discount\n",
    "        return item_price\n",
    "    else:\n",
    "        return item_price\n",
    "senior(61,1500)"
   ]
  },
  {
   "cell_type": "markdown",
   "metadata": {},
   "source": [
    "Write a Python program to categorize a given character as uppercase, lowercase, or neither using if-else.\n"
   ]
  },
  {
   "cell_type": "code",
   "execution_count": 31,
   "metadata": {},
   "outputs": [
    {
     "name": "stdout",
     "output_type": "stream",
     "text": [
      "The character 'A' is categorized as: uppercase\n"
     ]
    }
   ],
   "source": [
    "def categorize_character(char):\n",
    "  \"\"\"\n",
    "  This function categorizes a given character as uppercase, lowercase, or neither.\n",
    "\n",
    "  Args:\n",
    "    char: The character to categorize.\n",
    "\n",
    "  Returns:\n",
    "    A string indicating the category of the character: \"uppercase\", \"lowercase\", or \"neither\".\n",
    "  \"\"\"\n",
    "  if char.isupper():\n",
    "    return \"uppercase\"\n",
    "  elif char.islower():\n",
    "    return \"lowercase\"\n",
    "  else:\n",
    "    return \"neither\"\n",
    "\n",
    "# Example usage\n",
    "character = \"A\"\n",
    "category = categorize_character(character)\n",
    "\n",
    "print(f\"The character '{character}' is categorized as: {category}\")"
   ]
  },
  {
   "cell_type": "markdown",
   "metadata": {},
   "source": [
    "Write a Python program to determine the roots of a quadratic equation using if-else.\n"
   ]
  },
  {
   "cell_type": "code",
   "execution_count": 32,
   "metadata": {},
   "outputs": [
    {
     "name": "stdout",
     "output_type": "stream",
     "text": [
      "Root 1: 3.0\n",
      "Root 2: 2.0\n"
     ]
    }
   ],
   "source": [
    "import math  # for complex number operations\n",
    "\n",
    "def quadratic_roots(a, b, c):\n",
    "  \"\"\"\n",
    "  This function calculates the roots of a quadratic equation ax^2 + bx + c = 0.\n",
    "\n",
    "  Args:\n",
    "    a: The coefficient of the x^2 term.\n",
    "    b: The coefficient of the x term.\n",
    "    c: The constant term.\n",
    "\n",
    "  Returns:\n",
    "    A tuple containing the two roots of the equation. If the roots are complex, they are returned as complex numbers.\n",
    "  \"\"\"\n",
    "  discriminant = b**2 - 4 * a * c\n",
    "\n",
    "  if discriminant > 0:\n",
    "    # Real and distinct roots\n",
    "    root1 = (-b + math.sqrt(discriminant)) / (2 * a)\n",
    "    root2 = (-b - math.sqrt(discriminant)) / (2 * a)\n",
    "    return root1, root2\n",
    "  elif discriminant == 0:\n",
    "    # Real and equal roots\n",
    "    root = -b / (2 * a)\n",
    "    return root, root\n",
    "  else:\n",
    "    # Complex roots\n",
    "    real_part = -b / (2 * a)\n",
    "    imaginary_part = math.sqrt(-discriminant) / (2 * a)\n",
    "    root1 = complex(real_part, imaginary_part)\n",
    "    root2 = complex(real_part, -imaginary_part)\n",
    "    return root1, root2\n",
    "\n",
    "# Example usage\n",
    "a = 1\n",
    "b = -5\n",
    "c = 6\n",
    "\n",
    "root1, root2 = quadratic_roots(a, b, c)\n",
    "\n",
    "print(f\"Root 1: {root1}\")\n",
    "print(f\"Root 2: {root2}\")"
   ]
  },
  {
   "cell_type": "markdown",
   "metadata": {},
   "source": [
    "Create a Python program that checks if a given year is a century year or not using if-else.\n"
   ]
  },
  {
   "cell_type": "code",
   "execution_count": 33,
   "metadata": {},
   "outputs": [
    {
     "name": "stdout",
     "output_type": "stream",
     "text": [
      "2000 is a century year.\n"
     ]
    }
   ],
   "source": [
    "def is_century_year(year):\n",
    "  \"\"\"\n",
    "  This function checks if a given year is a century year.\n",
    "\n",
    "  Args:\n",
    "    year: The year to check.\n",
    "\n",
    "  Returns:\n",
    "    True if the year is a century year, False otherwise.\n",
    "  \"\"\"\n",
    "  if year % 100 == 0:\n",
    "    if year % 400 == 0:\n",
    "      return True # Century year divisible by 400 is a century year\n",
    "    else:\n",
    "      return False # Century year not divisible by 400 is not a century year\n",
    "  else:\n",
    "    return False # Non-century years are not century years\n",
    "\n",
    "# Example usage\n",
    "year = 2000\n",
    "\n",
    "if is_century_year(year):\n",
    "  print(f\"{year} is a century year.\")\n",
    "else:\n",
    "  print(f\"{year} is not a century year.\")"
   ]
  },
  {
   "cell_type": "markdown",
   "metadata": {},
   "source": [
    "Write a Python program to determine if a given number is a perfect square using if-else.\n"
   ]
  },
  {
   "cell_type": "code",
   "execution_count": 34,
   "metadata": {},
   "outputs": [
    {
     "name": "stdout",
     "output_type": "stream",
     "text": [
      "25 is a perfect square.\n"
     ]
    }
   ],
   "source": [
    "def is_perfect_square(num):\n",
    "  \"\"\"\n",
    "  This function checks if a given number is a perfect square.\n",
    "\n",
    "  Args:\n",
    "    num: The number to check.\n",
    "\n",
    "  Returns:\n",
    "    True if the number is a perfect square, False otherwise.\n",
    "  \"\"\"\n",
    "  if num < 1:\n",
    "    return False\n",
    "  \n",
    "  sqr_root = math.sqrt(num)\n",
    "  # Check if the square root is an integer\n",
    "  if sqr_root.is_integer():\n",
    "    return True\n",
    "  else:\n",
    "    return False\n",
    "\n",
    "# Example usage\n",
    "number = 25\n",
    "\n",
    "if is_perfect_square(number):\n",
    "  print(f\"{number} is a perfect square.\")\n",
    "else:\n",
    "  print(f\"{number} is not a perfect square.\")"
   ]
  },
  {
   "cell_type": "markdown",
   "metadata": {},
   "source": [
    "Explain the purpose of the \"continue\" and \"break\" statements within if-else loops.\n"
   ]
  },
  {
   "cell_type": "code",
   "execution_count": 35,
   "metadata": {},
   "outputs": [
    {
     "name": "stdout",
     "output_type": "stream",
     "text": [
      "0\n",
      "1\n",
      "2\n",
      "3\n",
      "4\n",
      "6\n",
      "7\n",
      "8\n",
      "Loop finished.\n"
     ]
    }
   ],
   "source": [
    "for i in range(10):\n",
    "  if i == 5:\n",
    "    continue # skip iteration when i is 5\n",
    "  print(i)\n",
    "  if i == 8:\n",
    "    break # terminate loop when i is 8\n",
    "\n",
    "print(\"Loop finished.\")"
   ]
  },
  {
   "cell_type": "markdown",
   "metadata": {},
   "source": [
    "Create a Python program that calculates the BMI (Body Mass Index) of a person based on their weight and height using if-else.\n"
   ]
  },
  {
   "cell_type": "code",
   "execution_count": 36,
   "metadata": {},
   "outputs": [
    {
     "name": "stdout",
     "output_type": "stream",
     "text": [
      "BMI: 24.22\n",
      "Category: Normal weight\n"
     ]
    }
   ],
   "source": [
    "def calculate_bmi(weight, height):\n",
    "  \"\"\"\n",
    "  This function calculates the BMI of a person based on their weight and height.\n",
    "\n",
    "  Args:\n",
    "    weight: The weight of the person in kilograms (kg).\n",
    "    height: The height of the person in meters (m).\n",
    "\n",
    "  Returns:\n",
    "    The BMI value of the person.\n",
    "  \"\"\"\n",
    "  bmi = weight / (height**2)\n",
    "  \n",
    "  # Categorize BMI based on WHO guidelines\n",
    "  if bmi < 18.5:\n",
    "    category = \"Underweight\"\n",
    "  elif bmi < 25:\n",
    "    category = \"Normal weight\"\n",
    "  elif bmi < 30:\n",
    "    category = \"Overweight\"\n",
    "  else:\n",
    "    category = \"Obese\"\n",
    "  \n",
    "  return bmi, category\n",
    "\n",
    "# Example usage\n",
    "weight = 70  # kg\n",
    "height = 1.70  # m\n",
    "\n",
    "bmi, category = calculate_bmi(weight, height)\n",
    "\n",
    "print(f\"BMI: {bmi:.2f}\")\n",
    "print(f\"Category: {category}\")"
   ]
  },
  {
   "cell_type": "markdown",
   "metadata": {},
   "source": [
    "How can you use the \"filter()\" function with if-else statements to filter elements from a list?\n"
   ]
  },
  {
   "cell_type": "code",
   "execution_count": 37,
   "metadata": {},
   "outputs": [
    {
     "name": "stdout",
     "output_type": "stream",
     "text": [
      "Even numbers: [2, 4, 6, 8, 10]\n"
     ]
    }
   ],
   "source": [
    "numbers = [1, 2, 3, 4, 5, 6, 7, 8, 9, 10]\n",
    "\n",
    "# Filter even numbers using lambda function\n",
    "even_numbers = list(filter(lambda x: x % 2 == 0, numbers))\n",
    "\n",
    "print(\"Even numbers:\", even_numbers)"
   ]
  },
  {
   "cell_type": "markdown",
   "metadata": {},
   "source": [
    "# Map :-"
   ]
  },
  {
   "cell_type": "markdown",
   "metadata": {},
   "source": [
    "Explain the purpose of the `map()` function in Python and provide an example of how it can be used to apply a function to each element of an iterable.\n"
   ]
  },
  {
   "cell_type": "code",
   "execution_count": 38,
   "metadata": {},
   "outputs": [
    {
     "name": "stdout",
     "output_type": "stream",
     "text": [
      "Original numbers: [1, 2, 3, 4, 5]\n",
      "Doubled numbers: [2, 4, 6, 8, 10]\n"
     ]
    }
   ],
   "source": [
    "def double(x):\n",
    "  \"\"\"\n",
    "  This function doubles the input value.\n",
    "  \"\"\"\n",
    "  return x * 2\n",
    "\n",
    "numbers = [1, 2, 3, 4, 5]\n",
    "\n",
    "# Use map to apply the double function to each element in numbers\n",
    "doubled_numbers = map(double, numbers)\n",
    "\n",
    "# Convert the iterator to a list\n",
    "doubled_numbers_list = list(doubled_numbers)\n",
    "\n",
    "print(f\"Original numbers: {numbers}\")\n",
    "print(f\"Doubled numbers: {doubled_numbers_list}\")\n"
   ]
  },
  {
   "cell_type": "markdown",
   "metadata": {},
   "source": [
    "Write a Python program that uses the `map()` function to square each element of a list of numbers.\n"
   ]
  },
  {
   "cell_type": "code",
   "execution_count": 40,
   "metadata": {},
   "outputs": [
    {
     "data": {
      "text/plain": [
       "[1, 4, 9, 16, 25]"
      ]
     },
     "execution_count": 40,
     "metadata": {},
     "output_type": "execute_result"
    }
   ],
   "source": [
    "def squre_nums(numbers):\n",
    "    result = list(map(lambda x:x**2,numbers))\n",
    "    return result\n",
    "squre_nums(numbers)"
   ]
  },
  {
   "cell_type": "markdown",
   "metadata": {},
   "source": [
    "How does the `map()` function differ from a list comprehension in Python, and when would you choose one over the other?\n"
   ]
  },
  {
   "cell_type": "code",
   "execution_count": null,
   "metadata": {},
   "outputs": [],
   "source": [
    "# map function create a map object where List comprehension creates a direct list ,\n",
    "# also map are good for large datasets and and we can use it for its consistency\n",
    "\n",
    "# is data is large we can use map function with another function like reduce or filter to clean or feature engineering \n",
    "# if data set is low and need less preprocessing then we can use list comprehension for that \n"
   ]
  },
  {
   "cell_type": "markdown",
   "metadata": {},
   "source": [
    "Create a Python program that uses the `map()` function to convert a list of names to uppercase.\n"
   ]
  },
  {
   "cell_type": "code",
   "execution_count": 41,
   "metadata": {},
   "outputs": [
    {
     "data": {
      "text/plain": [
       "['AISHIK', 'JOHNNY', 'HARA']"
      ]
     },
     "execution_count": 41,
     "metadata": {},
     "output_type": "execute_result"
    }
   ],
   "source": [
    "li=[\"Aishik\",'Johnny',\"Hara\"]\n",
    "def map_upper(x):\n",
    "    result= list(map(lambda a: a.upper(),x))\n",
    "    return result\n",
    "map_upper(li)"
   ]
  },
  {
   "cell_type": "markdown",
   "metadata": {},
   "source": [
    "Write a Python program that uses the `map()` function to calculate the length of each word in a list of strings.\n"
   ]
  },
  {
   "cell_type": "code",
   "execution_count": 43,
   "metadata": {},
   "outputs": [
    {
     "data": {
      "text/plain": [
       "[6, 6, 4]"
      ]
     },
     "execution_count": 43,
     "metadata": {},
     "output_type": "execute_result"
    }
   ],
   "source": [
    "def len_str(li):\n",
    "    result=list(map(lambda x: len(x),li))\n",
    "    return result\n",
    "len_str(li)"
   ]
  },
  {
   "cell_type": "markdown",
   "metadata": {},
   "source": [
    "How can you use the `map()` function to apply a custom function to elements of multiple lists simultaneously in Python?\n"
   ]
  },
  {
   "cell_type": "code",
   "execution_count": 45,
   "metadata": {},
   "outputs": [
    {
     "name": "stdout",
     "output_type": "stream",
     "text": [
      "[5, 7, 9]\n"
     ]
    }
   ],
   "source": [
    "def my_function(element1, element2):\n",
    "  \"\"\"\n",
    "  This function takes two elements and returns their sum.\n",
    "  \"\"\"\n",
    "  return element1 + element2\n",
    "\n",
    "list1 = [1, 2, 3]\n",
    "list2 = [4, 5, 6]\n",
    "\n",
    "combined_results = [my_function(x, y) for x, y in zip(list1, list2)]\n",
    "\n",
    "print(combined_results)\n"
   ]
  },
  {
   "cell_type": "markdown",
   "metadata": {},
   "source": [
    "Create a Python program that uses `map()` to convert a list of temperatures from Celsius to Fahrenheit.\n"
   ]
  },
  {
   "cell_type": "code",
   "execution_count": 46,
   "metadata": {},
   "outputs": [
    {
     "name": "stdout",
     "output_type": "stream",
     "text": [
      "[50.0, 68.0, 86.0]\n"
     ]
    }
   ],
   "source": [
    "def celsius_to_fahrenheit(celsius):\n",
    "  \"\"\"\n",
    "  This function converts a temperature from Celsius to Fahrenheit.\n",
    "  \"\"\"\n",
    "  return (celsius * 9/5) + 32\n",
    "\n",
    "temperatures_celsius = [10, 20, 30]\n",
    "\n",
    "# Convert temperatures to Fahrenheit using map\n",
    "temperatures_fahrenheit = map(celsius_to_fahrenheit, temperatures_celsius)\n",
    "\n",
    "print(list(temperatures_fahrenheit))"
   ]
  },
  {
   "cell_type": "markdown",
   "metadata": {},
   "source": [
    "Write a Python program that uses the `map()` function to round each element of a list of floating-point numbers to the nearest integer."
   ]
  },
  {
   "cell_type": "code",
   "execution_count": 47,
   "metadata": {},
   "outputs": [
    {
     "name": "stdout",
     "output_type": "stream",
     "text": [
      "[4, 1, 5, -3, 5]\n"
     ]
    }
   ],
   "source": [
    "def round_to_nearest_int(number):\n",
    "  \"\"\"\n",
    "  This function rounds a number to the nearest integer.\n",
    "  \"\"\"\n",
    "  return round(number)\n",
    "\n",
    "# Create a list of floating-point numbers\n",
    "floating_numbers = [3.5, 1.2, 4.7, -2.8, 5.0]\n",
    "\n",
    "# Use map to round each number to the nearest integer\n",
    "rounded_integers = map(round_to_nearest_int, floating_numbers)\n",
    "\n",
    "# Convert the map object to a list\n",
    "rounded_integers_list = list(rounded_integers)\n",
    "\n",
    "# Print the rounded integers\n",
    "print(rounded_integers_list)"
   ]
  },
  {
   "cell_type": "markdown",
   "metadata": {},
   "source": [
    "# Reduce :-"
   ]
  },
  {
   "cell_type": "markdown",
   "metadata": {},
   "source": [
    "What is the `reduce()` function in Python, and what module should you import to use it? Provide an example of its basic usage.\n"
   ]
  },
  {
   "cell_type": "code",
   "execution_count": 1,
   "metadata": {},
   "outputs": [
    {
     "name": "stdout",
     "output_type": "stream",
     "text": [
      "15\n"
     ]
    }
   ],
   "source": [
    "#reduce used for reduce a list with specific operation and return a single value\n",
    "# for reduce we can use functools\n",
    "from functools import reduce\n",
    "li=[1,2,3,4,5]\n",
    "result=reduce(lambda a,b:a+b,li)\n",
    "print(result)"
   ]
  },
  {
   "cell_type": "markdown",
   "metadata": {},
   "source": [
    "Write a Python program that uses the `reduce()` function to find the product of all elements in a list.\n"
   ]
  },
  {
   "cell_type": "code",
   "execution_count": 2,
   "metadata": {},
   "outputs": [
    {
     "data": {
      "text/plain": [
       "120"
      ]
     },
     "execution_count": 2,
     "metadata": {},
     "output_type": "execute_result"
    }
   ],
   "source": [
    "li=[1,2,3,4,5]\n",
    "def prod_list(li):\n",
    "    result = reduce(lambda a,b:a*b,li)\n",
    "    return result\n",
    "prod_list(li)"
   ]
  },
  {
   "cell_type": "markdown",
   "metadata": {},
   "source": [
    "Create a Python program that uses `reduce()` to find the maximum element in a list of numbers.\n"
   ]
  },
  {
   "cell_type": "code",
   "execution_count": 3,
   "metadata": {},
   "outputs": [
    {
     "data": {
      "text/plain": [
       "817"
      ]
     },
     "execution_count": 3,
     "metadata": {},
     "output_type": "execute_result"
    }
   ],
   "source": [
    "li=[1,2,3,4,5,10,87,0,817,12,31]\n",
    "def max_nums(li):\n",
    "    result= reduce(lambda a,b:a if a> b else b,li)\n",
    "    return result\n",
    "max_nums(li)"
   ]
  },
  {
   "cell_type": "markdown",
   "metadata": {},
   "source": [
    "How can you use the `reduce()` function to concatenate a list of strings into a single string?\n"
   ]
  },
  {
   "cell_type": "code",
   "execution_count": 4,
   "metadata": {},
   "outputs": [
    {
     "data": {
      "text/plain": [
       "'Aishik Johnny Pandas'"
      ]
     },
     "execution_count": 4,
     "metadata": {},
     "output_type": "execute_result"
    }
   ],
   "source": [
    "li=['Aishik','Johnny','Pandas']\n",
    "def list_of_str_to_str(li):\n",
    "    result = reduce(lambda a,b:a+\" \"+b,li)\n",
    "    return result\n",
    "list_of_str_to_str(li)"
   ]
  },
  {
   "cell_type": "markdown",
   "metadata": {},
   "source": [
    "Write a Python program that calculates the factorial of a number using the `reduce()` function.\n"
   ]
  },
  {
   "cell_type": "code",
   "execution_count": 5,
   "metadata": {},
   "outputs": [
    {
     "data": {
      "text/plain": [
       "3628800"
      ]
     },
     "execution_count": 5,
     "metadata": {},
     "output_type": "execute_result"
    }
   ],
   "source": [
    "def factorial(num):\n",
    "    li=[x for x in range(1,num+1)]\n",
    "    result = reduce(lambda a,b : a*b , li ) \n",
    "    return result\n",
    "factorial(10)"
   ]
  },
  {
   "cell_type": "markdown",
   "metadata": {},
   "source": [
    "Create a Python program that uses `reduce()` to find the GCD (Greatest Common Divisor) of a list of numbers.\n"
   ]
  },
  {
   "cell_type": "code",
   "execution_count": 8,
   "metadata": {},
   "outputs": [
    {
     "name": "stdout",
     "output_type": "stream",
     "text": [
      "12\n"
     ]
    }
   ],
   "source": [
    "def gcd(a, b):\n",
    "    while b != 0:\n",
    "        a, b = b, a % b\n",
    "    return a\n",
    "\n",
    "def gcds(numbers):\n",
    "    return reduce(gcd, numbers)\n",
    "\n",
    "numbers = [12, 48, 72]\n",
    "print(gcds(numbers))"
   ]
  },
  {
   "cell_type": "markdown",
   "metadata": {},
   "source": [
    "Write a Python program that uses the `reduce()` function to find the sum of the digits of a given number."
   ]
  },
  {
   "cell_type": "code",
   "execution_count": 21,
   "metadata": {},
   "outputs": [
    {
     "data": {
      "text/plain": [
       "17"
      ]
     },
     "execution_count": 21,
     "metadata": {},
     "output_type": "execute_result"
    }
   ],
   "source": [
    "def digit_sum(num):\n",
    "    li = []  \n",
    "    li.extend(str(num)) \n",
    "    result = reduce (lambda a,b:int(a)+int(b),li)\n",
    "    return result\n",
    "digit_sum(89)"
   ]
  },
  {
   "cell_type": "markdown",
   "metadata": {},
   "source": [
    "# Filter :-"
   ]
  },
  {
   "cell_type": "markdown",
   "metadata": {},
   "source": [
    "Explain the purpose of the `filter()` function in Python and provide an example of how it can be used to filter elements from an iterable.\n"
   ]
  },
  {
   "cell_type": "code",
   "execution_count": 4,
   "metadata": {},
   "outputs": [
    {
     "data": {
      "text/plain": [
       "[2, 4, 6, 8]"
      ]
     },
     "execution_count": 4,
     "metadata": {},
     "output_type": "execute_result"
    }
   ],
   "source": [
    "# filter function used for filter the data with condition , also if condition satisfied then it return it as answear \n",
    "li=[1,2,3,4,5,6,7,8]\n",
    "list(filter(lambda x:x if x%2==0 else None,li))"
   ]
  },
  {
   "cell_type": "markdown",
   "metadata": {},
   "source": [
    "Write a Python program that uses the `filter()` function to select even numbers from a list of integers.\n"
   ]
  },
  {
   "cell_type": "code",
   "execution_count": 5,
   "metadata": {},
   "outputs": [
    {
     "data": {
      "text/plain": [
       "[2, 4, 6, 8]"
      ]
     },
     "execution_count": 5,
     "metadata": {},
     "output_type": "execute_result"
    }
   ],
   "source": [
    "li=[1,2,3,4,5,6,7,8]\n",
    "list(filter(lambda x:x if x%2==0 else None,li))"
   ]
  },
  {
   "cell_type": "markdown",
   "metadata": {},
   "source": [
    "Create a Python program that uses the `filter()` function to select names that start with a specific letter from a list of strings.\n"
   ]
  },
  {
   "cell_type": "code",
   "execution_count": 16,
   "metadata": {},
   "outputs": [
    {
     "name": "stdout",
     "output_type": "stream",
     "text": [
      "['Johnny']\n"
     ]
    }
   ],
   "source": [
    "names = ['Aishik', 'Johnny', 'hara', 'piyush']\n",
    "\n",
    "def filter_names(names, *filter_words):\n",
    "    result = list(filter(lambda x: x if x[0].lower() in filter_words else None, names))\n",
    "    return result\n",
    "\n",
    "filtered_names = filter_names(names, 'j', 'k', 'l')\n",
    "print(filtered_names)"
   ]
  },
  {
   "cell_type": "markdown",
   "metadata": {},
   "source": [
    "Write a Python program that uses the `filter()` function to select prime numbers from a list of integers.\n"
   ]
  },
  {
   "cell_type": "code",
   "execution_count": 11,
   "metadata": {},
   "outputs": [
    {
     "data": {
      "text/plain": [
       "[2,\n",
       " 3,\n",
       " 5,\n",
       " 7,\n",
       " 11,\n",
       " 13,\n",
       " 17,\n",
       " 19,\n",
       " 23,\n",
       " 29,\n",
       " 31,\n",
       " 37,\n",
       " 41,\n",
       " 43,\n",
       " 47,\n",
       " 53,\n",
       " 59,\n",
       " 61,\n",
       " 67,\n",
       " 71,\n",
       " 73,\n",
       " 79,\n",
       " 83,\n",
       " 89,\n",
       " 97]"
      ]
     },
     "execution_count": 11,
     "metadata": {},
     "output_type": "execute_result"
    }
   ],
   "source": [
    "li=[x for x in range(1,101)]\n",
    "def is_prime(li):\n",
    "    result = list(filter(lambda x: all(x % i != 0 for i in range(2, int(x**0.5) + 1)) and x > 1,li))\n",
    "    return result \n",
    "is_prime(li)"
   ]
  },
  {
   "cell_type": "markdown",
   "metadata": {},
   "source": [
    "How can you use the `filter()` function to remove None values from a list in Python?\n"
   ]
  },
  {
   "cell_type": "code",
   "execution_count": 13,
   "metadata": {},
   "outputs": [
    {
     "name": "stdout",
     "output_type": "stream",
     "text": [
      "[1, 2, 3, None, None, None, None, None, 90]\n"
     ]
    },
    {
     "data": {
      "text/plain": [
       "[1, 2, 3, 90]"
      ]
     },
     "execution_count": 13,
     "metadata": {},
     "output_type": "execute_result"
    }
   ],
   "source": [
    "li=[1,2,3,None,None,None,None,None,90]\n",
    "print(li)\n",
    "def null_rem(li):\n",
    "    result = list(filter(lambda x:x if x != None else None,li))\n",
    "    return result\n",
    "null_rem(li)"
   ]
  },
  {
   "cell_type": "markdown",
   "metadata": {},
   "source": [
    "Create a Python program that uses `filter()` to select words longer than a certain length from a list of strings.\n"
   ]
  },
  {
   "cell_type": "code",
   "execution_count": 18,
   "metadata": {},
   "outputs": [
    {
     "name": "stdout",
     "output_type": "stream",
     "text": [
      "['Aishik', 'Johnny', 'piyush']\n"
     ]
    }
   ],
   "source": [
    "names = ['Aishik', 'Johnny', 'hara', 'piyush']\n",
    "\n",
    "def filter_name_by_length(names, length):\n",
    "    result = list(filter(lambda x: x if len(x) > length else None, names))\n",
    "    return result\n",
    "\n",
    "filtered_names = filter_name_by_length(names, 5)\n",
    "print(filtered_names)\n"
   ]
  },
  {
   "cell_type": "markdown",
   "metadata": {},
   "source": [
    "Write a Python program that uses the `filter()` function to select elements greater than a specified threshold from a list of values."
   ]
  },
  {
   "cell_type": "code",
   "execution_count": 20,
   "metadata": {},
   "outputs": [
    {
     "data": {
      "text/plain": [
       "[53, 59, 61, 67, 71, 73, 79, 83, 89, 97]"
      ]
     },
     "execution_count": 20,
     "metadata": {},
     "output_type": "execute_result"
    }
   ],
   "source": [
    "li=[2,3,5,7,11,13,17,19,23,29,31,37,41,43,47,53,59,61,67,71,73,79,83,89,97]\n",
    "def grater_trashhold(li):\n",
    "    result= list(filter(lambda x:x if x>50 else None,li))\n",
    "    return result\n",
    "grater_trashhold(li)"
   ]
  },
  {
   "cell_type": "markdown",
   "metadata": {},
   "source": [
    "# Recursion:-\n",
    "\n"
   ]
  },
  {
   "cell_type": "markdown",
   "metadata": {},
   "source": [
    "Explain the concept of recursion in Python. How does it differ from iteration?\n"
   ]
  },
  {
   "cell_type": "code",
   "execution_count": 5,
   "metadata": {},
   "outputs": [
    {
     "data": {
      "text/plain": [
       "120"
      ]
     },
     "execution_count": 5,
     "metadata": {},
     "output_type": "execute_result"
    }
   ],
   "source": [
    "# when a function is called inside the same function then this fenominon known as recursion . \n",
    "# it is completely different then iteration . where iteration used to iter over a data structure recursion create a new value of a variable using recursive pattern.\n",
    "def factorial(n):\n",
    "    # Base case\n",
    "    if n == 0 or n == 1:\n",
    "        return 1\n",
    "    # Recursive case\n",
    "    else:\n",
    "        return n * factorial(n - 1)\n",
    "factorial(5)"
   ]
  },
  {
   "cell_type": "markdown",
   "metadata": {},
   "source": [
    "Write a Python program to calculate the factorial of a number using recursion.\n"
   ]
  },
  {
   "cell_type": "code",
   "execution_count": 6,
   "metadata": {},
   "outputs": [
    {
     "data": {
      "text/plain": [
       "120"
      ]
     },
     "execution_count": 6,
     "metadata": {},
     "output_type": "execute_result"
    }
   ],
   "source": [
    "def factorial(n):\n",
    "    # Base case\n",
    "    if n == 0 or n == 1:\n",
    "        return 1\n",
    "    # Recursive case\n",
    "    else:\n",
    "        return n * factorial(n - 1)\n",
    "factorial(5)"
   ]
  },
  {
   "cell_type": "markdown",
   "metadata": {},
   "source": [
    "Create a recursive Python function to find the nth Fibonacci number.\n"
   ]
  },
  {
   "cell_type": "code",
   "execution_count": 8,
   "metadata": {},
   "outputs": [
    {
     "data": {
      "text/plain": [
       "55"
      ]
     },
     "execution_count": 8,
     "metadata": {},
     "output_type": "execute_result"
    }
   ],
   "source": [
    "def fibo(n):\n",
    "    if n==0:\n",
    "        return 0 \n",
    "    elif n==1:\n",
    "        return 1 \n",
    "    else:\n",
    "        return fibo(n-1) + fibo(n-2)\n",
    "fibo(10) "
   ]
  },
  {
   "cell_type": "markdown",
   "metadata": {},
   "source": [
    "Write a recursive Python function to calculate the sum of all elements in a list.\n"
   ]
  },
  {
   "cell_type": "code",
   "execution_count": 10,
   "metadata": {},
   "outputs": [
    {
     "data": {
      "text/plain": [
       "36"
      ]
     },
     "execution_count": 10,
     "metadata": {},
     "output_type": "execute_result"
    }
   ],
   "source": [
    "li=[1,2,3,4,5,6,7,8]\n",
    "def recursive_sum(lst):\n",
    "    # Base case: an empty list has a sum of 0\n",
    "    if not lst:\n",
    "        return 0\n",
    "    # Recursive case: sum the first element with the sum of the rest of the list\n",
    "    else:\n",
    "        return lst[0] + recursive_sum(lst[1:])\n",
    "    \n",
    "recursive_sum(li)"
   ]
  },
  {
   "cell_type": "markdown",
   "metadata": {},
   "source": [
    "How can you prevent a recursive function from running indefinitely, causing a stack overflow error?\n"
   ]
  },
  {
   "cell_type": "code",
   "execution_count": 11,
   "metadata": {},
   "outputs": [
    {
     "name": "stdout",
     "output_type": "stream",
     "text": [
      "The factorial is: 120\n"
     ]
    }
   ],
   "source": [
    "def factorial(n):\n",
    "    # Base case: factorial of 0 or 1 is 1\n",
    "    if n == 0 or n == 1:\n",
    "        return 1\n",
    "    else:\n",
    "        # Recursive case: move closer to the base case\n",
    "        return n * factorial(n - 1)\n",
    "\n",
    "# Example usage\n",
    "result = factorial(5)\n",
    "print(f\"The factorial is: {result}\")"
   ]
  },
  {
   "cell_type": "markdown",
   "metadata": {},
   "source": [
    "Create a recursive Python function to find the greatest common divisor (GCD) of two numbers using the Euclidean algorithm.\n"
   ]
  },
  {
   "cell_type": "code",
   "execution_count": 12,
   "metadata": {},
   "outputs": [
    {
     "name": "stdout",
     "output_type": "stream",
     "text": [
      "The GCD of 48 and 18 is: 6\n"
     ]
    }
   ],
   "source": [
    "def euclidean_gcd(a, b):\n",
    "    # Base case: GCD(a, 0) = a and GCD(0, b) = b\n",
    "    if b == 0:\n",
    "        return a\n",
    "    else:\n",
    "        # Recursive case: GCD(a, b) = GCD(b, a % b)\n",
    "        return euclidean_gcd(b, a % b)\n",
    "\n",
    "# Example usage\n",
    "num1 = 48\n",
    "num2 = 18\n",
    "result = euclidean_gcd(num1, num2)\n",
    "print(f\"The GCD of {num1} and {num2} is: {result}\")"
   ]
  },
  {
   "cell_type": "markdown",
   "metadata": {},
   "source": [
    "Write a recursive Python function to reverse a string.\n"
   ]
  },
  {
   "cell_type": "code",
   "execution_count": 13,
   "metadata": {},
   "outputs": [
    {
     "name": "stdout",
     "output_type": "stream",
     "text": [
      "The original string: Hello, World!\n",
      "The reversed string: !dlroW ,olleH\n"
     ]
    }
   ],
   "source": [
    "def reverse_string(input_str):\n",
    "    # Base case: an empty string or a string with one character is already reversed\n",
    "    if len(input_str) <= 1:\n",
    "        return input_str\n",
    "    else:\n",
    "        # Recursive case: reverse the substring excluding the first character,\n",
    "        # and concatenate it with the first character\n",
    "        return reverse_string(input_str[1:]) + input_str[0]\n",
    "\n",
    "# Example usage\n",
    "original_str = \"Hello, World!\"\n",
    "reversed_str = reverse_string(original_str)\n",
    "print(f\"The original string: {original_str}\")\n",
    "print(f\"The reversed string: {reversed_str}\")\n"
   ]
  },
  {
   "cell_type": "markdown",
   "metadata": {},
   "source": [
    "Create a recursive Python function to calculate the power of a number (x^n).\n"
   ]
  },
  {
   "cell_type": "code",
   "execution_count": 14,
   "metadata": {},
   "outputs": [
    {
     "name": "stdout",
     "output_type": "stream",
     "text": [
      "2 raised to the power of 3 is: 8\n"
     ]
    }
   ],
   "source": [
    "def power(x, n):\n",
    "    # Base case: x^0 = 1\n",
    "    if n == 0:\n",
    "        return 1\n",
    "    # Recursive case: x^n = x * x^(n-1)\n",
    "    else:\n",
    "        return x * power(x, n - 1)\n",
    "\n",
    "# Example usage\n",
    "base = 2\n",
    "exponent = 3\n",
    "result = power(base, exponent)\n",
    "print(f\"{base} raised to the power of {exponent} is: {result}\")\n"
   ]
  },
  {
   "cell_type": "markdown",
   "metadata": {},
   "source": [
    "Write a recursive Python function to find all permutations of a given string.\n"
   ]
  },
  {
   "cell_type": "code",
   "execution_count": 15,
   "metadata": {},
   "outputs": [
    {
     "name": "stdout",
     "output_type": "stream",
     "text": [
      "All permutations of 'abc': ['abc', 'acb', 'bac', 'bca', 'cab', 'cba']\n"
     ]
    }
   ],
   "source": [
    "def generate_permutations(s):\n",
    "    # Base case: an empty string has only one permutation, itself\n",
    "    if len(s) == 0:\n",
    "        return [\"\"]\n",
    "    \n",
    "    all_permutations = []\n",
    "    for i in range(len(s)):\n",
    "        # Fix the first character and recursively find permutations of the remaining characters\n",
    "        fixed_char = s[i]\n",
    "        remaining_chars = s[:i] + s[i+1:]\n",
    "        permutations_of_remaining = generate_permutations(remaining_chars)\n",
    "\n",
    "        # Append the fixed character to each permutation of the remaining characters\n",
    "        all_permutations.extend([fixed_char + perm for perm in permutations_of_remaining])\n",
    "\n",
    "    return all_permutations\n",
    "\n",
    "# Example usage\n",
    "input_str = \"abc\"\n",
    "result = generate_permutations(input_str)\n",
    "print(f\"All permutations of '{input_str}': {result}\")\n"
   ]
  },
  {
   "cell_type": "markdown",
   "metadata": {},
   "source": [
    "Write a recursive Python function to check if a string is a palindrome.\n"
   ]
  },
  {
   "cell_type": "code",
   "execution_count": 16,
   "metadata": {},
   "outputs": [
    {
     "name": "stdout",
     "output_type": "stream",
     "text": [
      "The string 'level' is a palindrome.\n"
     ]
    }
   ],
   "source": [
    "def is_palindrome(s):\n",
    "    # Base case: an empty string or a string with one character is a palindrome\n",
    "    if len(s) <= 1:\n",
    "        return True\n",
    "    # Recursive case: compare the first and last characters, and check the rest\n",
    "    elif s[0] == s[-1]:\n",
    "        return is_palindrome(s[1:-1])\n",
    "    else:\n",
    "        return False\n",
    "\n",
    "# Example usage\n",
    "test_string = \"level\"\n",
    "result = is_palindrome(test_string)\n",
    "if result:\n",
    "    print(f\"The string '{test_string}' is a palindrome.\")\n",
    "else:\n",
    "    print(f\"The string '{test_string}' is not a palindrome.\")\n"
   ]
  },
  {
   "cell_type": "markdown",
   "metadata": {},
   "source": [
    "Create a recursive Python function to generate all possible combinations of a list of elements."
   ]
  },
  {
   "cell_type": "code",
   "execution_count": 18,
   "metadata": {},
   "outputs": [
    {
     "name": "stdout",
     "output_type": "stream",
     "text": [
      "All combinations of [1, 2, 3]: [[1, 2], [1, 3], [2, 3]]\n"
     ]
    }
   ],
   "source": [
    "def generate_combinations(elements, r=None):\n",
    "    if r is None:\n",
    "        r = len(elements)\n",
    "\n",
    "    def generate_combinations_helper(curr_combination, remaining_elements, remaining_count):\n",
    "        # Base case: if the combination is complete, add it to the result\n",
    "        if remaining_count == 0:\n",
    "            all_combinations.append(curr_combination)\n",
    "            return\n",
    "\n",
    "        # Recursive case: try combinations with each remaining element\n",
    "        for i in range(len(remaining_elements)):\n",
    "            updated_combination = curr_combination + [remaining_elements[i]]\n",
    "            updated_remaining = remaining_elements[i + 1:]\n",
    "            generate_combinations_helper(updated_combination, updated_remaining, remaining_count - 1)\n",
    "\n",
    "    all_combinations = []\n",
    "    generate_combinations_helper([], elements, r)\n",
    "    return all_combinations\n",
    "\n",
    "# Example usage\n",
    "input_list = [1, 2, 3]\n",
    "result = generate_combinations(input_list,2)\n",
    "print(f\"All combinations of {input_list}: {result}\")\n"
   ]
  },
  {
   "cell_type": "markdown",
   "metadata": {},
   "source": [
    "# Basics of Functions:\n",
    "\n"
   ]
  },
  {
   "cell_type": "markdown",
   "metadata": {},
   "source": [
    "What is a function in Python, and why is it used?\n"
   ]
  },
  {
   "cell_type": "code",
   "execution_count": 1,
   "metadata": {},
   "outputs": [
    {
     "data": {
      "text/plain": [
       "12"
      ]
     },
     "execution_count": 1,
     "metadata": {},
     "output_type": "execute_result"
    }
   ],
   "source": [
    "#  helps to solve a particular problems , it maybe system function or maybe user define function \n",
    "# when we create a function we dont have to write same for same problem we call the function to solve the problem \n"
   ]
  },
  {
   "cell_type": "markdown",
   "metadata": {},
   "source": [
    "How do you define a function in Python? Provide an example.\n",
    "\n"
   ]
  },
  {
   "cell_type": "code",
   "execution_count": 2,
   "metadata": {},
   "outputs": [
    {
     "data": {
      "text/plain": [
       "12"
      ]
     },
     "execution_count": 2,
     "metadata": {},
     "output_type": "execute_result"
    }
   ],
   "source": [
    "# to define a function we use \"def\" key word . \n",
    "def o_sum(x,y):\n",
    "    return x+y\n",
    "o_sum(5,7)"
   ]
  },
  {
   "cell_type": "markdown",
   "metadata": {},
   "source": [
    "Explain the difference between a function definition and a function call.\n"
   ]
  },
  {
   "cell_type": "code",
   "execution_count": 3,
   "metadata": {},
   "outputs": [
    {
     "data": {
      "text/plain": [
       "9"
      ]
     },
     "execution_count": 3,
     "metadata": {},
     "output_type": "execute_result"
    }
   ],
   "source": [
    "# to define a function we use def keyword \n",
    "def o_sum(x,y):\n",
    "    # logic\n",
    "    return x+y\n",
    "# to call the function we can use function name that we pre define \n",
    "o_sum(4,5)"
   ]
  },
  {
   "cell_type": "markdown",
   "metadata": {},
   "source": [
    "Write a Python program that defines a function to calculate the sum of two numbers and then calls the function.\n"
   ]
  },
  {
   "cell_type": "code",
   "execution_count": 4,
   "metadata": {},
   "outputs": [
    {
     "data": {
      "text/plain": [
       "9"
      ]
     },
     "execution_count": 4,
     "metadata": {},
     "output_type": "execute_result"
    }
   ],
   "source": [
    "def o_sum(x,y):\n",
    "    # logic\n",
    "    return x+y\n",
    "# to call the function we can use function name that we pre define \n",
    "o_sum(4,5)"
   ]
  },
  {
   "cell_type": "markdown",
   "metadata": {},
   "source": [
    "What is a function signature, and what information does it typically include?\n"
   ]
  },
  {
   "cell_type": "code",
   "execution_count": null,
   "metadata": {},
   "outputs": [],
   "source": [
    "#consists of the function prototype. It specifies the general information about a function like the name, scope and parameters"
   ]
  },
  {
   "cell_type": "markdown",
   "metadata": {},
   "source": [
    "Create a Python function that takes two arguments and returns their product."
   ]
  },
  {
   "cell_type": "code",
   "execution_count": 5,
   "metadata": {},
   "outputs": [
    {
     "data": {
      "text/plain": [
       "20"
      ]
     },
     "execution_count": 5,
     "metadata": {},
     "output_type": "execute_result"
    }
   ],
   "source": [
    "def prod(x,y):\n",
    "    return x*y\n",
    "prod(10,2)"
   ]
  },
  {
   "cell_type": "markdown",
   "metadata": {},
   "source": [
    "# Function Parameters and Arguments:\n",
    "\n"
   ]
  },
  {
   "cell_type": "markdown",
   "metadata": {},
   "source": [
    "Explain the concepts of formal parameters and actual arguments in Python functions.\n"
   ]
  },
  {
   "cell_type": "code",
   "execution_count": null,
   "metadata": {},
   "outputs": [],
   "source": [
    "# Formal parameters are the placeholders used in the function definition to represent the values that the function expects to receive when it is called.\n",
    "#Actual arguments are the values passed to a function when it is called. These values are assigned to the corresponding formal parameters defined in the function."
   ]
  },
  {
   "cell_type": "markdown",
   "metadata": {},
   "source": [
    "Write a Python program that defines a function with default argument values.\n"
   ]
  },
  {
   "cell_type": "code",
   "execution_count": 6,
   "metadata": {},
   "outputs": [
    {
     "name": "stdout",
     "output_type": "stream",
     "text": [
      "63\n",
      "56\n"
     ]
    }
   ],
   "source": [
    "def de_sum(x=7,y=9):\n",
    "    return x*y\n",
    "print(de_sum())\n",
    "print(de_sum(7,8))"
   ]
  },
  {
   "cell_type": "markdown",
   "metadata": {},
   "source": [
    "How do you use keyword arguments in Python function calls? Provide an example.\n"
   ]
  },
  {
   "cell_type": "code",
   "execution_count": 8,
   "metadata": {},
   "outputs": [
    {
     "data": {
      "text/plain": [
       "'Aishik , your roll number is 90, Welcome to the class thanks for joining PWskills'"
      ]
     },
     "execution_count": 8,
     "metadata": {},
     "output_type": "execute_result"
    }
   ],
   "source": [
    "def xyz(name,roll_no,m='Welcome to the class'):\n",
    "    return f'{name} , your roll number is {roll_no}, {m} thanks for joining PWskills'\n",
    "xyz('Aishik',90)"
   ]
  },
  {
   "cell_type": "markdown",
   "metadata": {},
   "source": [
    "Create a Python function that accepts a variable number of arguments and calculates their sum.\n"
   ]
  },
  {
   "cell_type": "code",
   "execution_count": 11,
   "metadata": {},
   "outputs": [
    {
     "data": {
      "text/plain": [
       "21"
      ]
     },
     "execution_count": 11,
     "metadata": {},
     "output_type": "execute_result"
    }
   ],
   "source": [
    "def var_sum(*x):\n",
    "    return sum(x)\n",
    "var_sum(1,2,3,4,5,6)"
   ]
  },
  {
   "cell_type": "markdown",
   "metadata": {},
   "source": [
    "What is the purpose of the `*args` and `**kwargs` syntax in function parameter lists?"
   ]
  },
  {
   "cell_type": "code",
   "execution_count": null,
   "metadata": {},
   "outputs": [],
   "source": [
    "# both *args and **kwargs help us to set multiple parameters . Where *args directely convert a list into iterative and **kwargs make parameter as dictionary "
   ]
  },
  {
   "cell_type": "markdown",
   "metadata": {},
   "source": [
    "# Return Values and Scoping:\n",
    "\n"
   ]
  },
  {
   "cell_type": "markdown",
   "metadata": {},
   "source": [
    "Describe the role of the `return` statement in Python functions and provide examples.\n"
   ]
  },
  {
   "cell_type": "code",
   "execution_count": 14,
   "metadata": {},
   "outputs": [
    {
     "name": "stdout",
     "output_type": "stream",
     "text": [
      "value of a is 19 \n",
      "value of b is 90\n"
     ]
    }
   ],
   "source": [
    "# we can use return only when we use a user define function . \n",
    "# return allows us to store the result of that function in a variable or multiple variables \n",
    "def sum_product(x,y):\n",
    "    return (x+y),(x*y)\n",
    "a,b=sum_product(9,10)\n",
    "print(f\"value of a is {a} \\nvalue of b is {b}\")"
   ]
  },
  {
   "cell_type": "markdown",
   "metadata": {},
   "source": [
    "Explain the concept of variable scope in Python, including local and global variables.\n"
   ]
  },
  {
   "cell_type": "code",
   "execution_count": null,
   "metadata": {},
   "outputs": [],
   "source": [
    "# when we define a variable in globally is it know as global variable and we can access it from anyware \n",
    "# when we define a variable inside a user define function and for loop it is known as local variable . \n"
   ]
  },
  {
   "cell_type": "markdown",
   "metadata": {},
   "source": [
    "Write a Python program that demonstrates the use of global variables within functions.\n"
   ]
  },
  {
   "cell_type": "code",
   "execution_count": null,
   "metadata": {},
   "outputs": [],
   "source": []
  },
  {
   "cell_type": "markdown",
   "metadata": {},
   "source": [
    "Create a Python function that calculates the factorial of a number and returns it.\n"
   ]
  },
  {
   "cell_type": "code",
   "execution_count": null,
   "metadata": {},
   "outputs": [],
   "source": []
  },
  {
   "cell_type": "markdown",
   "metadata": {},
   "source": [
    "How can you access variables defined outside a function from within the function?"
   ]
  },
  {
   "cell_type": "code",
   "execution_count": null,
   "metadata": {},
   "outputs": [],
   "source": []
  },
  {
   "cell_type": "markdown",
   "metadata": {},
   "source": [
    "# Lambda Functions and Higher-Order Functions:\n",
    "\n"
   ]
  },
  {
   "cell_type": "markdown",
   "metadata": {},
   "source": [
    "What are lambda functions in Python, and when are they typically used?\n"
   ]
  },
  {
   "cell_type": "code",
   "execution_count": null,
   "metadata": {},
   "outputs": [],
   "source": []
  },
  {
   "cell_type": "markdown",
   "metadata": {},
   "source": [
    "Write a Python program that uses lambda functions to sort a list of tuples based on the second element.\n"
   ]
  },
  {
   "cell_type": "code",
   "execution_count": null,
   "metadata": {},
   "outputs": [],
   "source": []
  },
  {
   "cell_type": "markdown",
   "metadata": {},
   "source": [
    "Explain the concept of higher-order functions in Python, and provide an example.\n"
   ]
  },
  {
   "cell_type": "code",
   "execution_count": null,
   "metadata": {},
   "outputs": [],
   "source": []
  },
  {
   "cell_type": "markdown",
   "metadata": {},
   "source": [
    "Create a Python function that takes a list of numbers and a function as arguments, applying the function to each element in the list.\n",
    "\n"
   ]
  },
  {
   "cell_type": "code",
   "execution_count": null,
   "metadata": {},
   "outputs": [],
   "source": []
  },
  {
   "cell_type": "markdown",
   "metadata": {},
   "source": [
    "# Built-in Functions:\n",
    "\n"
   ]
  },
  {
   "cell_type": "markdown",
   "metadata": {},
   "source": [
    "Describe the role of built-in functions like `len()`, `max()`, and `min()` in Python.\n"
   ]
  },
  {
   "cell_type": "code",
   "execution_count": null,
   "metadata": {},
   "outputs": [],
   "source": []
  },
  {
   "cell_type": "markdown",
   "metadata": {},
   "source": [
    "Write a Python program that uses the `map()` function to apply a function to each element of a list.\n"
   ]
  },
  {
   "cell_type": "code",
   "execution_count": null,
   "metadata": {},
   "outputs": [],
   "source": []
  },
  {
   "cell_type": "markdown",
   "metadata": {},
   "source": [
    "How does the `filter()` function work in Python, and when would you use it?\n"
   ]
  },
  {
   "cell_type": "code",
   "execution_count": null,
   "metadata": {},
   "outputs": [],
   "source": []
  },
  {
   "cell_type": "markdown",
   "metadata": {},
   "source": [
    "Create a Python program that uses the `reduce()` function to find the product of all elements in a list.\n"
   ]
  },
  {
   "cell_type": "code",
   "execution_count": null,
   "metadata": {},
   "outputs": [],
   "source": []
  },
  {
   "cell_type": "markdown",
   "metadata": {},
   "source": [
    "\n",
    "# Function Documentation and Best Practices:\n",
    "\n"
   ]
  },
  {
   "cell_type": "markdown",
   "metadata": {},
   "source": [
    "Explain the purpose of docstrings in Python functions and how to write them.\n"
   ]
  },
  {
   "cell_type": "code",
   "execution_count": null,
   "metadata": {},
   "outputs": [],
   "source": []
  },
  {
   "cell_type": "markdown",
   "metadata": {},
   "source": [
    "Describe some best practices for naming functions and variables in Python, including naming conventions and guidelines."
   ]
  },
  {
   "cell_type": "code",
   "execution_count": null,
   "metadata": {},
   "outputs": [],
   "source": []
  }
 ],
 "metadata": {
  "kernelspec": {
   "display_name": "Python 3",
   "language": "python",
   "name": "python3"
  },
  "language_info": {
   "codemirror_mode": {
    "name": "ipython",
    "version": 3
   },
   "file_extension": ".py",
   "mimetype": "text/x-python",
   "name": "python",
   "nbconvert_exporter": "python",
   "pygments_lexer": "ipython3",
   "version": "3.11.6"
  }
 },
 "nbformat": 4,
 "nbformat_minor": 2
}
