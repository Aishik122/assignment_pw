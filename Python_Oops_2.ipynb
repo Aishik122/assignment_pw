{
 "cells": [
  {
   "cell_type": "markdown",
   "metadata": {},
   "source": [
    "# Constructor:"
   ]
  },
  {
   "cell_type": "markdown",
   "metadata": {},
   "source": [
    "\n",
    "1. What is a constructor in Python? Explain its purpose and usage.\n",
    "\n",
    "\n"
   ]
  },
  {
   "cell_type": "code",
   "execution_count": null,
   "metadata": {},
   "outputs": [],
   "source": [
    "#A constructor is a special method within a Python class that's automatically invoked when a new object of that class is created.\n",
    "#Its primary purpose is to initialize the object's attributes (variables), ensuring it starts with a consistent and meaningful state.\n",
    "# in python we use __init__ to initialize the object which take minimul 1 argument as self which refer new created object \n"
   ]
  },
  {
   "cell_type": "markdown",
   "metadata": {},
   "source": [
    "2. Differentiate between a parameterless constructor and a parameterized constructor in Python.\n",
    "\n",
    "\n"
   ]
  },
  {
   "cell_type": "code",
   "execution_count": null,
   "metadata": {},
   "outputs": [],
   "source": [
    "# if we pass parameters into the constructor then it is a parameterized constructor . \n",
    "class Book:\n",
    "    def __init__(self, title, author, year):\n",
    "        self.title = title\n",
    "        self.author = author\n",
    "        self.year = year\n",
    "\n",
    "book1 = Book(\"The Hitchhiker's Guide to the Galaxy\", \"Douglas Adams\", 1979) \n",
    "\n",
    "# When we pass only self as a parameter and there is no other parameter then it considers as parameter less constracter \n",
    "class Student:\n",
    "    def __init__(self):\n",
    "        self.name = \"Unknown\"\n",
    "        self.grade = 0\n",
    "\n",
    "student1 = Student()  # Calls the parameterless constructor"
   ]
  },
  {
   "cell_type": "markdown",
   "metadata": {},
   "source": [
    "3. How do you define a constructor in a Python class? Provide an example.\n",
    "\n",
    "\n"
   ]
  },
  {
   "cell_type": "code",
   "execution_count": 4,
   "metadata": {},
   "outputs": [
    {
     "name": "stdout",
     "output_type": "stream",
     "text": [
      "a\n",
      "b\n"
     ]
    }
   ],
   "source": [
    "class cons():\n",
    "    def __init__(self,a,b): # initialize a constractor with a parameter and b parameter \n",
    "        self.a = a # \n",
    "        self.b = b #\n",
    "\n",
    "# Creating an instance of MyClass and passing values to the constructor\n",
    "c=cons(\"a\",\"b\")\n",
    "print(c.a)\n",
    "print(c.b) "
   ]
  },
  {
   "cell_type": "markdown",
   "metadata": {},
   "source": [
    "4. Explain the `__init__` method in Python and its role in constructors.\n",
    "\n",
    "\n"
   ]
  },
  {
   "cell_type": "markdown",
   "metadata": {},
   "source": [
    "Initialization: The primary purpose of the __init__ method is to initialize the attributes of an object. These attributes represent the characteristics or properties of the object. By defining the __init__ method in a class, you can set initial values for these attributes when an object is created.\n",
    "\n",
    "Constructor: The __init__ method serves as the constructor for a class. A constructor is a special method that is automatically invoked when an object is instantiated (created) from the class. It allows you to perform any setup or initialization tasks required for the object to be in a valid state.\n",
    "\n",
    "Parameter Passing: The __init__ method can take parameters, allowing you to pass values to initialize the attributes of the object. These parameters are specified when you create an instance of the class."
   ]
  },
  {
   "cell_type": "markdown",
   "metadata": {},
   "source": [
    "5. In a class named `Person`, create a constructor that initializes the `name` and `age` attributes. Provide an\n",
    "example of creating an object of this class.\n",
    "\n",
    "\n"
   ]
  },
  {
   "cell_type": "code",
   "execution_count": 1,
   "metadata": {},
   "outputs": [
    {
     "name": "stdout",
     "output_type": "stream",
     "text": [
      "Aishik\n",
      "25\n"
     ]
    }
   ],
   "source": [
    "class Person:\n",
    "    def __init__(self, name, age) :# initialize the attributes name and age \n",
    "        self.name = name\n",
    "        self.age = age \n",
    "\n",
    "p=Person('Aishik',25) \n",
    "print(p.name)\n",
    "print(p.age)"
   ]
  },
  {
   "cell_type": "markdown",
   "metadata": {},
   "source": [
    "6. How can you call a constructor explicitly in Python? Give an example.\n",
    "\n",
    "\n"
   ]
  },
  {
   "cell_type": "markdown",
   "metadata": {},
   "source": [
    "In Python, the constructor (__init__ method) is called automatically when an object is created from a class. However, there might be cases where you want to call the constructor explicitly. "
   ]
  },
  {
   "cell_type": "code",
   "execution_count": null,
   "metadata": {},
   "outputs": [],
   "source": [
    "#\n",
    "\n",
    "\n"
   ]
  },
  {
   "cell_type": "markdown",
   "metadata": {},
   "source": [
    "7. What is the significance of the `self` parameter in Python constructors? Explain with an example.\n",
    "\n",
    "\n"
   ]
  },
  {
   "cell_type": "markdown",
   "metadata": {},
   "source": [
    "In Python, the self parameter in constructors (and other methods) plays a crucial role in referring to the instance of the class itself."
   ]
  },
  {
   "cell_type": "markdown",
   "metadata": {},
   "source": [
    "8. Discuss the concept of default constructors in Python. When are they used?\n",
    "\n",
    "\n"
   ]
  },
  {
   "cell_type": "markdown",
   "metadata": {},
   "source": [
    "\n",
    "In Python, a default constructor is a constructor that is provided by default if you don't explicitly define one in your class. The default constructor is automatically generated by Python and has no parameters other than self. Its main purpose is to initialize the object's attributes and perform any necessary setup when an object is created."
   ]
  },
  {
   "cell_type": "code",
   "execution_count": 6,
   "metadata": {},
   "outputs": [
    {
     "name": "stdout",
     "output_type": "stream",
     "text": [
      "Default constructor is called\n",
      "Hello from MyClass\n"
     ]
    }
   ],
   "source": [
    "class MyClass:\n",
    "    def __init__(self):\n",
    "        # This is the default constructor\n",
    "        print(\"Default constructor is called\")\n",
    "\n",
    "    def display_message(self):\n",
    "        print(\"Hello from MyClass\")\n",
    "\n",
    "# Creating an object of MyClass\n",
    "obj = MyClass()\n",
    "\n",
    "# Calling a method on the object\n",
    "obj.display_message()\n"
   ]
  },
  {
   "cell_type": "markdown",
   "metadata": {},
   "source": [
    "9. Create a Python class called `Rectangle` with a constructor that initializes the `width` and `height`\n",
    "attributes. Provide a method to calculate the area of the rectangle."
   ]
  },
  {
   "cell_type": "code",
   "execution_count": 8,
   "metadata": {},
   "outputs": [
    {
     "name": "stdout",
     "output_type": "stream",
     "text": [
      "50\n"
     ]
    }
   ],
   "source": [
    "class Rectangle :\n",
    "    def __init__(self, width, height ) : \n",
    "        self.width = width\n",
    "        self.height = height \n",
    "\n",
    "    def area(self):\n",
    "        return self.width*self.height \n",
    "R=Rectangle(10,5)\n",
    "print(R.area())"
   ]
  },
  {
   "cell_type": "markdown",
   "metadata": {},
   "source": [
    "10. How can you have multiple constructors in a Python class? Explain with an example.\n",
    "\n",
    "\n"
   ]
  },
  {
   "cell_type": "code",
   "execution_count": null,
   "metadata": {},
   "outputs": [],
   "source": [
    "#In Python, there is no direct support for multiple constructors like some other programming languages (e.g., Java or C++), where you can have multiple constructors\n",
    " #with different parameter lists. However, you can achieve similar functionality using default values for parameters in the __init__ method."
   ]
  },
  {
   "cell_type": "markdown",
   "metadata": {},
   "source": [
    "11. What is method overloading, and how is it related to constructors in Python?\n",
    "\n",
    "\n"
   ]
  },
  {
   "cell_type": "markdown",
   "metadata": {},
   "source": [
    "Method overloading is a concept in object-oriented programming where a class can have multiple methods with the same name but different parameters. The behavior of the method is determined by the number, types, or order of its parameters. Python does not support traditional method overloading like some other languages (e.g., Java or C++), where you can define multiple methods with the same name but different parameter lists.\n",
    "\n",
    "However, in Python, you can achieve a form of method overloading using default values for parameters or variable-length argument lists. This allows a single method to handle different scenarios based on the provided arguments.\n",
    "\n",
    "When it comes to constructors in Python, the concept of method overloading can be related to the use of default values for constructor parameters or using variable-length argument lists. This allows you to create objects and initialize attributes in different ways."
   ]
  },
  {
   "cell_type": "markdown",
   "metadata": {},
   "source": [
    "12. Explain the use of the `super()` function in Python constructors. Provide an example.\n",
    "\n"
   ]
  },
  {
   "cell_type": "markdown",
   "metadata": {},
   "source": [
    "In Python, the super() function is used to call methods of a parent class. It is often used in the context of inheritance, allowing a subclass to invoke a method from its superclass. In the case of constructors, super() is commonly used to call the constructor of the parent class from the constructor of the child class. This is useful when you want to extend the functionality of the parent class while still ensuring that its initialization is performed.\n",
    "\n"
   ]
  },
  {
   "cell_type": "markdown",
   "metadata": {},
   "source": [
    "\n",
    "13. Create a class called `Book` with a constructor that initializes the `title`, `author`, and `published_year`\n",
    "attributes. Provide a method to display book details."
   ]
  },
  {
   "cell_type": "code",
   "execution_count": 9,
   "metadata": {},
   "outputs": [
    {
     "name": "stdout",
     "output_type": "stream",
     "text": [
      "Title: The Great Gatsby\n",
      "Author: F. Scott Fitzgerald\n",
      "Published Year: 1925\n"
     ]
    }
   ],
   "source": [
    "class Book:\n",
    "    def __init__(self, title, author, published_year):\n",
    "        self.title = title\n",
    "        self.author = author\n",
    "        self.published_year = published_year\n",
    "\n",
    "    def display_details(self):\n",
    "        print(\"Title:\", self.title)\n",
    "        print(\"Author:\", self.author)\n",
    "        print(\"Published Year:\", self.published_year)\n",
    "\n",
    "# Creating an instance of the Book class\n",
    "book1 = Book(\"The Great Gatsby\", \"F. Scott Fitzgerald\", 1925)\n",
    "\n",
    "# Displaying details of the book using the display_details method\n",
    "book1.display_details()\n"
   ]
  },
  {
   "cell_type": "markdown",
   "metadata": {},
   "source": [
    "\n",
    "14. Discuss the differences between constructors and regular methods in Python classes.\n",
    "\n",
    "\n"
   ]
  },
  {
   "cell_type": "code",
   "execution_count": null,
   "metadata": {},
   "outputs": [],
   "source": [
    "# for python __init__ is a constractor that used to create a new object and any other function we define works as a regular method \n",
    "# eg above code \n",
    "class Book:\n",
    "    def __init__(self, title, author, published_year):\n",
    "        self.title = title\n",
    "        self.author = author\n",
    "        self.published_year = published_year\n",
    "\n",
    "    def display_details(self):\n",
    "        print(\"Title:\", self.title)\n",
    "        print(\"Author:\", self.author)\n",
    "        print(\"Published Year:\", self.published_year)\n",
    "\n",
    "# Creating an instance of the Book class\n",
    "book1 = Book(\"The Great Gatsby\", \"F. Scott Fitzgerald\", 1925)\n",
    "\n",
    "# Displaying details of the book using the display_details method\n",
    "book1.display_details()\n",
    "\n",
    "# here display_details is a regular method "
   ]
  },
  {
   "cell_type": "markdown",
   "metadata": {},
   "source": [
    "15. Explain the role of the `self` parameter in instance variable initialization within a constructor.\n",
    "\n"
   ]
  },
  {
   "cell_type": "markdown",
   "metadata": {},
   "source": [
    "\n",
    "16. How do you prevent a class from having multiple instances by using constructors in Python? Provide an\n",
    "example.\n",
    "\n"
   ]
  },
  {
   "cell_type": "markdown",
   "metadata": {},
   "source": [
    "\n",
    "17. Create a Python class called `Student` with a constructor that takes a list of subjects as a parameter and\n",
    "initializes the `subjects` attribute.\n",
    "\n"
   ]
  },
  {
   "cell_type": "markdown",
   "metadata": {},
   "source": [
    "\n",
    "18. What is the purpose of the `__del__` method in Python classes, and how does it relate to constructors?\n",
    "\n"
   ]
  },
  {
   "cell_type": "markdown",
   "metadata": {},
   "source": [
    "\n",
    "19. Explain the use of constructor chaining in Python. Provide a practical example.\n",
    "\n"
   ]
  },
  {
   "cell_type": "markdown",
   "metadata": {},
   "source": [
    "\n",
    "20. Create a Python class called `Car` with a default constructor that initializes the `make` and `model`\n",
    "attributes. Provide a method to display car information.\n",
    "Full Stack Data Science Pro Data Science Masters\n"
   ]
  },
  {
   "cell_type": "markdown",
   "metadata": {},
   "source": [
    "# Inheritance:"
   ]
  },
  {
   "cell_type": "markdown",
   "metadata": {},
   "source": [
    "\n",
    "1. What is inheritance in Python? Explain its significance in object-oriented programming.\n",
    "\n",
    "\n",
    "2. Differentiate between single inheritance and multiple inheritance in Python. Provide examples for each.\n",
    "\n",
    "\n",
    "3. Create a Python class called `Vehicle` with attributes `color` and `speed`. Then, create a child class called\n",
    "`Car` that inherits from `Vehicle` and adds a `brand` attribute. Provide an example of creating a `Car` object.\n",
    "\n",
    "\n",
    "4. Explain the concept of method overriding in inheritance. Provide a practical example.\n",
    "\n",
    "\n",
    "5. How can you access the methods and attributes of a parent class from a child class in Python? Give an\n",
    "example.\n",
    "\n",
    "\n",
    "6. Discuss the use of the `super()` function in Python inheritance. When and why is it used? Provide an\n",
    "example.\n",
    "\n",
    "\n",
    "7. Create a Python class called `Animal` with a method `speak()`. Then, create child classes `Dog` and `Cat` that inherit from `Animal` and override the `speak()` method. Provide an example of using these classes.\n",
    "\n",
    "\n",
    "8. Explain the role of the `isinstance()` function in Python and how it relates to inheritance.\n",
    "\n",
    "\n",
    "9. What is the purpose of the `issubclass()` function in Python? Provide an example.\n",
    "\n",
    "\n",
    "10. Discuss the concept of constructor inheritance in Python. How are constructors inherited in child classes?\n",
    "\n",
    "\n",
    "11. Create a Python class called `Shape` with a method `area()` that calculates the area of a shape. Then, create child classes `Circle` and `Rectangle` that inherit from `Shape` and implement the `area()` method\n",
    "accordingly. Provide an example.\n",
    "\n",
    "\n",
    "12. Explain the use of abstract base classes (ABCs) in Python and how they relate to inheritance. Provide an\n",
    "example using the `abc` module.\n",
    "\n",
    "\n",
    "13. How can you prevent a child class from modifying certain attributes or methods inherited from a parent\n",
    "class in Python?\n",
    "\n",
    "\n",
    "14. Create a Python class called `Employee` with attributes `name` and `salary`. Then, create a child class\n",
    "`Manager` that inherits from `Employee` and adds an attribute `department`. Provide an example.\n",
    "\n",
    "\n",
    "15. Discuss the concept of method overloading in Python inheritance. How does it differ from method\n",
    "overriding?\n",
    "\n",
    "\n",
    "16. Explain the purpose of the `__init__()` method in Python inheritance and how it is utilized in child classes.\n",
    "\n",
    "\n",
    "17. Create a Python class called `Bird` with a method `fly()`. Then, create child classes `Eagle` and `Sparrow` that inherit from `Bird` and implement the `fly()` method differently. Provide an example of using these\n",
    "classes.\n",
    "\n",
    "\n",
    "18. What is the \"diamond problem\" in multiple inheritance, and how does Python address it?\n",
    "\n",
    "\n",
    "19. Discuss the concept of \"is-a\" and \"has-a\" relationships in inheritance, and provide examples of each.\n",
    "\n",
    "\n",
    "20. Create a Python class hierarchy for a university system. Start with a base class `Person` and create child\n",
    "classes `Student` and `Professor`, each with their own attributes and methods. Provide an example of using\n",
    "these classes in a university context.\n",
    "Full Stack Data Science Pro Data Science Masters\n",
    "\n"
   ]
  },
  {
   "cell_type": "markdown",
   "metadata": {},
   "source": []
  },
  {
   "cell_type": "markdown",
   "metadata": {},
   "source": [
    "Encapsulation:\n",
    "1. Explain the concept of encapsulation in Python. What is its role in object-oriented programming?\n",
    "\n",
    "\n",
    "2. Describe the key principles of encapsulation, including access control and data hiding.\n",
    "\n",
    "\n",
    "3. How can you achieve encapsulation in Python classes? Provide an example.\n",
    "\n",
    "\n",
    "4. Discuss the difference between public, private, and protected access modifiers in Python.\n",
    "\n",
    "\n",
    "5. Create a Python class called `Person` with a private attribute `__name`. Provide methods to get and set the\n",
    "name attribute.\n",
    "\n",
    "\n",
    "6. Explain the purpose of getter and setter methods in encapsulation. Provide examples.\n",
    "\n",
    "\n",
    "7. What is name mangling in Python, and how does it affect encapsulation?\n",
    "\n",
    "\n",
    "8. Create a Python class called `BankAccount` with private attributes for the account balance (`__balance`) and account number (`__account_number`). Provide methods for depositing and withdrawing money.\n",
    "\n",
    "\n",
    "9. Discuss the advantages of encapsulation in terms of code maintainability and security.\n",
    "\n",
    "\n",
    "10. How can you access private attributes in Python? Provide an example demonstrating the use of name\n",
    "mangling.\n",
    "\n",
    "\n",
    "11. Create a Python class hierarchy for a school system, including classes for students, teachers, and courses,\n",
    "and implement encapsulation principles to protect sensitive information.\n",
    "\n",
    "\n",
    "12. Explain the concept of property decorators in Python and how they relate to encapsulation.\n",
    "\n",
    "\n",
    "13. What is data hiding, and why is it important in encapsulation? Provide examples.\n",
    "\n",
    "\n",
    "14. Create a Python class called `Employee` with private attributes for salary (`__salary`) and employee ID (`__employee_id`). Provide a method to calculate yearly bonuses.\n",
    "\n",
    "\n",
    "15. Discuss the use of accessors and mutators in encapsulation. How do they help maintain control over\n",
    "attribute access?\n",
    "\n",
    "\n",
    "16. What are the potential drawbacks or disadvantages of using encapsulation in Python?\n",
    "\n",
    "\n",
    "17. Create a Python class for a library system that encapsulates book information, including titles, authors,\n",
    "and availability status.\n",
    "\n",
    "\n",
    "18. Explain how encapsulation enhances code reusability and modularity in Python programs.\n",
    "\n",
    "\n",
    "19. Describe the concept of information hiding in encapsulation. Why is it essential in software development?\n",
    "\n",
    "\n",
    "20. Create a Python class called `Customer` with private attributes for customer details like name, address,\n",
    "and contact information. Implement encapsulation to ensure data integrity and security.\n",
    "Full Stack Data Science Pro Data Science Masters\n"
   ]
  },
  {
   "cell_type": "markdown",
   "metadata": {},
   "source": [
    "Polymorphism:\n",
    "1. What is polymorphism in Python? Explain how it is related to object-oriented programming.\n",
    "\n",
    "\n",
    "2. Describe the difference between compile-time polymorphism and runtime polymorphism in Python.\n",
    "\n",
    "\n",
    "3. Create a Python class hierarchy for shapes (e.g., circle, square, triangle) and demonstrate polymorphism \n",
    " through a common method, such as `calculate_area()`.\n",
    "\n",
    "\n",
    "4. Explain the concept of method overriding in polymorphism. Provide an example.\n",
    "\n",
    "\n",
    "5. How is polymorphism different from method overloading in Python? Provide examples for both.\n",
    "\n",
    "\n",
    "6. Create a Python class called `Animal` with a method `speak()`. Then, create child classes like `Dog`, `Cat`, and `Bird`, each with their own `speak()` method. Demonstrate polymorphism by calling the `speak()` method\n",
    "on objects of different subclasses.\n",
    "\n",
    "\n",
    "7. Discuss the use of abstract methods and classes in achieving polymorphism in Python. Provide an example\n",
    "using the `abc` module.\n",
    "\n",
    "\n",
    "8. Create a Python class hierarchy for a vehicle system (e.g., car, bicycle, boat) and implement a polymorphic `start()` method that prints a message specific to each vehicle type.\n",
    "\n",
    "\n",
    "9. Explain the significance of the `isinstance()` and `issubclass()` functions in Python polymorphism.\n",
    "\n",
    "\n",
    "10. What is the role of the `@abstractmethod` decorator in achieving polymorphism in Python? Provide an\n",
    "example.\n",
    "\n",
    "\n",
    "11. Create a Python class called `Shape` with a polymorphic method `area()` that calculates the area of different shapes (e.g., circle, rectangle, triangle).\n",
    "\n",
    "\n",
    "12. Discuss the benefits of polymorphism in terms of code reusability and flexibility in Python programs.\n",
    "\n",
    "\n",
    "13. Explain the use of the `super()` function in Python polymorphism. How does it help call methods of parent\n",
    "classes?\n",
    "\n",
    "\n",
    "14. Create a Python class hierarchy for a banking system with various account types (e.g., savings, checking, credit card) and demonstrate polymorphism by implementing a common `withdraw()` method.\n",
    "\n",
    "\n",
    "15. Describe the concept of operator overloading in Python and how it relates to polymorphism. Provide\n",
    "examples using operators like `+` and `*`.\n",
    "\n",
    "\n",
    "16. What is dynamic polymorphism, and how is it achieved in Python?\n",
    "\n",
    "\n",
    "17. Create a Python class hierarchy for employees in a company (e.g., manager, developer, designer) and implement polymorphism through a common `calculate_salary()` method.\n",
    "\n",
    "\n",
    "18. Discuss the concept of function pointers and how they can be used to achieve polymorphism in Python.\n",
    "\n",
    "\n",
    "19. Explain the role of interfaces and abstract classes in polymorphism, drawing comparisons between them.\n",
    "\n",
    "\n",
    "20. Create a Python class for a zoo simulation, demonstrating polymorphism with different animal types (e.g., mammals, birds, reptiles) and their behavior (e.g., eating, sleeping, making sounds).\n",
    "Full Stack Data Science Pro Data Science Masters\n"
   ]
  },
  {
   "cell_type": "markdown",
   "metadata": {},
   "source": [
    "Abstraction:\n",
    "1. What is abstraction in Python, and how does it relate to object-oriented programming?\n",
    "\n",
    "\n",
    "2. Describe the benefits of abstraction in terms of code organization and complexity reduction.\n",
    "\n",
    "\n",
    "3. Create a Python class called `Shape` with an abstract method `calculate_area()`. Then, create child classes (e.g., `Circle`, `Rectangle`) that implement the `calculate_area()` method. Provide an example of\n",
    "using these classes.\n",
    "\n",
    "\n",
    "4. Explain the concept of abstract classes in Python and how they are defined using the `abc` module. Provide\n",
    "an example.\n",
    "\n",
    "\n",
    "5. How do abstract classes differ from regular classes in Python? Discuss their use cases.\n",
    "\n",
    "\n",
    "6. Create a Python class for a bank account and demonstrate abstraction by hiding the account balance and\n",
    "providing methods to deposit and withdraw funds.\n",
    "\n",
    "\n",
    "7. Discuss the concept of interface classes in Python and their role in achieving abstraction.\n",
    "\n",
    "\n",
    "8. Create a Python class hierarchy for animals and implement abstraction by defining common methods (e.g., `eat()`, `sleep()`) in an abstract base class.\n",
    "\n",
    "\n",
    "9. Explain the significance of encapsulation in achieving abstraction. Provide examples.\n",
    "\n",
    "\n",
    "10. What is the purpose of abstract methods, and how do they enforce abstraction in Python classes?\n",
    "\n",
    "\n",
    "11. Create a Python class for a vehicle system and demonstrate abstraction by defining common methods (e.g., `start()`, `stop()`) in an abstract base class.\n",
    "\n",
    "\n",
    "12. Describe the use of abstract properties in Python and how they can be employed in abstract classes.\n",
    "\n",
    "\n",
    "13. Create a Python class hierarchy for employees in a company (e.g., manager, developer, designer) and implement abstraction by defining a common `get_salary()` method.\n",
    "\n",
    "\n",
    "14. Discuss the differences between abstract classes and concrete classes in Python, including their\n",
    "instantiation.\n",
    "\n",
    "\n",
    "15. Explain the concept of abstract data types (ADTs) and their role in achieving abstraction in Python.\n",
    "\n",
    "\n",
    "16. Create a Python class for a computer system, demonstrating abstraction by defining common methods (e.g., `power_on()`, `shutdown()`) in an abstract base class.\n",
    "\n",
    "\n",
    "17. Discuss the benefits of using abstraction in large-scale software development projects.\n",
    "\n",
    "\n",
    "18. Explain how abstraction enhances code reusability and modularity in Python programs.\n",
    "\n",
    "\n",
    "19. Create a Python class for a library system, implementing abstraction by defining common methods (e.g., `add_book()`, `borrow_book()`) in an abstract base class.\n",
    "\n",
    "\n",
    "20. Describe the concept of method abstraction in Python and how it relates to polymorphism.\n",
    "Full Stack Data Science Pro Data Science Masters\n"
   ]
  },
  {
   "cell_type": "markdown",
   "metadata": {},
   "source": [
    "Composition:\n",
    "1. Explain the concept of composition in Python and how it is used to build complex objects from simpler ones.\n",
    "\n",
    "\n",
    "2. Describe the difference between composition and inheritance in object-oriented programming.\n",
    "\n",
    "\n",
    "3. Create a Python class called `Author` with attributes for name and birthdate. Then, create a `Book` class\n",
    "that contains an instance of `Author` as a composition. Provide an example of creating a `Book` object.\n",
    "\n",
    "\n",
    "4. Discuss the benefits of using composition over inheritance in Python, especially in terms of code flexibility\n",
    "and reusability.\n",
    "\n",
    "\n",
    "5. How can you implement composition in Python classes? Provide examples of using composition to create\n",
    "complex objects.\n",
    "\n",
    "\n",
    "6. Create a Python class hierarchy for a music player system, using composition to represent playlists and\n",
    "songs.\n",
    "\n",
    "\n",
    "7. Explain the concept of \"has-a\" relationships in composition and how it helps design software systems.\n",
    "\n",
    "\n",
    "8. Create a Python class for a computer system, using composition to represent components like CPU, RAM,\n",
    "and storage devices.\n",
    "\n",
    "\n",
    "9. Describe the concept of \"delegation\" in composition and how it simplifies the design of complex systems.\n",
    "\n",
    "\n",
    "10. Create a Python class for a car, using composition to represent components like the engine, wheels, and\n",
    "transmission.\n",
    "\n",
    "\n",
    "11. How can you encapsulate and hide the details of composed objects in Python classes to maintain\n",
    "abstraction?\n",
    "\n",
    "\n",
    "12. Create a Python class for a university course, using composition to represent students, instructors, and\n",
    "course materials.\n",
    "\n",
    "\n",
    "13. Discuss the challenges and drawbacks of composition, such as increased complexity and potential for\n",
    "tight coupling between objects.\n",
    "\n",
    "\n",
    "14. Create a Python class hierarchy for a restaurant system, using composition to represent menus, dishes,\n",
    "and ingredients.\n",
    "\n",
    "\n",
    "15. Explain how composition enhances code maintainability and modularity in Python programs.\n",
    "\n",
    "\n",
    "16. Create a Python class for a computer game character, using composition to represent attributes like\n",
    "weapons, armor, and inventory.\n",
    "\n",
    "\n",
    "17. Describe the concept of \"aggregation\" in composition and how it differs from simple composition.\n",
    "\n",
    "\n",
    "18. Create a Python class for a house, using composition to represent rooms, furniture, and appliances.\n",
    "\n",
    "\n",
    "19. How can you achieve flexibility in composed objects by allowing them to be replaced or modified\n",
    "dynamically at runtime?\n",
    "\n",
    "\n",
    "20. Create a Python class for a social media application, using composition to represent users, posts, and\n",
    "comments."
   ]
  }
 ],
 "metadata": {
  "kernelspec": {
   "display_name": "Python 3",
   "language": "python",
   "name": "python3"
  },
  "language_info": {
   "codemirror_mode": {
    "name": "ipython",
    "version": 3
   },
   "file_extension": ".py",
   "mimetype": "text/x-python",
   "name": "python",
   "nbconvert_exporter": "python",
   "pygments_lexer": "ipython3",
   "version": "3.11.6"
  }
 },
 "nbformat": 4,
 "nbformat_minor": 2
}
