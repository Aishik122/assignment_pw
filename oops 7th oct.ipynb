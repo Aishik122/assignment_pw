{
 "cells": [
  {
   "cell_type": "code",
   "execution_count": 1,
   "id": "8b6a7b1a-3ff5-4b22-be3e-d3b2d7aa7e3a",
   "metadata": {},
   "outputs": [],
   "source": [
    "class a :\n",
    "    \n",
    "    def test(self):\n",
    "        print(\"this test method is a part of class a\")\n",
    "        \n",
    "    def test1(self):\n",
    "        print(\"this is test1 from class a \")"
   ]
  },
  {
   "cell_type": "code",
   "execution_count": 2,
   "id": "8e4d306f-fdb4-47a0-a93d-597f5b21d30b",
   "metadata": {},
   "outputs": [],
   "source": [
    "obj_a = a()"
   ]
  },
  {
   "cell_type": "code",
   "execution_count": 3,
   "id": "81ef5597-cf96-4ed9-a4f6-21e2e93aca70",
   "metadata": {},
   "outputs": [
    {
     "name": "stdout",
     "output_type": "stream",
     "text": [
      "this test method is a part of class a\n"
     ]
    }
   ],
   "source": [
    "obj_a.test()"
   ]
  },
  {
   "cell_type": "code",
   "execution_count": 4,
   "id": "11ee63d6-433d-48dc-ada0-5dd6771310ba",
   "metadata": {},
   "outputs": [],
   "source": [
    "class b(a) :\n",
    "    def test1b(self):\n",
    "        print(\"this is a part of class b \")"
   ]
  },
  {
   "cell_type": "code",
   "execution_count": 5,
   "id": "badaedfe-57d1-43c6-9193-e5afb0f31dbc",
   "metadata": {},
   "outputs": [],
   "source": [
    "obj_b = b()"
   ]
  },
  {
   "cell_type": "code",
   "execution_count": 6,
   "id": "3ce19f61-ba8e-4050-9d4d-614adfd964c5",
   "metadata": {},
   "outputs": [
    {
     "name": "stdout",
     "output_type": "stream",
     "text": [
      "this test method is a part of class a\n"
     ]
    }
   ],
   "source": [
    "obj_b.test()"
   ]
  },
  {
   "cell_type": "code",
   "execution_count": 7,
   "id": "5e473fae-e094-4407-99df-16a04ab4c80a",
   "metadata": {},
   "outputs": [
    {
     "name": "stdout",
     "output_type": "stream",
     "text": [
      "this is test1 from class a \n"
     ]
    }
   ],
   "source": [
    "obj_b.test1()"
   ]
  },
  {
   "cell_type": "code",
   "execution_count": 9,
   "id": "02a8f055-535f-4bc2-adc1-575445f82570",
   "metadata": {},
   "outputs": [
    {
     "name": "stdout",
     "output_type": "stream",
     "text": [
      "this test method is a part of class a\n"
     ]
    }
   ],
   "source": [
    "obj_b.test()"
   ]
  },
  {
   "cell_type": "code",
   "execution_count": 10,
   "id": "59361cd3-c0c4-4ddd-abac-cbe3275ade5f",
   "metadata": {},
   "outputs": [],
   "source": [
    "class lecture:\n",
    "    \n",
    "    def topic(self):\n",
    "        print(\"todays class we are discussing about inheritance condept in oops\")\n",
    "        \n",
    "    def timing(self):\n",
    "        print(\"timing for todays class is 9 AM IST\")\n",
    "        \n",
    "    def end_time(self):\n",
    "        print(\"today i will try to end class bit early\")"
   ]
  },
  {
   "cell_type": "code",
   "execution_count": 11,
   "id": "6e3dd2de-883e-4e9e-98a0-4a7089af1627",
   "metadata": {},
   "outputs": [],
   "source": [
    "class student(lecture):\n",
    "    \n",
    "    def student_details(self):\n",
    "        print(\"this class will give you a student details\")"
   ]
  },
  {
   "cell_type": "code",
   "execution_count": 12,
   "id": "c2ad2a89-0f29-4410-86c4-e33f47b4186d",
   "metadata": {},
   "outputs": [],
   "source": [
    "naval = student()"
   ]
  },
  {
   "cell_type": "code",
   "execution_count": 13,
   "id": "38c86e7f-5560-464a-b597-c88a74819f1a",
   "metadata": {},
   "outputs": [
    {
     "name": "stdout",
     "output_type": "stream",
     "text": [
      "todays class we are discussing about inheritance condept in oops\n"
     ]
    }
   ],
   "source": [
    "naval.topic()"
   ]
  },
  {
   "cell_type": "code",
   "execution_count": 14,
   "id": "02efc8a4-f995-4f85-87d2-620ccc0f61fa",
   "metadata": {},
   "outputs": [
    {
     "name": "stdout",
     "output_type": "stream",
     "text": [
      "timing for todays class is 9 AM IST\n"
     ]
    }
   ],
   "source": [
    "satish = student()\n",
    "satish.timing()"
   ]
  },
  {
   "cell_type": "code",
   "execution_count": 28,
   "id": "03932972-a58b-46e5-a3f8-ffc43c84ce53",
   "metadata": {},
   "outputs": [],
   "source": [
    "class teacher(student):\n",
    "    def details(self):\n",
    "        print(\"this will give you a details about teacher\")"
   ]
  },
  {
   "cell_type": "code",
   "execution_count": 29,
   "id": "fff36c1b-f1e9-467e-b29f-c304aa9feec9",
   "metadata": {},
   "outputs": [
    {
     "name": "stdout",
     "output_type": "stream",
     "text": [
      "timing for todays class is 9 AM IST\n"
     ]
    }
   ],
   "source": [
    "sudh = teacher()\n",
    "sudh.timing()"
   ]
  },
  {
   "cell_type": "code",
   "execution_count": 39,
   "id": "a5e8c94b-de62-4ef5-8eba-81259d83dd3d",
   "metadata": {},
   "outputs": [],
   "source": [
    "class lecture:\n",
    "    def topic(self):\n",
    "        print(\"todays class we are discussing about inheritance condept in oops\")\n",
    "        \n",
    "    def timing(self):\n",
    "        print(\"timing for todays class is 9 AM IST\")\n",
    "        \n",
    "    def end_time(self):\n",
    "        print(\"today i will try to end class bit early\")"
   ]
  },
  {
   "cell_type": "code",
   "execution_count": 40,
   "id": "2007141c-1b71-4cd4-9bed-a3cd8d851baa",
   "metadata": {},
   "outputs": [],
   "source": [
    "class student:\n",
    "    \n",
    "    def student_details(self):\n",
    "        print(\"this class will give you a student details\")\n",
    "        \n",
    "    def timing(self):\n",
    "        print(\"this is a timing fun from student class\")\n",
    "        "
   ]
  },
  {
   "cell_type": "code",
   "execution_count": 48,
   "id": "272860d3-1fac-475b-8c09-0490069224bc",
   "metadata": {},
   "outputs": [],
   "source": [
    "class teacher(lecture,student):\n",
    "    def details(self):\n",
    "        print(\"this will give you a details about teacher\")"
   ]
  },
  {
   "cell_type": "code",
   "execution_count": 49,
   "id": "f4a9ae16-f0e3-4a4a-a003-38773611cd2a",
   "metadata": {},
   "outputs": [],
   "source": [
    "krish = teacher()"
   ]
  },
  {
   "cell_type": "code",
   "execution_count": 50,
   "id": "6dc85f37-219e-4c72-927c-9aebb550fea9",
   "metadata": {},
   "outputs": [
    {
     "name": "stdout",
     "output_type": "stream",
     "text": [
      "timing for todays class is 9 AM IST\n"
     ]
    }
   ],
   "source": [
    "krish.timing()"
   ]
  },
  {
   "cell_type": "code",
   "execution_count": 37,
   "id": "8bcbac88-9172-4a31-a191-9c4b9a1c6eac",
   "metadata": {},
   "outputs": [
    {
     "name": "stdout",
     "output_type": "stream",
     "text": [
      "this class will give you a student details\n"
     ]
    }
   ],
   "source": [
    "krish.student_details()"
   ]
  },
  {
   "cell_type": "markdown",
   "id": "86b47d4f-860e-4702-83a0-0145887ab41a",
   "metadata": {},
   "source": [
    "Problem 1: Bank Account Create a class representing a bank account with attributes like account number, account holder name, and balance. Implement methods to deposit and withdraw money from the account.\n",
    "\n"
   ]
  },
  {
   "cell_type": "code",
   "execution_count": 24,
   "id": "27200bdf",
   "metadata": {},
   "outputs": [],
   "source": [
    "class BankAccount:\n",
    "    def __init__(self, account_number, account_holder_name, balance=0.0):\n",
    "        self.account_number = account_number\n",
    "        self.account_holder_name = account_holder_name\n",
    "        self.balance = balance\n",
    "\n",
    "    def deposit(self, amount):\n",
    "        if amount > 0:\n",
    "            self.balance += amount\n",
    "            return self.balance\n",
    "        else:\n",
    "            return \"Invalid deposit amount. Please enter a positive amount.\"\n",
    "\n",
    "    def withdraw(self, amount):\n",
    "        if amount > self.balance:\n",
    "            return \"Insufficient funds. Cannot withdraw more than the available balance.\"\n",
    "        elif amount <= 0:\n",
    "            return \"Invalid withdrawal amount. Please enter a positive amount.\"\n",
    "        else:\n",
    "            self.balance -= amount\n",
    "            return self.balance\n",
    "\n",
    "    def check_balance(self):\n",
    "        return self.balance\n",
    "\n",
    "    def account_info(self):\n",
    "        print(\"Account Number:\", self.account_number)\n",
    "        print(\"Account Holder:\", self.account_holder_name)\n",
    "        print(\"Balance:\", self.balance)\n",
    "\n",
    "\n"
   ]
  },
  {
   "cell_type": "code",
   "execution_count": 30,
   "id": "da2f44fa",
   "metadata": {},
   "outputs": [
    {
     "name": "stdout",
     "output_type": "stream",
     "text": [
      "Account Number: 001\n",
      "Account Holder: Aisik\n",
      "Balance: 500.0\n"
     ]
    }
   ],
   "source": [
    "a1=BankAccount('001','Aisik')\n",
    "a1.check_balance()\n",
    "a1.deposit(500)\n",
    "a1.check_balance()\n",
    "a1.account_info()"
   ]
  },
  {
   "cell_type": "markdown",
   "id": "357d2584",
   "metadata": {},
   "source": [
    "Problem 2: Employee Management Create a class representing an employee with attributes like employee ID, name, and salary. Implement methods to calculate the yearly bonus and display employee details.\n",
    "\n"
   ]
  },
  {
   "cell_type": "code",
   "execution_count": 31,
   "id": "9ddac379",
   "metadata": {},
   "outputs": [],
   "source": [
    "class EmployeeManagement():\n",
    "    def __init__(self,emp_id,emp_name,emp_salary):\n",
    "        self.emp_id = emp_id\n",
    "        self.emp_name= emp_name\n",
    "        self.emp_salary = emp_salary\n",
    "\n",
    "    def bonus(self,bonus):\n",
    "        if bonus <=0:\n",
    "            return \" how a bonus become 0 or negetive :( \"\n",
    "        else:\n",
    "            bonus=(bonus/100)*self.emp_salary\n",
    "            self.emp_salary=self.emp_salary+bonus\n",
    "            return bonus \n",
    "    def new_salary(self):\n",
    "        new_salary = self.emp_salary\n",
    "        return new_salary\n",
    "    \n"
   ]
  },
  {
   "cell_type": "code",
   "execution_count": 34,
   "id": "31757733",
   "metadata": {},
   "outputs": [
    {
     "data": {
      "text/plain": [
       "9000.0"
      ]
     },
     "execution_count": 34,
     "metadata": {},
     "output_type": "execute_result"
    }
   ],
   "source": [
    "Aishik=EmployeeManagement(100,\"Aishik\",6000)\n",
    "Aishik.bonus(50)\n",
    "Aishik.new_salary()"
   ]
  },
  {
   "cell_type": "markdown",
   "id": "753a3ed3",
   "metadata": {},
   "source": [
    "Problem 3: Vehicle Rental Create a class representing a vehicle rental system. Implement methods to rent a vehicle, return a vehicle, and display available vehicles.\n",
    "\n"
   ]
  },
  {
   "cell_type": "code",
   "execution_count": 8,
   "id": "5a3c0ac6",
   "metadata": {},
   "outputs": [
    {
     "name": "stdout",
     "output_type": "stream",
     "text": [
      "Successfully rented 'Mini Cooper'\n",
      "Available vehicles at My Motors:\n",
      "\t- Acura TLX (x1)\n",
      "\t- Audi A4 (x1)\n",
      "\t- BMW 3 Series (x1)\n",
      "\t- Buick Regal (x1)\n",
      "\t- Cadillac CT4 (x1)\n",
      "\t- Chevrolet Camaro (x1)\n",
      "\t- Chrysler 300 (x1)\n",
      "\t- Dodge Charger (x1)\n",
      "\t- Ford Mustang (x1)\n",
      "\t- Honda Accord (x1)\n",
      "\t- Hyundai Sonata (x1)\n",
      "\t- Infiniti Q50 (x1)\n",
      "\t- Jaguar XE (x1)\n",
      "\t- Jeep Wrangler (x1)\n",
      "\t- Kia K5 (x1)\n",
      "\t- Lexus GS (x1)\n",
      "\t- Lincoln MKZ (x1)\n",
      "\t- Mercedes-Benz C-Class (x1)\n",
      "\t- Mini Cooper (x1)\n",
      "\t- Nissan Altima (x1)\n",
      "\t- Porsche 911 (x1)\n",
      "\t- Subaru WRX (x1)\n",
      "\t- Toyota Camry (x1)\n",
      "\t- Volkswagen Jetta (x1)\n",
      "\t- Volvo S60 (x1)\n",
      "Available vehicles at My Motors:\n",
      "\t- Acura TLX (x1)\n",
      "\t- Audi A4 (x1)\n",
      "\t- BMW 3 Series (x1)\n",
      "\t- Buick Regal (x1)\n",
      "\t- Cadillac CT4 (x1)\n",
      "\t- Chevrolet Camaro (x1)\n",
      "\t- Chrysler 300 (x1)\n",
      "\t- Dodge Charger (x1)\n",
      "\t- Ford Mustang (x1)\n",
      "\t- Honda Accord (x1)\n",
      "\t- Hyundai Sonata (x1)\n",
      "\t- Infiniti Q50 (x1)\n",
      "\t- Jaguar XE (x1)\n",
      "\t- Jeep Wrangler (x1)\n",
      "\t- Kia K5 (x1)\n",
      "\t- Lexus GS (x1)\n",
      "\t- Lincoln MKZ (x1)\n",
      "\t- Mercedes-Benz C-Class (x1)\n",
      "\t- Mini Cooper (x1)\n",
      "\t- Nissan Altima (x1)\n",
      "\t- Porsche 911 (x1)\n",
      "\t- Subaru WRX (x1)\n",
      "\t- Toyota Camry (x1)\n",
      "\t- Volkswagen Jetta (x1)\n",
      "\t- Volvo S60 (x1)\n"
     ]
    }
   ],
   "source": [
    "from collections import Counter\n",
    "\n",
    "class VehicleRental:\n",
    "\n",
    "    def __init__(self, vehicle_shop_name, names_of_vehicles):\n",
    "        self.vehicle_shop_name = vehicle_shop_name\n",
    "        self.vehicles = list(names_of_vehicles)\n",
    "        self.available_vehicles = Counter(names_of_vehicles)\n",
    "\n",
    "    def get_vehicle(self, name_of_vehicle):\n",
    "        if name_of_vehicle not in self.available_vehicles:\n",
    "            raise KeyError(f\"Vehicle '{name_of_vehicle}' not available\")\n",
    "        self.available_vehicles[name_of_vehicle] -= 1\n",
    "        return f\"Successfully rented '{name_of_vehicle}'\"\n",
    "\n",
    "    def return_vehicle(self, name_of_vehicle):\n",
    "        if name_of_vehicle not in self.available_vehicles:\n",
    "            # Optionally, handle vehicle not returned with a warning\n",
    "            return f\"Vehicle '{name_of_vehicle}' already returned\"\n",
    "        self.available_vehicles[name_of_vehicle] += 1\n",
    "        return f\"Thank you for returning '{name_of_vehicle}'\"\n",
    "\n",
    "    def show_available_vehicles(self):\n",
    "        return f\"Available vehicles at {self.vehicle_shop_name}:\\n\" + \"\\n\".join(f\"\\t- {vehicle} (x{count})\" for vehicle, count in self.available_vehicles.items())\n",
    "\n",
    "# Example usage\n",
    "shop_name = \"My Motors\"\n",
    "vehicle_names = ['Acura TLX','Audi A4','BMW 3 Series','Buick Regal','Cadillac CT4','Chevrolet Camaro','Chrysler 300','Dodge Charger'\n",
    ",'Ford Mustang','Honda Accord','Hyundai Sonata','Infiniti Q50','Jaguar XE','Jeep Wrangler','Kia K5','Lexus GS','Lincoln MKZ','Mercedes-Benz C-Class','Mini Cooper','Nissan Altima'\n",
    ",'Porsche 911','Subaru WRX','Toyota Camry','Volkswagen Jetta','Volvo S60','Mini Cooper']\n",
    "rental_system = VehicleRental(shop_name, vehicle_names)\n",
    "\n",
    "# Get a vehicle\n",
    "rented_vehicle = rental_system.get_vehicle('Mini Cooper')\n",
    "print(rented_vehicle)\n",
    "\n",
    "# Show available vehicles after renting\n",
    "print(rental_system.show_available_vehicles())\n",
    "\n",
    "# Return a vehicle\n",
    "# returned_vehicle = rental_system.return_vehicle('Audi A4')\n",
    "# print(returned_vehicle)\n",
    "\n",
    "# Show available vehicles after returning\n",
    "print(rental_system.show_available_vehicles())\n",
    "\n",
    "    \n",
    "\n"
   ]
  },
  {
   "cell_type": "markdown",
   "id": "e3911b55",
   "metadata": {},
   "source": [
    "Problem 4: Library Catalog Create classes representing a library and a book. Implement methods to add books to the library, borrow books, and display available books.\n",
    "\n"
   ]
  },
  {
   "cell_type": "code",
   "execution_count": 5,
   "id": "8ae9c2a6",
   "metadata": {},
   "outputs": [
    {
     "name": "stdout",
     "output_type": "stream",
     "text": [
      "['Mathematics', 'Chemistry', 'Physics', 'Biology', 'Bengali', 'Hindi', 'English', 'Marathi', 'History', 'Geography']\n",
      "None\n",
      "['Mathematics', 'Chemistry', 'Physics', 'Biology', 'Bengali', 'Hindi', 'English', 'Marathi', 'History', 'Geography', 'Pw']\n",
      "None\n",
      "['Mathematics', 'Physics', 'Biology', 'Bengali', 'Hindi', 'English', 'Marathi', 'History', 'Geography', 'Pw']\n"
     ]
    }
   ],
   "source": [
    "class Library():\n",
    "    def __init__(self):\n",
    "        self.book = ['Mathematics','Chemistry','Physics','Biology','Bengali','Hindi','English','Marathi','History','Geography']\n",
    "\n",
    "    def add_books(self,book_add):\n",
    "        self.book.append(book_add)\n",
    "    \n",
    "    def borrow_books(self,borrow_books):\n",
    "        self.book.remove(borrow_books)\n",
    "    def display_book(self):\n",
    "        return self.book\n",
    "\n",
    "k=Library()\n",
    "print(k.display_book())\n",
    "print(k.add_books('Pw'))\n",
    "print(k.display_book())\n",
    "print(k.borrow_books('Chemistry'))\n",
    "print(k.display_book())"
   ]
  },
  {
   "cell_type": "markdown",
   "id": "ed476469",
   "metadata": {},
   "source": [
    "Problem 5: Product Inventory Create classes representing a product and an inventory system. Implement methods to add products to the inventory, update product quantity, and display available products.\n",
    "\n"
   ]
  },
  {
   "cell_type": "code",
   "execution_count": 11,
   "id": "f1fd61a6",
   "metadata": {},
   "outputs": [
    {
     "name": "stdout",
     "output_type": "stream",
     "text": [
      "None\n",
      "{'Honny': 4}\n",
      "None\n",
      "{'Honny': 9}\n",
      "None\n",
      "{'Honny': 9, 'apple': 4}\n",
      "None\n",
      "{'Honny': 9, 'apple': 2}\n"
     ]
    }
   ],
   "source": [
    "class Inventory_system():\n",
    "    def __init__(self):\n",
    "        self.Inventory = {}\n",
    "\n",
    "    def products(self):\n",
    "        return self.Inventory\n",
    "    \n",
    "    def add_product(self, product_name,Quantity):\n",
    "        if product_name  not in self.Inventory:\n",
    "            self.Inventory[product_name] =Quantity\n",
    "        else:\n",
    "            a=self.Inventory[product_name] \n",
    "            self.Inventory[product_name]=a+Quantity\n",
    "\n",
    "    def remove_product(self, product_name,Quantity):\n",
    "        a=self.Inventory[product_name]\n",
    "        self.Inventory[product_name]=a-Quantity\n",
    "\n",
    "    def display_product(self):\n",
    "        return self.Inventory\n",
    "    \n",
    "b=Inventory_system()\n",
    "print(b.add_product(\"Honny\",4)) \n",
    "print(b.display_product())\n",
    "print(b.add_product(\"Honny\",5)) \n",
    "print(b.display_product())\n",
    "print(b.add_product(\"apple\",4)) \n",
    "print(b.display_product())\n",
    "\n",
    "print(b.remove_product(\"apple\",2))\n",
    "print(b.display_product())"
   ]
  },
  {
   "cell_type": "markdown",
   "id": "a1afea9a",
   "metadata": {},
   "source": [
    "Problem 6: Shape Calculation Create a class representing a shape with attributes like length, width, and height. Implement methods to calculate the area and perimeter of the shape.\n",
    "\n"
   ]
  },
  {
   "cell_type": "code",
   "execution_count": 2,
   "id": "804b9bf3",
   "metadata": {},
   "outputs": [
    {
     "name": "stdout",
     "output_type": "stream",
     "text": [
      "50\n"
     ]
    }
   ],
   "source": [
    "import math\n",
    "\n",
    "class AreaOfShape():\n",
    "    def __init__(self, length=None, width=None, height=None, radius=None):\n",
    "        self.length = length\n",
    "        self.width = width\n",
    "        self.height = height\n",
    "        self.radius = radius\n",
    "\n",
    "    def area(self):\n",
    "        if self.length is not None and self.width is not None and self.height is not None:\n",
    "            s = (self.length + self.width + self.height) / 2\n",
    "            return round((s * (s - self.length) * (s - self.width) * (s - self.height)) ** 0.5, 2)\n",
    "        elif self.radius is not None:\n",
    "            return round(math.pi * self.radius**2, 2)\n",
    "        elif self.length is not None and self.width is not None:\n",
    "            return self.length * self.width\n",
    "        else:\n",
    "            print(\"Please provide valid dimensions for a triangle, rectangle, or circle.\")\n",
    "\n",
    "k = AreaOfShape(length=10, width=5)\n",
    "print(k.area())"
   ]
  },
  {
   "cell_type": "markdown",
   "id": "25e0f46d",
   "metadata": {},
   "source": [
    "Problem 7: Student Management Create a class representing a student with attributes like student ID, name, and grades. Implement methods to calculate the average grade and display student details.\n",
    "\n"
   ]
  },
  {
   "cell_type": "markdown",
   "id": "a6988bf6",
   "metadata": {},
   "source": [
    "Problem 8: Email Management Create a class representing an email with attributes like sender, recipient, and subject. Implement methods to send an email and display email details.\n",
    "\n"
   ]
  },
  {
   "cell_type": "markdown",
   "id": "760d9ebf",
   "metadata": {},
   "source": [
    "Problem 9: Social Media Profile Create a class representing a social media profile with attributes like username and posts. Implement methods to add posts, display posts, and search for posts by keyword.\n",
    "\n"
   ]
  },
  {
   "cell_type": "markdown",
   "id": "5c84cbce",
   "metadata": {},
   "source": [
    "Problem 10: ToDo List Create a class representing a ToDo list with attributes like tasks and due dates. Implement methods to add tasks, mark tasks as completed, and display pending tasks."
   ]
  },
  {
   "cell_type": "code",
   "execution_count": null,
   "id": "fef1683a-faa4-4d27-a0a6-7a742e512e9b",
   "metadata": {},
   "outputs": [],
   "source": []
  }
 ],
 "metadata": {
  "kernelspec": {
   "display_name": "Python 3 (ipykernel)",
   "language": "python",
   "name": "python3"
  },
  "language_info": {
   "codemirror_mode": {
    "name": "ipython",
    "version": 3
   },
   "file_extension": ".py",
   "mimetype": "text/x-python",
   "name": "python",
   "nbconvert_exporter": "python",
   "pygments_lexer": "ipython3",
   "version": "3.11.6"
  }
 },
 "nbformat": 4,
 "nbformat_minor": 5
}
