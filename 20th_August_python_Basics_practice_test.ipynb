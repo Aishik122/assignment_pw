{
 "cells": [
  {
   "cell_type": "markdown",
   "metadata": {},
   "source": [
    "# TOPIC: String Based Assignment Problem"
   ]
  },
  {
   "cell_type": "markdown",
   "metadata": {},
   "source": [
    "1. Write a program to reverse a string."
   ]
  },
  {
   "cell_type": "code",
   "execution_count": 1,
   "metadata": {},
   "outputs": [
    {
     "name": "stdout",
     "output_type": "stream",
     "text": [
      "dlroW wolleH\n"
     ]
    }
   ],
   "source": [
    "def rev_str(str):\n",
    "    return str[::-1]\n",
    "print(rev_str(\"Hellow World\"))"
   ]
  },
  {
   "cell_type": "markdown",
   "metadata": {},
   "source": [
    "2. Check if a string is a palindrome."
   ]
  },
  {
   "cell_type": "code",
   "execution_count": 2,
   "metadata": {},
   "outputs": [
    {
     "name": "stdout",
     "output_type": "stream",
     "text": [
      "not a palindrom\n",
      "palindrom\n"
     ]
    }
   ],
   "source": [
    "def palindrom(str):\n",
    "    if str.lower() == str[::-1].lower():\n",
    "        return \"palindrom\"\n",
    "    else:\n",
    "        return \"not a palindrom\"\n",
    "print(palindrom(\"Cat\"))\n",
    "print(palindrom(\"Mam\"))"
   ]
  },
  {
   "cell_type": "markdown",
   "metadata": {},
   "source": [
    "3. Convert a string to uppercase."
   ]
  },
  {
   "cell_type": "code",
   "execution_count": 10,
   "metadata": {},
   "outputs": [
    {
     "name": "stdout",
     "output_type": "stream",
     "text": [
      "HELLOW\u0000\n"
     ]
    }
   ],
   "source": [
    "def upper_case(str):\n",
    "    a=\"\"\n",
    "    for i in range(len(str)):\n",
    "        if ord(str[i]) not in range(65,91):\n",
    "            a=a+chr(ord(str[i])-32)\n",
    "        else:\n",
    "            a=a+chr(ord(str[i]))\n",
    "    return a \n",
    "print(upper_case('Hellow '))"
   ]
  },
  {
   "cell_type": "code",
   "execution_count": 9,
   "metadata": {},
   "outputs": [
    {
     "name": "stdout",
     "output_type": "stream",
     "text": [
      "HELLOW , WORLD\n"
     ]
    }
   ],
   "source": [
    "# another method \n",
    "def upper_case(str):\n",
    "    return str.upper()\n",
    "print(upper_case('Hellow , world'))"
   ]
  },
  {
   "cell_type": "markdown",
   "metadata": {},
   "source": [
    "4. Convert a string to lowercase."
   ]
  },
  {
   "cell_type": "code",
   "execution_count": 14,
   "metadata": {},
   "outputs": [
    {
     "name": "stdout",
     "output_type": "stream",
     "text": [
      "hellow\n"
     ]
    }
   ],
   "source": [
    "def upper_case(str):\n",
    "    return str.lower()\n",
    "print(upper_case('Hellow'))"
   ]
  },
  {
   "cell_type": "markdown",
   "metadata": {},
   "source": [
    "5. Count the number of vowels in a string."
   ]
  },
  {
   "cell_type": "code",
   "execution_count": 15,
   "metadata": {},
   "outputs": [
    {
     "name": "stdout",
     "output_type": "stream",
     "text": [
      "2\n"
     ]
    }
   ],
   "source": [
    "def vowels_count(str):\n",
    "    a=0\n",
    "    for i in range(len(str)):\n",
    "        if str[i].lower() in \"aeiou\":\n",
    "            a+=1\n",
    "    return a\n",
    "print(vowels_count('School')) "
   ]
  },
  {
   "cell_type": "markdown",
   "metadata": {},
   "source": [
    "6. Count the number of consonants in a string."
   ]
  },
  {
   "cell_type": "code",
   "execution_count": 16,
   "metadata": {},
   "outputs": [
    {
     "name": "stdout",
     "output_type": "stream",
     "text": [
      "4\n"
     ]
    }
   ],
   "source": [
    "def vowels_count(str):\n",
    "    a=0\n",
    "    for i in range(len(str)):\n",
    "        if str[i].lower() not in \"aeiou\":\n",
    "            a+=1\n",
    "    return a\n",
    "print(vowels_count('School')) "
   ]
  },
  {
   "cell_type": "markdown",
   "metadata": {},
   "source": [
    "7. Remove all whitespaces from a string."
   ]
  },
  {
   "cell_type": "code",
   "execution_count": 17,
   "metadata": {},
   "outputs": [
    {
     "name": "stdout",
     "output_type": "stream",
     "text": [
      "HeLLOw\n"
     ]
    }
   ],
   "source": [
    "def space_remove(str):\n",
    "    a=\"\"\n",
    "    for i in range(len(str)):\n",
    "        if ord(str[i]) != 32 : # here I use ascii value of space to remove it from string , If the value is 32(for space) then the logic not add it is the new str a  \n",
    "            a+=str[i]\n",
    "    return a \n",
    "print(space_remove(\"H  e L L O w\"))"
   ]
  },
  {
   "cell_type": "code",
   "execution_count": 19,
   "metadata": {},
   "outputs": [
    {
     "name": "stdout",
     "output_type": "stream",
     "text": [
      "Python for data manipulation and data science\n"
     ]
    }
   ],
   "source": [
    "def space_remove(str):\n",
    "    return str.strip()\n",
    "print(space_remove('     Python for data manipulation and data science   '))"
   ]
  },
  {
   "cell_type": "markdown",
   "metadata": {},
   "source": [
    "8. Find the length of a string without using the `len()` function."
   ]
  },
  {
   "cell_type": "code",
   "execution_count": 22,
   "metadata": {},
   "outputs": [
    {
     "name": "stdout",
     "output_type": "stream",
     "text": [
      "6\n"
     ]
    }
   ],
   "source": [
    "def len_str(str):\n",
    "    c=0\n",
    "    for i in str:\n",
    "        c+=1\n",
    "    return c \n",
    "print(len_str(\"Hellow\"))"
   ]
  },
  {
   "cell_type": "markdown",
   "metadata": {},
   "source": [
    "9. Check if a string contains a specific word."
   ]
  },
  {
   "cell_type": "code",
   "execution_count": 24,
   "metadata": {},
   "outputs": [
    {
     "name": "stdout",
     "output_type": "stream",
     "text": [
      "hellow is present in string\n"
     ]
    }
   ],
   "source": [
    "def word_check(str,word):\n",
    "    if word in str:\n",
    "        return f\"{word} is present in string\"\n",
    "    else:\n",
    "        return f\"{word} is not there byee !\"\n",
    "print(word_check(\"hellow World\",\"hellow\"))"
   ]
  },
  {
   "cell_type": "markdown",
   "metadata": {},
   "source": [
    "10. Replace a word in a string with another word."
   ]
  },
  {
   "cell_type": "code",
   "execution_count": 28,
   "metadata": {},
   "outputs": [
    {
     "name": "stdout",
     "output_type": "stream",
     "text": [
      "good is replaced with very good in the given string\n",
      "python is very good for coding \n"
     ]
    }
   ],
   "source": [
    "def str_replace(str,word_to_replace,replacement_word):\n",
    "    if word_to_replace in str:\n",
    "        str=str.replace(word_to_replace,replacement_word)\n",
    "        print( f\"{word_to_replace} is replaced with {replacement_word} in the given string\")\n",
    "        return str\n",
    "    else:\n",
    "        return f\"{word_to_replace} not present in {str}\"\n",
    "print(str_replace(\"python is good for coding \",\"good\",\"very good\"))"
   ]
  },
  {
   "cell_type": "markdown",
   "metadata": {},
   "source": [
    "11. Count the occurrences of a word in a string."
   ]
  },
  {
   "cell_type": "code",
   "execution_count": 32,
   "metadata": {},
   "outputs": [
    {
     "name": "stdout",
     "output_type": "stream",
     "text": [
      "1\n"
     ]
    }
   ],
   "source": [
    "def count_occurrences(str,word):\n",
    "    c=0\n",
    "    a=str.split()\n",
    "    x=a.count(word)\n",
    "    return x\n",
    "print(count_occurrences(\"The world is beautiful\",\"is\"))"
   ]
  },
  {
   "cell_type": "markdown",
   "metadata": {},
   "source": [
    "12. Find the first occurrence of a word in a string."
   ]
  },
  {
   "cell_type": "code",
   "execution_count": 37,
   "metadata": {},
   "outputs": [
    {
     "name": "stdout",
     "output_type": "stream",
     "text": [
      "10\n"
     ]
    }
   ],
   "source": [
    "def first_occurrences(str,word):\n",
    "    return str.find(word,0,len(str))\n",
    "print(first_occurrences(\"The world is beautiful\",\"is\"))"
   ]
  },
  {
   "cell_type": "markdown",
   "metadata": {},
   "source": [
    "13. Find the last occurrence of a word in a string."
   ]
  },
  {
   "cell_type": "code",
   "execution_count": 42,
   "metadata": {},
   "outputs": [
    {
     "name": "stdout",
     "output_type": "stream",
     "text": [
      "last occurrence of substring is 12\n"
     ]
    }
   ],
   "source": [
    "def last_occurrences(x,word):\n",
    "    res=x.rindex(word)\n",
    "    return 'last occurrence of substring is ' + str(res)\n",
    "\n",
    "print(last_occurrences('best of the best is still i forgot where to go','best'))"
   ]
  },
  {
   "cell_type": "markdown",
   "metadata": {},
   "source": [
    "14. Split a string into a list of words."
   ]
  },
  {
   "cell_type": "code",
   "execution_count": 44,
   "metadata": {},
   "outputs": [
    {
     "name": "stdout",
     "output_type": "stream",
     "text": [
      "['hellow', 'universe']\n"
     ]
    }
   ],
   "source": [
    "def str_spliter(x):\n",
    "    return x.split()\n",
    "print(str_spliter(\"hellow universe\"))"
   ]
  },
  {
   "cell_type": "markdown",
   "metadata": {},
   "source": [
    "15. Join a list of words into a string."
   ]
  },
  {
   "cell_type": "code",
   "execution_count": 46,
   "metadata": {},
   "outputs": [
    {
     "data": {
      "text/plain": [
       "'hellow , my name is aishik'"
      ]
     },
     "execution_count": 46,
     "metadata": {},
     "output_type": "execute_result"
    }
   ],
   "source": [
    "def str_join(*x):\n",
    "    a=[k for k in x]\n",
    "    return \" \".join(a)\n",
    "str_join(\"hellow\",\",\",\"my name\",\"is\",\"aishik\")"
   ]
  },
  {
   "cell_type": "code",
   "execution_count": 48,
   "metadata": {},
   "outputs": [
    {
     "data": {
      "text/plain": [
       "'hellow , my name is aishik'"
      ]
     },
     "execution_count": 48,
     "metadata": {},
     "output_type": "execute_result"
    }
   ],
   "source": [
    "def str_join(*x):\n",
    "    a=''\n",
    "    for i in x:\n",
    "        a=a+\" \"+i\n",
    "    return a.strip()\n",
    "str_join(\"hellow\",\",\",\"my name\",\"is\",\"aishik\")"
   ]
  },
  {
   "cell_type": "markdown",
   "metadata": {},
   "source": [
    "16. Convert a string where words are separated by spaces to one where words\n",
    "are separated by underscores."
   ]
  },
  {
   "cell_type": "code",
   "execution_count": 51,
   "metadata": {},
   "outputs": [
    {
     "name": "stdout",
     "output_type": "stream",
     "text": [
      "Hellow_frinds_,_whats_up?_\n"
     ]
    }
   ],
   "source": [
    "def space_underscore_separator(x):\n",
    "    a=''\n",
    "    for i in x:\n",
    "        if ord(i) == 32 :\n",
    "            a=a+chr(95)\n",
    "        else:\n",
    "            a+=i\n",
    "    return a \n",
    "print(space_underscore_separator('Hellow frinds , whats up? '))"
   ]
  },
  {
   "cell_type": "code",
   "execution_count": 52,
   "metadata": {},
   "outputs": [
    {
     "name": "stdout",
     "output_type": "stream",
     "text": [
      "Hellow_frinds_,_whats_up?_\n"
     ]
    }
   ],
   "source": [
    "# using str replace \n",
    "def space_underscore_separator(x):\n",
    "    x=x.replace(' ','_')\n",
    "    return x \n",
    "print(space_underscore_separator('Hellow frinds , whats up? '))"
   ]
  },
  {
   "cell_type": "markdown",
   "metadata": {},
   "source": [
    "17. Check if a string starts with a specific word or phrase."
   ]
  },
  {
   "cell_type": "code",
   "execution_count": 54,
   "metadata": {},
   "outputs": [
    {
     "name": "stdout",
     "output_type": "stream",
     "text": [
      "learn every day start with learn\n",
      "False\n"
     ]
    }
   ],
   "source": [
    "def first_word_checker(x,word):\n",
    "    a=x.split()[0]\n",
    "    if a==word:\n",
    "        return f\"{x} , start with {word}\"\n",
    "    else:\n",
    "        return False\n",
    "print(first_word_checker(\"learn every day\",\"learn\"))\n",
    "print(first_word_checker(\"learn every day\",\"day\"))"
   ]
  },
  {
   "cell_type": "markdown",
   "metadata": {},
   "source": [
    "18. Check if a string ends with a specific word or phrase."
   ]
  },
  {
   "cell_type": "code",
   "execution_count": 57,
   "metadata": {},
   "outputs": [
    {
     "name": "stdout",
     "output_type": "stream",
     "text": [
      "False\n",
      "learn every day , end with day\n"
     ]
    }
   ],
   "source": [
    "def last_word_checker(x,word):\n",
    "    a=x.split()[-1]\n",
    "    if a==word:\n",
    "        return f\"{x} , end with {word}\"\n",
    "    else:\n",
    "        return False\n",
    "print(last_word_checker(\"learn every day\",\"learn\"))\n",
    "print(last_word_checker(\"learn every day\",\"day\"))"
   ]
  },
  {
   "cell_type": "markdown",
   "metadata": {},
   "source": [
    "19. Convert a string to title case (e.g., \"hello world\" to \"Hello World\")."
   ]
  },
  {
   "cell_type": "code",
   "execution_count": 58,
   "metadata": {},
   "outputs": [
    {
     "name": "stdout",
     "output_type": "stream",
     "text": [
      "Hellow , Friends\n"
     ]
    }
   ],
   "source": [
    "def title_case(x):\n",
    "    return x.title()\n",
    "print(title_case('hellow , friends'))"
   ]
  },
  {
   "cell_type": "markdown",
   "metadata": {},
   "source": [
    "20. Find the longest word in a string."
   ]
  },
  {
   "cell_type": "code",
   "execution_count": 69,
   "metadata": {},
   "outputs": [
    {
     "name": "stdout",
     "output_type": "stream",
     "text": [
      "Beautiful\n"
     ]
    }
   ],
   "source": [
    "a=\"Beautiful is better than ugly , Explicit is better than implicit.\"\n",
    "def long_word(x):\n",
    "    x=x.split()\n",
    "    for j in range(len(x)):\n",
    "        for i in range(len(x)-1):\n",
    "            if len(x[i])<len(x[i+1]):\n",
    "                x[i+1],x[i]=x[i],x[i+1]\n",
    "    return x[0]\n",
    "print(long_word(a))"
   ]
  },
  {
   "cell_type": "markdown",
   "metadata": {},
   "source": [
    "21. Find the shortest word in a string."
   ]
  },
  {
   "cell_type": "code",
   "execution_count": 74,
   "metadata": {},
   "outputs": [
    {
     "name": "stdout",
     "output_type": "stream",
     "text": [
      "['Beautiful', 'implicit.', 'Explicit', 'better', 'better', 'than', 'ugly', 'than', 'is', 'is']\n",
      "is\n"
     ]
    }
   ],
   "source": [
    "a=\"Beautiful is better than ugly , Explicit is better than implicit.\"\n",
    "def sort_word(x):\n",
    "    x=x.split()\n",
    "    x=[z for z in x if len(z)>1]\n",
    "    for j in range(len(x)):\n",
    "        for i in range(len(x)-1):\n",
    "            if len(x[i])<len(x[i+1]) and x[i]!= \",\":\n",
    "                x[i+1],x[i]=x[i],x[i+1]\n",
    "    print(x)\n",
    "    return x[-1]\n",
    "print(sort_word(a))"
   ]
  },
  {
   "cell_type": "markdown",
   "metadata": {},
   "source": [
    "22. Reverse the order of words in a string."
   ]
  },
  {
   "cell_type": "code",
   "execution_count": 76,
   "metadata": {},
   "outputs": [
    {
     "name": "stdout",
     "output_type": "stream",
     "text": [
      "implicit. than better is Explicit , ugly than better is Beautiful\n"
     ]
    }
   ],
   "source": [
    "def rev_ord(x):\n",
    "    x=x.split()\n",
    "    x=x[::-1]\n",
    "    return \" \".join(x).strip()\n",
    "print(rev_ord(a))"
   ]
  },
  {
   "cell_type": "markdown",
   "metadata": {},
   "source": [
    "23. Check if a string is alphanumeric."
   ]
  },
  {
   "cell_type": "code",
   "execution_count": 82,
   "metadata": {},
   "outputs": [
    {
     "name": "stdout",
     "output_type": "stream",
     "text": [
      "True\n"
     ]
    }
   ],
   "source": [
    "def str_alpha(x):\n",
    "    return x.isalnum()\n",
    "print(str_alpha(\"Hellowbacchooooo1222222223\"))"
   ]
  },
  {
   "cell_type": "markdown",
   "metadata": {},
   "source": [
    "24. Extract all digits from a string."
   ]
  },
  {
   "cell_type": "code",
   "execution_count": 84,
   "metadata": {},
   "outputs": [
    {
     "name": "stdout",
     "output_type": "stream",
     "text": [
      "['1', '2', '3', '4', '5', '6', '7', '8', '9', '0']\n"
     ]
    }
   ],
   "source": [
    "def extract_num_from_string(x):\n",
    "    a=[]\n",
    "    for i in range(len(x)):\n",
    "        if x[i].isdigit():\n",
    "            a.append(x[i])\n",
    "    return a\n",
    "print(extract_num_from_string('hellow1234567890'))"
   ]
  },
  {
   "cell_type": "markdown",
   "metadata": {},
   "source": [
    "25. Extract all alphabets from a string."
   ]
  },
  {
   "cell_type": "code",
   "execution_count": 85,
   "metadata": {},
   "outputs": [
    {
     "name": "stdout",
     "output_type": "stream",
     "text": [
      "['h', 'e', 'l', 'l', 'o', 'w']\n"
     ]
    }
   ],
   "source": [
    "def extract_num_from_string(x):\n",
    "    a=[]\n",
    "    for i in range(len(x)):\n",
    "        if x[i].isalpha():\n",
    "            a.append(x[i])\n",
    "    return a\n",
    "print(extract_num_from_string('hellow1234567890'))"
   ]
  },
  {
   "cell_type": "markdown",
   "metadata": {},
   "source": [
    "26. Count the number of uppercase letters in a string."
   ]
  },
  {
   "cell_type": "code",
   "execution_count": 2,
   "metadata": {},
   "outputs": [
    {
     "name": "stdout",
     "output_type": "stream",
     "text": [
      "['W', 'T', 'T', 'U']\n"
     ]
    }
   ],
   "source": [
    "def ct_u(x):\n",
    "    l=[]\n",
    "    for i in range(len(x)):\n",
    "        if ord(x[i]) in range(65,91):\n",
    "            l.append(x[i])\n",
    "    return l\n",
    "print(ct_u(\"Welcome To The Universe\"))"
   ]
  },
  {
   "cell_type": "markdown",
   "metadata": {},
   "source": [
    "27. Count the number of lowercase letters in a string."
   ]
  },
  {
   "cell_type": "code",
   "execution_count": 4,
   "metadata": {},
   "outputs": [
    {
     "name": "stdout",
     "output_type": "stream",
     "text": [
      "['e', 'l', 'c', 'o', 'm', 'e', 'o', 'h', 'e', 'n', 'i', 'v', 'e', 'r', 's', 'e']\n"
     ]
    }
   ],
   "source": [
    "def ct_l(x):\n",
    "    l=[]\n",
    "    for i in range(len(x)):\n",
    "        if ord(x[i]) in range(95,95+27):\n",
    "            l.append(x[i])\n",
    "    return l\n",
    "print(ct_l(\"Welcome To The Universe\"))"
   ]
  },
  {
   "cell_type": "markdown",
   "metadata": {},
   "source": [
    "28. Swap the case of each character in a string."
   ]
  },
  {
   "cell_type": "code",
   "execution_count": 1,
   "metadata": {},
   "outputs": [
    {
     "name": "stdout",
     "output_type": "stream",
     "text": [
      "HELloWuNIVeRsE\n"
     ]
    }
   ],
   "source": [
    "def swp_str(x):\n",
    "    swp_str = x.swapcase()\n",
    "    return swp_str\n",
    "print( swp_str(\"helLOwUnivErSe\"))"
   ]
  },
  {
   "cell_type": "markdown",
   "metadata": {},
   "source": [
    "29. Remove a specific word from a string."
   ]
  },
  {
   "cell_type": "code",
   "execution_count": 3,
   "metadata": {},
   "outputs": [
    {
     "name": "stdout",
     "output_type": "stream",
     "text": [
      "Universe\n"
     ]
    }
   ],
   "source": [
    "def rem_wrd(x,rem_word):\n",
    "    x=x.split()\n",
    "    res=[]\n",
    "    for i in x:\n",
    "        if i != rem_word:\n",
    "            res.append(i)\n",
    "    return \" \".join(res).strip()\n",
    "\n",
    "print(rem_wrd(\"Hellow Universe\",\"Hellow\"))"
   ]
  },
  {
   "cell_type": "markdown",
   "metadata": {},
   "source": [
    "30. Check if a string is a valid email address."
   ]
  },
  {
   "cell_type": "code",
   "execution_count": 8,
   "metadata": {},
   "outputs": [
    {
     "name": "stdout",
     "output_type": "stream",
     "text": [
      "True\n",
      "True\n",
      "False\n",
      "False\n"
     ]
    }
   ],
   "source": [
    "def val_email(x):\n",
    "    if x[0]==\".\" or x[1]==\".\" or x[-1] == \".\" or x[-2]==\".\":\n",
    "        return False\n",
    "    if x[0]==\"@\" or x[1]==\"@\" or x[-1] == \"@\" or x[-2]==\"@\":\n",
    "        return False\n",
    "    else:\n",
    "        v=[]\n",
    "        for i in x:\n",
    "            if i==\"@\" or i==\".\":\n",
    "                v.append(i)\n",
    "        if v[0]==\"@\" or v[1]==\".\":\n",
    "            return True\n",
    "        if v[0]==\".\" and v[1]==\"@\" and v[-1]==\".\":\n",
    "            return True\n",
    "        \n",
    "print(val_email('aishikchatterjee12@gmai.com'))\n",
    "print(val_email('aishik.aishik@gmai.com'))\n",
    "print(val_email('.aishik@gmai.'))\n",
    "print(val_email('.aishik@gmai.co'))"
   ]
  },
  {
   "cell_type": "markdown",
   "metadata": {},
   "source": [
    "\n",
    "31. Extract the username from an email address string.\n"
   ]
  },
  {
   "cell_type": "code",
   "execution_count": 14,
   "metadata": {},
   "outputs": [
    {
     "name": "stdout",
     "output_type": "stream",
     "text": [
      "aishikchatterjee12\n",
      "aishik\n"
     ]
    }
   ],
   "source": [
    "def user_email(x):\n",
    "    x=x.split(\"@\")[0]\n",
    "    x=x.split(\".\")\n",
    "    return x[0]\n",
    "print(user_email('aishikchatterjee12@gmai.com'))    \n",
    "print(user_email('aishik.aishik@gmai.com'))  "
   ]
  },
  {
   "cell_type": "markdown",
   "metadata": {},
   "source": [
    "32. Extract the domain name from an email address string.\n"
   ]
  },
  {
   "cell_type": "code",
   "execution_count": 23,
   "metadata": {},
   "outputs": [
    {
     "name": "stdout",
     "output_type": "stream",
     "text": [
      "gmai\n",
      "gmai\n"
     ]
    }
   ],
   "source": [
    "def user_email(x):\n",
    "    x=x.split(\"@\")[-1]\n",
    "    x=x.split(\".\")\n",
    "    return x[-2]\n",
    "print(user_email('aishikchatterjee12@gmai.com'))    \n",
    "print(user_email('aishik.aishik@gmai.com'))  "
   ]
  },
  {
   "cell_type": "markdown",
   "metadata": {},
   "source": [
    "33. Replace multiple spaces in a string with a single space.\n"
   ]
  },
  {
   "cell_type": "code",
   "execution_count": 24,
   "metadata": {},
   "outputs": [
    {
     "name": "stdout",
     "output_type": "stream",
     "text": [
      "python is OP\n"
     ]
    }
   ],
   "source": [
    "def single_space(x):\n",
    "    x=x.split()\n",
    "    return \" \".join(x).strip()\n",
    "print(single_space(\"python    is    OP\"))"
   ]
  },
  {
   "cell_type": "markdown",
   "metadata": {},
   "source": [
    "34. Check if a string is a valid URL.\n"
   ]
  },
  {
   "cell_type": "code",
   "execution_count": 28,
   "metadata": {},
   "outputs": [
    {
     "name": "stdout",
     "output_type": "stream",
     "text": [
      "True\n",
      "False\n"
     ]
    }
   ],
   "source": [
    "def valid_url(x):\n",
    "    x=x.split(\".\")\n",
    "    if len(x)!=3:\n",
    "        return False\n",
    "    else:\n",
    "        return True\n",
    "print(valid_url(\"www.google.com\"))\n",
    "print(valid_url(\"wwwgoogle.com\"))"
   ]
  },
  {
   "cell_type": "markdown",
   "metadata": {},
   "source": [
    "35. Extract the protocol (http or https) from a URL string.\n"
   ]
  },
  {
   "cell_type": "code",
   "execution_count": 30,
   "metadata": {},
   "outputs": [
    {
     "name": "stdout",
     "output_type": "stream",
     "text": [
      "https\n",
      "http\n"
     ]
    }
   ],
   "source": [
    "def proto(x):\n",
    "    x=x.split(\":\")\n",
    "    return x[0]\n",
    "print(proto(\"https://www.google.com\"))\n",
    "print(proto(\"http://www.yahoo.com\"))"
   ]
  },
  {
   "cell_type": "markdown",
   "metadata": {},
   "source": [
    "36. Find the frequency of each character in a string.\n"
   ]
  },
  {
   "cell_type": "code",
   "execution_count": 33,
   "metadata": {},
   "outputs": [
    {
     "name": "stdout",
     "output_type": "stream",
     "text": [
      "{'H': 1, 'e': 1, 'l': 2, 'o': 1, 'w': 1}\n"
     ]
    }
   ],
   "source": [
    "def frq(x):\n",
    "    k={}\n",
    "    for i in x:\n",
    "        k[i]=x.count(i)\n",
    "    return k\n",
    "print(frq(\"Hellow\"))"
   ]
  },
  {
   "cell_type": "markdown",
   "metadata": {},
   "source": [
    "37. Remove all punctuation from a string.\n"
   ]
  },
  {
   "cell_type": "code",
   "execution_count": 35,
   "metadata": {},
   "outputs": [
    {
     "name": "stdout",
     "output_type": "stream",
     "text": [
      "hellow World \n"
     ]
    }
   ],
   "source": [
    "def rem_punc(x):\n",
    "    res=\"\"\n",
    "    for i in x:\n",
    "        if ord(i) in range(65,65+27) or ord(i)  in range(97,97+27) or ord(i) == 32 :\n",
    "            res=res+i\n",
    "    return res\n",
    "print(rem_punc(\"hellow! World @\"))"
   ]
  },
  {
   "cell_type": "markdown",
   "metadata": {},
   "source": [
    "38. Check if a string contains only digits.\n"
   ]
  },
  {
   "cell_type": "code",
   "execution_count": 36,
   "metadata": {},
   "outputs": [
    {
     "name": "stdout",
     "output_type": "stream",
     "text": [
      "True\n",
      "False\n"
     ]
    }
   ],
   "source": [
    "def digit(x):\n",
    "    return x.isdigit()\n",
    "print(digit(\"123456\"))\n",
    "print(digit(\"a1sa2asd5aw9e\"))"
   ]
  },
  {
   "cell_type": "markdown",
   "metadata": {},
   "source": [
    "39. Check if a string contains only alphabets.\n"
   ]
  },
  {
   "cell_type": "code",
   "execution_count": 3,
   "metadata": {},
   "outputs": [
    {
     "name": "stdout",
     "output_type": "stream",
     "text": [
      "False\n",
      "False\n",
      "True\n"
     ]
    }
   ],
   "source": [
    "def alpha(x):\n",
    "    return x.isalpha()\n",
    "\n",
    "print(alpha(\"123456\"))\n",
    "print(alpha(\"a1sa2asd5aw9e\"))\n",
    "print(alpha(\"Hellow\"))"
   ]
  },
  {
   "cell_type": "markdown",
   "metadata": {},
   "source": [
    "40. Convert a string to a list of characters.\n"
   ]
  },
  {
   "cell_type": "code",
   "execution_count": 4,
   "metadata": {},
   "outputs": [
    {
     "name": "stdout",
     "output_type": "stream",
     "text": [
      "['H', 'e', 'l', 'l', 'o', 'w', ' ', 'P', 'y', 't', 'h', 'o', 'n']\n"
     ]
    }
   ],
   "source": [
    "def str_chr(x):\n",
    "    l=[z for z in x]\n",
    "    return l\n",
    "print(str_chr(\"Hellow Python\"))"
   ]
  },
  {
   "cell_type": "markdown",
   "metadata": {},
   "source": [
    "41. Check if two strings are anagrams.\n"
   ]
  },
  {
   "cell_type": "code",
   "execution_count": 6,
   "metadata": {},
   "outputs": [
    {
     "name": "stdout",
     "output_type": "stream",
     "text": [
      "True\n",
      "False\n"
     ]
    }
   ],
   "source": [
    "def anagrams(x,y):\n",
    "    i=[z.lower() for z in x]\n",
    "    k=[l.lower() for l in y]\n",
    "    i.sort()\n",
    "    k.sort()\n",
    "    if i==k :\n",
    "        return True\n",
    "    else:\n",
    "        return False\n",
    "    \n",
    "print(anagrams(\"race\",'Care'))\n",
    "print(anagrams(\"Aishik\",'Chatterjee'))"
   ]
  },
  {
   "cell_type": "markdown",
   "metadata": {},
   "source": [
    "42. Encode a string using a Caesar cipher.\n"
   ]
  },
  {
   "cell_type": "code",
   "execution_count": 29,
   "metadata": {},
   "outputs": [
    {
     "name": "stdout",
     "output_type": "stream",
     "text": [
      "Khoor Zruog\n"
     ]
    }
   ],
   "source": [
    "def Caesar_cipher(text,shift=3):\n",
    "    k=\"\"\n",
    "    for i in text:\n",
    "        if ord(i) != 32 :\n",
    "            k=k+chr(ord(i)+shift)\n",
    "        if ord(i) == 32:\n",
    "            k=k+\" \"\n",
    "    return k\n",
    "print(Caesar_cipher(\"Hello World\"))"
   ]
  },
  {
   "cell_type": "markdown",
   "metadata": {},
   "source": [
    "43. Decode a Caesar cipher encoded string.\n"
   ]
  },
  {
   "cell_type": "code",
   "execution_count": 30,
   "metadata": {},
   "outputs": [
    {
     "name": "stdout",
     "output_type": "stream",
     "text": [
      "Hello World\n"
     ]
    }
   ],
   "source": [
    "def CC_decode(text,shift):\n",
    "    k=''\n",
    "    for i in text:\n",
    "        if ord(i) ==32:\n",
    "            k+=\" \"\n",
    "        else:\n",
    "            k=k+chr(ord(i)-shift)\n",
    "    return k\n",
    "print(CC_decode('Khoor Zruog',3))"
   ]
  },
  {
   "cell_type": "markdown",
   "metadata": {},
   "source": [
    "44. Find the most frequent word in a string.\n"
   ]
  },
  {
   "cell_type": "code",
   "execution_count": 34,
   "metadata": {},
   "outputs": [
    {
     "name": "stdout",
     "output_type": "stream",
     "text": [
      "('is', 5)\n"
     ]
    }
   ],
   "source": [
    "def frq_wrd(text):\n",
    "    text=text.split()\n",
    "    d={}\n",
    "    for i in text:\n",
    "        d[i]=text.count(i)\n",
    "    d=sorted(d.items(), key=lambda item: item[1],reverse=True)\n",
    "    return d[0]\n",
    "zen_of_python=\"Beautiful is better than ugly Explicit is better than implicit Simple is better than complex Complex is better than complicated Flat is better than nested \"\n",
    "print(frq_wrd(zen_of_python))"
   ]
  },
  {
   "cell_type": "markdown",
   "metadata": {},
   "source": [
    "45. Find all unique words in a string.\n"
   ]
  },
  {
   "cell_type": "code",
   "execution_count": 36,
   "metadata": {},
   "outputs": [
    {
     "name": "stdout",
     "output_type": "stream",
     "text": [
      "['beautiful', 'ugly', 'explicit', 'implicit', 'simple', 'complicated', 'flat', 'nested']\n"
     ]
    }
   ],
   "source": [
    "def unique_w(text):\n",
    "    text=text.lower().split()\n",
    "    d={}\n",
    "    for i in text:\n",
    "        d[i]=text.count(i)\n",
    "    li=[]\n",
    "    for i,j in d.items():\n",
    "        if j<=1:\n",
    "            li.append(i)\n",
    "    return li\n",
    "print(unique_w(zen_of_python))"
   ]
  },
  {
   "cell_type": "markdown",
   "metadata": {},
   "source": [
    "46. Count the number of syllables in a string.\n"
   ]
  },
  {
   "cell_type": "code",
   "execution_count": 37,
   "metadata": {},
   "outputs": [
    {
     "name": "stdout",
     "output_type": "stream",
     "text": [
      "3\n"
     ]
    }
   ],
   "source": [
    "def count_sy(x):\n",
    "    c=0\n",
    "    for i in x :\n",
    "        if i in ['A',\"E\",'I','O','U','a','e','i','o','u']:\n",
    "            c+=1\n",
    "    return c\n",
    "print(count_sy(\"Avater\"))"
   ]
  },
  {
   "cell_type": "markdown",
   "metadata": {},
   "source": [
    "\n",
    "47. Check if a string contains any special characters.\n"
   ]
  },
  {
   "cell_type": "code",
   "execution_count": 38,
   "metadata": {},
   "outputs": [
    {
     "name": "stdout",
     "output_type": "stream",
     "text": [
      "True\n"
     ]
    }
   ],
   "source": [
    "import re\n",
    "def special_c(x):\n",
    "    p = re.compile(r\"[!@#$%^&*()_+{}\\[\\]:;<>,.?~\\\\/]\")\n",
    "    match = p.search(x)\n",
    "    return bool(match)\n",
    "print(special_c(\"Nice!\"))"
   ]
  },
  {
   "cell_type": "markdown",
   "metadata": {},
   "source": [
    "48. Remove the nth word from a string.\n"
   ]
  },
  {
   "cell_type": "code",
   "execution_count": 51,
   "metadata": {},
   "outputs": [
    {
     "name": "stdout",
     "output_type": "stream",
     "text": [
      "original str was \n",
      "Beautiful is better than ugly Explicit is better than implicit Simple is better than complex Complex is better than complicated Flat is better than nested \n",
      "Beautiful is better than ugly is better than implicit Simple is better than complex Complex is better than complicated Flat is better than nested\n",
      "Beautiful is than ugly Explicit is better than implicit Simple is better than complex Complex is better than complicated Flat is better than nested\n"
     ]
    }
   ],
   "source": [
    "def rem_nth(x,nth):\n",
    "    nth=nth-1\n",
    "    x=x.split()\n",
    "    del x [nth]\n",
    "    return \" \".join(x).strip()\n",
    "print(f'original str was \\n{zen_of_python}')\n",
    "print(rem_nth(zen_of_python,6))\n",
    "print(rem_nth(zen_of_python,3))"
   ]
  },
  {
   "cell_type": "markdown",
   "metadata": {},
   "source": [
    "49. Insert a word at the nth position in a string.\n"
   ]
  },
  {
   "cell_type": "code",
   "execution_count": 59,
   "metadata": {},
   "outputs": [
    {
     "data": {
      "text/plain": [
       "'hellow k'"
      ]
     },
     "execution_count": 59,
     "metadata": {},
     "output_type": "execute_result"
    }
   ],
   "source": [
    "def insert_word_nth_pos(word,nth,inserted_word):\n",
    "    nth=nth-1\n",
    "    x=word[0:nth]\n",
    "    y=word[nth:]\n",
    "    return x+inserted_word+y\n",
    "insert_word_nth_pos(\"hellow\",7,' k')"
   ]
  },
  {
   "cell_type": "markdown",
   "metadata": {},
   "source": [
    "50. Convert a CSV string to a list of lists."
   ]
  },
  {
   "cell_type": "code",
   "execution_count": 66,
   "metadata": {},
   "outputs": [
    {
     "name": "stdout",
     "output_type": "stream",
     "text": [
      "[['Identifier', 'First name', 'Last name'], ['901242', 'Rachel', 'Booker'], ['207074', 'Laura', 'Grey'], ['408129', 'Craig', 'Johnson'], ['934600', 'Mary', 'Jenkins'], [' 507916', 'Jamie', 'Smith']]\n"
     ]
    }
   ],
   "source": [
    "def CSV_str(CSV):\n",
    "    x = CSV.split('\\n')\n",
    "    result = []\n",
    "    for line in x:\n",
    "        fields = line.split(';')\n",
    "        result.append(fields)\n",
    "    return result\n",
    "\n",
    "print(CSV_str(\"Identifier;First name;Last name\\n901242;Rachel;Booker\\n207074;Laura;Grey\\n408129;Craig;Johnson\\n934600;Mary;Jenkins\\n 507916;Jamie;Smith\"))\n"
   ]
  },
  {
   "cell_type": "markdown",
   "metadata": {},
   "source": [
    "List Based Practice Problem :\n",
    "1. Create a list with integers from 1 to 10.\n",
    "\n",
    "\n"
   ]
  },
  {
   "cell_type": "markdown",
   "metadata": {},
   "source": [
    "2. Find the length of a list without using the `len()` function.\n"
   ]
  },
  {
   "cell_type": "markdown",
   "metadata": {},
   "source": [
    "4. Insert an element at a specific index in a list."
   ]
  },
  {
   "cell_type": "markdown",
   "metadata": {},
   "source": [
    "\n",
    "5. Remove an element from a list by its value."
   ]
  },
  {
   "cell_type": "markdown",
   "metadata": {},
   "source": [
    "\n",
    "6. Remove an element from a list by its index."
   ]
  },
  {
   "cell_type": "markdown",
   "metadata": {},
   "source": [
    "\n",
    "7. Check if an element exists in a list."
   ]
  },
  {
   "cell_type": "markdown",
   "metadata": {},
   "source": [
    "\n",
    "8. Find the index of the first occurrence of an element in a list."
   ]
  },
  {
   "cell_type": "markdown",
   "metadata": {},
   "source": [
    "\n",
    "9. Count the occurrences of an element in a list."
   ]
  },
  {
   "cell_type": "markdown",
   "metadata": {},
   "source": [
    "\n",
    "10. Reverse the order of elements in a list."
   ]
  },
  {
   "cell_type": "markdown",
   "metadata": {},
   "source": [
    "\n",
    "11. Sort a list in ascending order."
   ]
  },
  {
   "cell_type": "markdown",
   "metadata": {},
   "source": [
    "\n",
    "12. Sort a list in descending order."
   ]
  },
  {
   "cell_type": "markdown",
   "metadata": {},
   "source": [
    "\n",
    "13. Create a list of even numbers from 1 to 20."
   ]
  },
  {
   "cell_type": "markdown",
   "metadata": {},
   "source": [
    "\n",
    "14. Create a list of odd numbers from 1 to 20."
   ]
  },
  {
   "cell_type": "markdown",
   "metadata": {},
   "source": [
    "\n",
    "15. Find the sum of all elements in a list."
   ]
  },
  {
   "cell_type": "markdown",
   "metadata": {},
   "source": [
    "\n",
    "16. Find the maximum value in a list."
   ]
  },
  {
   "cell_type": "markdown",
   "metadata": {},
   "source": [
    "\n",
    "17. Find the minimum value in a list."
   ]
  },
  {
   "cell_type": "markdown",
   "metadata": {},
   "source": [
    "\n",
    "18. Create a list of squares of numbers from 1 to 10."
   ]
  },
  {
   "cell_type": "markdown",
   "metadata": {},
   "source": [
    "\n",
    "19. Create a list of random numbers."
   ]
  },
  {
   "cell_type": "markdown",
   "metadata": {},
   "source": [
    "\n",
    "20. Remove duplicates from a list."
   ]
  },
  {
   "cell_type": "markdown",
   "metadata": {},
   "source": [
    "\n",
    "21. Find the common elements between two lists."
   ]
  },
  {
   "cell_type": "markdown",
   "metadata": {},
   "source": [
    "\n",
    "22. Find the difference between two lists."
   ]
  },
  {
   "cell_type": "markdown",
   "metadata": {},
   "source": [
    "\n",
    "23. Merge two lists."
   ]
  },
  {
   "cell_type": "markdown",
   "metadata": {},
   "source": [
    "\n",
    "24. Multiply all elements in a list by 2."
   ]
  },
  {
   "cell_type": "markdown",
   "metadata": {},
   "source": [
    "3. Append an element to the end of a list.\n"
   ]
  },
  {
   "cell_type": "markdown",
   "metadata": {},
   "source": [
    "\n",
    "25. Filter out all even numbers from a list."
   ]
  },
  {
   "cell_type": "markdown",
   "metadata": {},
   "source": [
    "\n",
    "26. Convert a list of strings to a list of integers."
   ]
  },
  {
   "cell_type": "markdown",
   "metadata": {},
   "source": [
    "\n",
    "27. Convert a list of integers to a list of strings."
   ]
  },
  {
   "cell_type": "markdown",
   "metadata": {},
   "source": [
    "\n",
    "28. Flatten a nested list."
   ]
  },
  {
   "cell_type": "markdown",
   "metadata": {},
   "source": [
    "\n",
    "29. Create a list of the first 10 Fibonacci numbers."
   ]
  },
  {
   "cell_type": "markdown",
   "metadata": {},
   "source": [
    "\n",
    "30. Check if a list is sorted."
   ]
  },
  {
   "cell_type": "markdown",
   "metadata": {},
   "source": [
    "\n",
    "31. Rotate a list to the left by `n` positions."
   ]
  },
  {
   "cell_type": "markdown",
   "metadata": {},
   "source": [
    "\n",
    "32. Rotate a list to the right by `n` positions."
   ]
  },
  {
   "cell_type": "markdown",
   "metadata": {},
   "source": [
    "\n",
    "33. Create a list of prime numbers up to 50."
   ]
  },
  {
   "cell_type": "markdown",
   "metadata": {},
   "source": [
    "\n",
    "34. Split a list into chunks of size `n`."
   ]
  },
  {
   "cell_type": "markdown",
   "metadata": {},
   "source": [
    "\n",
    "35. Find the second largest number in a list."
   ]
  },
  {
   "cell_type": "markdown",
   "metadata": {},
   "source": [
    "\n",
    "36. Replace every element in a list with its square."
   ]
  },
  {
   "cell_type": "markdown",
   "metadata": {},
   "source": [
    "\n",
    "37. Convert a list to a dictionary where list elements become keys and their indices become values."
   ]
  },
  {
   "cell_type": "markdown",
   "metadata": {},
   "source": [
    "\n",
    "38. Shuffle the elements of a list randomly."
   ]
  },
  {
   "cell_type": "markdown",
   "metadata": {},
   "source": [
    "\n",
    "39. Create a list of the first 10 factorial numbers."
   ]
  },
  {
   "cell_type": "markdown",
   "metadata": {},
   "source": [
    "\n",
    "40. Check if two lists have at least one element in common."
   ]
  },
  {
   "cell_type": "markdown",
   "metadata": {},
   "source": [
    "\n",
    "41. Remove all elements from a list."
   ]
  },
  {
   "cell_type": "markdown",
   "metadata": {},
   "source": [
    "\n",
    "42. Replace negative numbers in a list with 0."
   ]
  },
  {
   "cell_type": "markdown",
   "metadata": {},
   "source": [
    "\n",
    "43. Convert a string into a list of words."
   ]
  },
  {
   "cell_type": "markdown",
   "metadata": {},
   "source": [
    "\n",
    "44. Convert a list of words into a string."
   ]
  },
  {
   "cell_type": "markdown",
   "metadata": {},
   "source": [
    "\n",
    "45. Create a list of the first `n` powers of 2."
   ]
  },
  {
   "cell_type": "markdown",
   "metadata": {},
   "source": [
    "\n",
    "46. Find the longest string in a list of strings."
   ]
  },
  {
   "cell_type": "markdown",
   "metadata": {},
   "source": [
    "\n",
    "47. Find the shortest string in a list of strings."
   ]
  },
  {
   "cell_type": "markdown",
   "metadata": {},
   "source": [
    "\n",
    "48. Create a list of the first `n` triangular numbers."
   ]
  },
  {
   "cell_type": "markdown",
   "metadata": {},
   "source": [
    "\n",
    "49. Check if a list contains another list as a subsequence."
   ]
  },
  {
   "cell_type": "markdown",
   "metadata": {},
   "source": [
    "\n",
    "50. Swap two elements in a list by their indices."
   ]
  },
  {
   "cell_type": "markdown",
   "metadata": {},
   "source": [
    "Tuple Based Practice Problem :\n",
    "1. Create a tuple with integers from 1 to 5.\n",
    "2. Access the third element of a tuple.\n",
    "3. Find the length of a tuple without using the `len()` function.\n",
    "4. Count the occurrences of an element in a tuple.\n",
    "5. Find the index of the first occurrence of an element in a tuple.\n",
    "6. Check if an element exists in a tuple.\n",
    "7. Convert a tuple to a list.\n",
    "8. Convert a list to a tuple.\n",
    "9. Unpack the elements of a tuple into variables.\n",
    "10. Create a tuple of even numbers from 1 to 10.\n",
    "11. Create a tuple of odd numbers from 1 to 10.\n",
    "12. Concatenate two tuples.\n",
    "13. Repeat a tuple three times.\n",
    "14. Check if a tuple is empty.\n",
    "15. Create a nested tuple.\n",
    "16. Access the first element of a nested tuple.\n",
    "17. Create a tuple with a single element.\n",
    "18. Compare two tuples.\n",
    "19. Delete a tuple.\n",
    "20. Slice a tuple.\n",
    "21. Find the maximum value in a tuple.\n",
    "22. Find the minimum value in a tuple.\n",
    "23. Convert a string to a tuple of characters.\n",
    "24. Convert a tuple of characters to a string.\n",
    "25. Create a tuple from multiple data types.\n",
    "26. Check if two tuples are identical.\n",
    "27. Sort the elements of a tuple.\n",
    "28. Convert a tuple of integers to a tuple of strings.\n",
    "29. Convert a tuple of strings to a tuple of integers.\n",
    "30. Merge two tuples.\n",
    "31. Flatten a nested tuple.\n",
    "32. Create a tuple of the first 5 prime numbers.\n",
    "33. Check if a tuple is a palindrome.\n",
    "34. Create a tuple of squares of numbers from 1 to 5.\n",
    "35. Filter out all even numbers from a tuple.\n",
    "36. Multiply all elements in a tuple by 2.\n",
    "37. Create a tuple of random numbers.\n",
    "38. Check if a tuple is sorted.\n",
    "39. Rotate a tuple to the left by `n` positions.\n",
    "40. Rotate a tuple to the right by `n` positions.\n",
    "41. Create a tuple of the first 5 Fibonacci numbers.\n",
    "42. Create a tuple from user input.\n",
    "43. Swap two elements in a tuple.\n",
    "44. Reverse the elements of a tuple.\n",
    "45. Create a tuple of the first `n` powers of 2.\n",
    "46. Find the longest string in a tuple of strings.\n",
    "47. Find the shortest string in a tuple of strings.\n",
    "48. Create a tuple of the first `n` triangular numbers.\n",
    "49. Check if a tuple contains another tuple as a subsequence.\n",
    "50. Create a tuple of alternating 1s and 0s of length `n`."
   ]
  },
  {
   "cell_type": "markdown",
   "metadata": {},
   "source": [
    "Set Based Practice Problem :\n",
    "1. Create a set with integers from 1 to 5.\n",
    "2. Add an element to a set.\n",
    "3. Remove an element from a set.\n",
    "4. Check if an element exists in a set.\n",
    "5. Find the length of a set without using the `len()` function.\n",
    "6. Clear all elements from a set.\n",
    "7. Create a set of even numbers from 1 to 10.\n",
    "8. Create a set of odd numbers from 1 to 10.\n",
    "9. Find the union of two sets.\n",
    "10. Find the intersection of two sets.\n",
    "11. Find the difference between two sets.\n",
    "12. Check if a set is a subset of another set.\n",
    "13. Check if a set is a superset of another set.\n",
    "14. Create a set from a list.\n",
    "15. Convert a set to a list.\n",
    "16. Remove a random element from a set.\n",
    "17. Pop an element from a set.\n",
    "18. Check if two sets have no elements in common.\n",
    "19. Find the symmetric difference between two sets.\n",
    "20. Update a set with elements from another set.\n",
    "21. Create a set of the first 5 prime numbers.\n",
    "22. Check if two sets are identical.\n",
    "23. Create a frozen set.\n",
    "24. Check if a set is disjoint with another set.\n",
    "25. Create a set of squares of numbers from 1 to 5.\n",
    "26. Filter out all even numbers from a set.\n",
    "27. Multiply all elements in a set by 2.\n",
    "28. Create a set of random numbers.\n",
    "29. Check if a set is empty.\n",
    "30. Create a nested set (hint: use frozenset).\n",
    "31. Remove an element from a set using the discard method.\n",
    "32. Compare two sets.\n",
    "33. Create a set from a string.\n",
    "34. Convert a set of strings to a set of integers.\n",
    "35. Convert a set of integers to a set of strings.\n",
    "36. Create a set from a tuple.\n",
    "37. Convert a set to a tuple.\n",
    "38. Find the maximum value in a set.\n",
    "39. Find the minimum value in a set.\n",
    "40. Create a set from user input.\n",
    "41. Check if the intersection of two sets is empty.\n",
    "42. Create a set of the first 5 Fibonacci numbers.\n",
    "43. Remove duplicates from a list using sets.\n",
    "44. Check if two sets have the same elements, regardless of their count.\n",
    "45. Create a set of the first `n` powers of 2.\n",
    "46. Find the common elements between a set and a list.\n",
    "47. Create a set of the first `n` triangular numbers.\n",
    "48. Check if a set contains another set as a subset.\n",
    "49. Create a set of alternating 1s and 0s of length `n`.\n",
    "50. Merge multiple sets into one."
   ]
  }
 ],
 "metadata": {
  "kernelspec": {
   "display_name": "Python 3",
   "language": "python",
   "name": "python3"
  },
  "language_info": {
   "codemirror_mode": {
    "name": "ipython",
    "version": 3
   },
   "file_extension": ".py",
   "mimetype": "text/x-python",
   "name": "python",
   "nbconvert_exporter": "python",
   "pygments_lexer": "ipython3",
   "version": "3.11.6"
  }
 },
 "nbformat": 4,
 "nbformat_minor": 2
}
