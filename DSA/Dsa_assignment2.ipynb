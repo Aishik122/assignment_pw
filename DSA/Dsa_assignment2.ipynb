{
 "cells": [
  {
   "cell_type": "markdown",
   "metadata": {},
   "source": [
    "Problem 1: Reverse a singly linked list."
   ]
  },
  {
   "cell_type": "code",
   "execution_count": 5,
   "metadata": {},
   "outputs": [
    {
     "name": "stdout",
     "output_type": "stream",
     "text": [
      "4 -> 3 -> 2 -> 1 -> None\n"
     ]
    }
   ],
   "source": [
    "class ListNode:\n",
    "    def __init__(self, val=0, next=None):\n",
    "        self.val = val\n",
    "        self.next = next\n",
    "\n",
    "class Rev:\n",
    "    def reverseList(self, head: ListNode) -> ListNode:\n",
    "        prev = None\n",
    "        curr = head\n",
    "        while curr:\n",
    "            nextTemp = curr.next\n",
    "            curr.next = prev\n",
    "            prev = curr\n",
    "            curr = nextTemp\n",
    "        return prev\n",
    "\n",
    "# Example usage\n",
    "head = ListNode(1, ListNode(2, ListNode(3, ListNode(4, None))))\n",
    "solution = Rev()\n",
    "newHead = solution.reverseList(head)\n",
    "\n",
    "while newHead:\n",
    "  print(newHead.val, end=\" -> \")\n",
    "  newHead = newHead.next\n",
    "print(\"None\")"
   ]
  },
  {
   "cell_type": "markdown",
   "metadata": {},
   "source": [
    "Problem 2: Merge two sorted linked lists into one sorted linked list."
   ]
  },
  {
   "cell_type": "code",
   "execution_count": 6,
   "metadata": {},
   "outputs": [],
   "source": [
    "li1=ListNode(1,ListNode(3,ListNode(5,None)))\n",
    "li2 = ListNode(2,ListNode(4,ListNode(6,None)))\n"
   ]
  },
  {
   "cell_type": "code",
   "execution_count": 7,
   "metadata": {},
   "outputs": [
    {
     "name": "stdout",
     "output_type": "stream",
     "text": [
      "1 -> 2 -> 3 -> 4 -> 5 -> 6 -> None\n"
     ]
    }
   ],
   "source": [
    "class ListNode:\n",
    "    def __init__(self, val=0, next=None):\n",
    "        self.val = val\n",
    "        self.next = next\n",
    "\n",
    "    def mergeTwoLists(self, list1: ListNode, list2: ListNode) :\n",
    "        # Create a dummy node for the merged list\n",
    "        dummy = ListNode(0)\n",
    "        tail = dummy\n",
    "\n",
    "        # Iterate while both lists have elements\n",
    "        while list1 and list2:\n",
    "            # Compare values and append the smaller node to the tail\n",
    "            if list1.val < list2.val:\n",
    "                tail.next = list1\n",
    "                list1 = list1.next\n",
    "            else:\n",
    "                tail.next = list2\n",
    "                list2 = list2.next\n",
    "            tail = tail.next\n",
    "\n",
    "        # Append remaining elements from either list (if any)\n",
    "        tail.next = list1 or list2\n",
    "\n",
    "        # Return the head of the merged list (dummy.next)\n",
    "        return dummy.next\n",
    "\n",
    "solution = ListNode()\n",
    "mergedList = solution.mergeTwoLists(li1, li2)\n",
    "\n",
    "while mergedList:\n",
    "  print(mergedList.val, end=\" -> \")\n",
    "  mergedList = mergedList.next\n",
    "print(\"None\")\n"
   ]
  },
  {
   "cell_type": "markdown",
   "metadata": {},
   "source": [
    "Problem 3: Remove the nth node from the end of a linked list."
   ]
  },
  {
   "cell_type": "code",
   "execution_count": 13,
   "metadata": {},
   "outputs": [
    {
     "name": "stdout",
     "output_type": "stream",
     "text": [
      "Original linked list:\n",
      "1 -> 2 -> 3 -> 4 -> 5 -> None\n",
      "Linked list after removing the 2nd node from the end:\n",
      "1 -> 2 -> 3 -> 5 -> None\n"
     ]
    }
   ],
   "source": [
    "class ListNode:\n",
    "    def __init__(self, val=0, next=None):\n",
    "        self.val = val\n",
    "        self.next = next\n",
    "\n",
    "class RemElement(ListNode):\n",
    "    def __init__(self, val=0, next=None):\n",
    "        super().__init__(val, next)\n",
    "\n",
    "    def removeNthFromEnd(self, head: ListNode, n: int) -> ListNode:\n",
    "        dummy = ListNode(0)\n",
    "        dummy.next = head\n",
    "        fast = slow = dummy\n",
    "\n",
    "        for _ in range(n):\n",
    "            if not fast.next:\n",
    "                return head\n",
    "            fast = fast.next\n",
    "\n",
    "        while fast.next:\n",
    "            slow = slow.next\n",
    "            fast = fast.next\n",
    "\n",
    "        if not slow.next:\n",
    "            return dummy.next\n",
    "\n",
    "        slow.next = slow.next.next\n",
    "\n",
    "        return dummy.next\n",
    "\n",
    "# Helper function to create a linked list from a list of values\n",
    "def create_linked_list(values):\n",
    "    dummy = ListNode()\n",
    "    current = dummy\n",
    "    for value in values:\n",
    "        current.next = ListNode(value)\n",
    "        current = current.next\n",
    "    return dummy.next\n",
    "\n",
    "# Helper function to print the linked list\n",
    "def print_linked_list(head):\n",
    "    current = head\n",
    "    while current:\n",
    "        print(current.val, end=\" -> \")\n",
    "        current = current.next\n",
    "    print(\"None\")\n",
    "\n",
    "# Example usage\n",
    "values = [1, 2, 3, 4, 5]\n",
    "head = create_linked_list(values)\n",
    "print(\"Original linked list:\")\n",
    "print_linked_list(head)\n",
    "\n",
    "remover = RemElement()\n",
    "new_head = remover.removeNthFromEnd(head, 2)\n",
    "\n",
    "print(\"Linked list after removing the 2nd node from the end:\")\n",
    "print_linked_list(new_head)"
   ]
  },
  {
   "cell_type": "markdown",
   "metadata": {},
   "source": [
    "4: Find the intersection point of two linked lists."
   ]
  },
  {
   "cell_type": "code",
   "execution_count": 1,
   "metadata": {},
   "outputs": [],
   "source": [
    "class ListNode:\n",
    "    def __init__(self, value=0, next=None):\n",
    "        self.value = value\n",
    "        self.next = next\n",
    "\n",
    "def getIntersectionNode(headA,headB):\n",
    "    def getLength(head):\n",
    "        length = 0 \n",
    "        while head:\n",
    "            length +=1 \n",
    "            head = head.next\n",
    "        return length \n",
    "    len_of_A = getLength(headA)\n",
    "    len_of_B = getLength(headB)\n",
    "\n",
    "    while len_of_A > len_of_B:\n",
    "        headA  = headA.next \n",
    "        len_of_A -=1  \n",
    "\n",
    "    while len_of_B > len_of_A:\n",
    "        headB = headB.next \n",
    "        len_of_B -=1 \n",
    "\n",
    "    while headA !=headB :\n",
    "        headA = headA.next \n",
    "        headB = headB.next \n",
    "    \n",
    "    return headA \n",
    "\n",
    "A = ListNode(1)\n",
    "A.next = ListNode(2)\n",
    "A.next.next = ListNode(7)\n",
    "A.next.next.next = ListNode(8)\n",
    "A.next.next.next.next = ListNode(9)\n",
    "\n",
    "B = ListNode(3)\n",
    "B.next = A.next.next\n",
    "\n",
    "intersection_node = getIntersectionNode(A,B)\n",
    "\n",
    "\n"
   ]
  },
  {
   "cell_type": "code",
   "execution_count": 2,
   "metadata": {},
   "outputs": [
    {
     "data": {
      "text/plain": [
       "7"
      ]
     },
     "execution_count": 2,
     "metadata": {},
     "output_type": "execute_result"
    }
   ],
   "source": [
    "intersection_node.value"
   ]
  },
  {
   "cell_type": "markdown",
   "metadata": {},
   "source": [
    "Remove duplicates from a sorted linked list."
   ]
  },
  {
   "cell_type": "code",
   "execution_count": 3,
   "metadata": {},
   "outputs": [],
   "source": [
    "A = ListNode(1)\n",
    "A.next = ListNode(1)\n",
    "A.next.next = ListNode(4)\n",
    "A.next.next.next = ListNode(4)\n",
    "A.next.next.next.next = ListNode(7)"
   ]
  },
  {
   "cell_type": "code",
   "execution_count": 11,
   "metadata": {},
   "outputs": [
    {
     "name": "stdout",
     "output_type": "stream",
     "text": [
      "Sorted linkedList with duplicated is \n",
      "1 -> 1 -> 4 -> 4 -> 7 -> None\n",
      "Sorted linkedList with no duplicated is \n",
      "1 -> 4 -> 7 -> None\n"
     ]
    }
   ],
   "source": [
    "def removeElementLinkNode(head):\n",
    "    curr =head\n",
    "    while curr and curr.next:\n",
    "        if curr.value == curr.next.value :\n",
    "            curr.next =curr.next.next \n",
    "        else:\n",
    "            curr = curr.next \n",
    "    return head \n",
    "\n",
    "def print_linked_list(head):\n",
    "    current = head\n",
    "    while current:\n",
    "        print(current.value, end=\" -> \")\n",
    "        current = current.next\n",
    "    print(\"None\")\n",
    "print('Sorted linkedList with duplicated is ')\n",
    "print_linked_list(A)\n",
    "print('Sorted linkedList with no duplicated is ')\n",
    "B=removeElementLinkNode(A)\n",
    "print_linked_list(A)\n"
   ]
  },
  {
   "cell_type": "markdown",
   "metadata": {},
   "source": [
    "Add two numbers represented by linked lists (where each node contains a single digit)."
   ]
  },
  {
   "cell_type": "code",
   "execution_count": 2,
   "metadata": {},
   "outputs": [
    {
     "name": "stdout",
     "output_type": "stream",
     "text": [
      "7 0 8 "
     ]
    }
   ],
   "source": [
    "class ListNode:\n",
    "    def __init__(self, val=0, next=None):\n",
    "        self.val = val\n",
    "        self.next = next\n",
    "\n",
    "def addTwoNumbers(l1, l2):\n",
    "    dummy_head = ListNode()\n",
    "    current = dummy_head\n",
    "    carry = 0\n",
    "\n",
    "    while l1 or l2 or carry:\n",
    "        sum_val = carry\n",
    "\n",
    "        if l1:\n",
    "            sum_val += l1.val\n",
    "            l1 = l1.next\n",
    "        if l2:\n",
    "            sum_val += l2.val\n",
    "            l2 = l2.next\n",
    "\n",
    "        carry = sum_val // 10\n",
    "        current.next = ListNode(sum_val % 10)\n",
    "        current = current.next\n",
    "\n",
    "    return dummy_head.next\n",
    "\n",
    "\n",
    "# Define the linked lists\n",
    "l1 = ListNode(2)\n",
    "l1.next = ListNode(4)\n",
    "l1.next.next = ListNode(3)\n",
    "\n",
    "l2 = ListNode(5)\n",
    "l2.next = ListNode(6)\n",
    "l2.next.next = ListNode(4)\n",
    "\n",
    "# Add the numbers\n",
    "result = addTwoNumbers(l1, l2)\n",
    "\n",
    "# Print the result\n",
    "while result:\n",
    "    print(result.val, end=\" \")\n",
    "    result = result.next\n"
   ]
  },
  {
   "cell_type": "markdown",
   "metadata": {},
   "source": [
    "Swap nodes in pairs in a linked list."
   ]
  },
  {
   "cell_type": "code",
   "execution_count": 3,
   "metadata": {},
   "outputs": [
    {
     "name": "stdout",
     "output_type": "stream",
     "text": [
      "2 1 4 3 \n"
     ]
    }
   ],
   "source": [
    "class ListNode:\n",
    "    def __init__(self, val=0, next=None):\n",
    "        self.val = val\n",
    "        self.next = next\n",
    "\n",
    "def swapPairs(head):\n",
    "    dummy = ListNode(0)\n",
    "    dummy.next = head\n",
    "    prev = dummy\n",
    "\n",
    "    while prev.next and prev.next.next:\n",
    "        # Nodes to be swapped\n",
    "        first = prev.next\n",
    "        second = prev.next.next\n",
    "\n",
    "        # Swapping\n",
    "        prev.next = second\n",
    "        first.next = second.next\n",
    "        second.next = first\n",
    "\n",
    "        # Move to the next pair\n",
    "        prev = first\n",
    "\n",
    "    return dummy.next\n",
    "\n",
    "# Function to print the linked list\n",
    "def printLinkedList(head):\n",
    "    while head:\n",
    "        print(head.val, end=\" \")\n",
    "        head = head.next\n",
    "    print()\n",
    "\n",
    "# Example usage:\n",
    "# Input: 1 -> 2 -> 3 -> 4\n",
    "# Output: 2 -> 1 -> 4 -> 3\n",
    "\n",
    "# Create the linked list\n",
    "head = ListNode(1)\n",
    "head.next = ListNode(2)\n",
    "head.next.next = ListNode(3)\n",
    "head.next.next.next = ListNode(4)\n",
    "\n",
    "# Swap pairs\n",
    "head = swapPairs(head)\n",
    "\n",
    "# Print the result\n",
    "printLinkedList(head)\n"
   ]
  },
  {
   "cell_type": "markdown",
   "metadata": {},
   "source": [
    "Reverse nodes in a linked list in groups of k."
   ]
  },
  {
   "cell_type": "code",
   "execution_count": 9,
   "metadata": {},
   "outputs": [
    {
     "name": "stdout",
     "output_type": "stream",
     "text": [
      "2 1 3 4 5 \n"
     ]
    }
   ],
   "source": [
    "def reverseKGroup(head, k):\n",
    "    if k == 1 or not head or not head.next:\n",
    "        return head\n",
    "\n",
    "    dummy = ListNode(0)\n",
    "    dummy.next = head\n",
    "    prev = dummy\n",
    "\n",
    "    while True:\n",
    "        # Check if there are k nodes left\n",
    "        next_group = prev\n",
    "        for _ in range(k):\n",
    "            next_group = next_group.next\n",
    "            if not next_group:\n",
    "                return dummy.next\n",
    "\n",
    "        # Reverse k nodes\n",
    "        prev, head = reverse(prev, head, next_group)\n",
    "\n",
    "        # Move prev pointer to the end of the reversed group\n",
    "        for _ in range(k):\n",
    "            prev = prev.next\n",
    "\n",
    "def reverse(prev, start, end):\n",
    "    last = start\n",
    "    current = start.next\n",
    "    while current != end:\n",
    "        next_node = current.next\n",
    "        current.next = prev.next\n",
    "        prev.next = current\n",
    "        last.next = next_node\n",
    "        current = next_node\n",
    "    return last, last.next\n",
    "\n",
    "# Function to print the linked list\n",
    "def printLinkedList(head):\n",
    "    while head:\n",
    "        print(head.val, end=\" \")\n",
    "        head = head.next\n",
    "    print()\n",
    "\n",
    "# Example usage:\n",
    "# Input: 1 -> 2 -> 3 -> 4 -> 5, k = 3\n",
    "# Output: 3 -> 2 -> 1 -> 4 -> 5\n",
    "\n",
    "# Create the linked list\n",
    "head = ListNode(1)\n",
    "head.next = ListNode(2)\n",
    "head.next.next = ListNode(3)\n",
    "head.next.next.next = ListNode(4)\n",
    "head.next.next.next.next = ListNode(5)\n",
    "\n",
    "# Reverse nodes in groups of k\n",
    "head = reverseKGroup(head, 3)\n",
    "\n",
    "# Print the result\n",
    "printLinkedList(head)\n"
   ]
  },
  {
   "cell_type": "markdown",
   "metadata": {},
   "source": [
    "Given a sorted array and a target value, return the index if the target is found. If not, return the\n",
    "index where it would be inserted."
   ]
  },
  {
   "cell_type": "code",
   "execution_count": 14,
   "metadata": {},
   "outputs": [
    {
     "data": {
      "text/plain": [
       "3"
      ]
     },
     "execution_count": 14,
     "metadata": {},
     "output_type": "execute_result"
    }
   ],
   "source": [
    "arr,target = [ 1,3,5,7] , 6\n",
    "def check_ind(arr,terget):\n",
    "    start , end = 0 , len(arr)-1 \n",
    "\n",
    "    while start <= end :\n",
    "        mid = start + (end - start ) // 2 \n",
    "\n",
    "        if arr[mid] == target:\n",
    "            return mid \n",
    "        \n",
    "        elif arr[mid] < target:\n",
    "            start = mid + 1 \n",
    "\n",
    "        else:\n",
    "            end = mid - 1 \n",
    "    return start\n",
    "\n",
    "check_ind(arr,target)"
   ]
  },
  {
   "cell_type": "markdown",
   "metadata": {},
   "source": [
    "Find the minimum element in a rotated sorted array.\n"
   ]
  },
  {
   "cell_type": "code",
   "execution_count": 15,
   "metadata": {},
   "outputs": [
    {
     "name": "stdout",
     "output_type": "stream",
     "text": [
      "0\n"
     ]
    }
   ],
   "source": [
    "def findMin(nums):\n",
    "    left, right = 0, len(nums) - 1\n",
    "\n",
    "    while left < right:\n",
    "        mid = left + (right - left) // 2\n",
    "\n",
    "        # If mid element is greater than the last element, minimum is on the right\n",
    "        if nums[mid] > nums[right]:\n",
    "            left = mid + 1\n",
    "        # If mid element is smaller than or equal to the last element, minimum is on the left\n",
    "        else:\n",
    "            right = mid\n",
    "\n",
    "    # When left == right, it indicates the minimum element is found\n",
    "    return nums[left]\n",
    "\n",
    "nums = [4, 5, 6, 7, 0, 1, 2]\n",
    "print(findMin(nums))  # Output: 0\n"
   ]
  },
  {
   "cell_type": "markdown",
   "metadata": {},
   "source": [
    "Search for a target value in a rotated sorted array."
   ]
  },
  {
   "cell_type": "code",
   "execution_count": 22,
   "metadata": {},
   "outputs": [],
   "source": [
    "nums,target =  [4, 5, 6, 7, 0, 1, 2],  0"
   ]
  },
  {
   "cell_type": "code",
   "execution_count": 24,
   "metadata": {},
   "outputs": [
    {
     "name": "stdout",
     "output_type": "stream",
     "text": [
      "4\n"
     ]
    }
   ],
   "source": [
    "def search(nums, target):\n",
    "    left, right = 0, len(nums) - 1\n",
    "\n",
    "    while left <= right:\n",
    "        mid = left + (right - left) // 2\n",
    "\n",
    "        if nums[mid] == target:\n",
    "            return mid\n",
    "\n",
    "        # If left half is sorted\n",
    "        if nums[left] <= nums[mid]:\n",
    "            # Check if target is in the left half\n",
    "            if nums[left] <= target < nums[mid]:\n",
    "                right = mid - 1\n",
    "            else:\n",
    "                left = mid + 1\n",
    "        # If right half is sorted\n",
    "        else:\n",
    "            # Check if target is in the right half\n",
    "            if nums[mid] < target <= nums[right]:\n",
    "                left = mid + 1\n",
    "            else:\n",
    "                right = mid - 1\n",
    "\n",
    "    # Target not found\n",
    "    return -1\n",
    "\n",
    "\n",
    "\n",
    "print(search(nums, target))  "
   ]
  },
  {
   "cell_type": "markdown",
   "metadata": {},
   "source": [
    "Find the peak element in an array. A peak element is greater than its neighbors."
   ]
  },
  {
   "cell_type": "code",
   "execution_count": 42,
   "metadata": {},
   "outputs": [
    {
     "data": {
      "text/plain": [
       "2"
      ]
     },
     "execution_count": 42,
     "metadata": {},
     "output_type": "execute_result"
    }
   ],
   "source": [
    "nums = [1, 2, 3, 1] \n",
    "def peak ( nums ):\n",
    "    for i in range(1,len(nums)-1):\n",
    "        if (nums[i-1]<nums[i]) and (nums[i]>nums[i+1]) :\n",
    "            return i \n",
    "    return - 1  # if there is no peak element\n",
    "peak(nums)"
   ]
  },
  {
   "cell_type": "markdown",
   "metadata": {},
   "source": [
    "Given a m x n matrix where each row and column is sorted in ascending order, count the number\n",
    "of negative numbers."
   ]
  },
  {
   "cell_type": "code",
   "execution_count": 44,
   "metadata": {},
   "outputs": [
    {
     "data": {
      "text/plain": [
       "8"
      ]
     },
     "execution_count": 44,
     "metadata": {},
     "output_type": "execute_result"
    }
   ],
   "source": [
    "grid = [[4, 3, 2, -1], [3, 2, 1, -1], [1, 1, -1, -2], [-1, -1, -2, -3]]\n",
    "def count_nev(grid):\n",
    "    c=0 \n",
    "    for i in grid:\n",
    "        for j in i :\n",
    "            if j<0 :\n",
    "                c+=1 \n",
    "            else:\n",
    "                pass \n",
    "    return c \n",
    "count_nev(grid)"
   ]
  },
  {
   "cell_type": "markdown",
   "metadata": {},
   "source": [
    "Given a 2D matrix sorted in ascending order in each row, and the first integer of each row is\n",
    "greater than the last integer of the previous row, determine if a target value is present in the matrix.\n"
   ]
  },
  {
   "cell_type": "code",
   "execution_count": 46,
   "metadata": {},
   "outputs": [
    {
     "name": "stdout",
     "output_type": "stream",
     "text": [
      "True\n",
      "False\n"
     ]
    }
   ],
   "source": [
    "matrix, target = [[1, 3, 5, 7], [10, 11, 16, 20], [23, 30, 34, 60]] , 3\n",
    "\n",
    "def searchMatrix(matrix, target):\n",
    "    if not matrix or not matrix[0]:\n",
    "        return False\n",
    "    \n",
    "    rows, cols = len(matrix), len(matrix[0])\n",
    "    left, right = 0, rows * cols - 1\n",
    "    \n",
    "    while left <= right:\n",
    "        mid = left + (right - left) // 2\n",
    "        mid_val = matrix[mid // cols][mid % cols]\n",
    "        \n",
    "        if mid_val == target:\n",
    "            return True\n",
    "        elif mid_val < target:\n",
    "            left = mid + 1\n",
    "        else:\n",
    "            right = mid - 1\n",
    "    \n",
    "    return False\n",
    "\n",
    "matrix = [\n",
    "    [1, 3, 5, 7],\n",
    "    [10, 11, 16, 20],\n",
    "    [23, 30, 34, 60]\n",
    "]\n",
    "target = 3\n",
    "print(searchMatrix(matrix, target))  # True (3 is present in the matrix)\n",
    "\n",
    "target = 100\n",
    "print(searchMatrix(matrix, target))  # False (100is not present in the matrix)\n"
   ]
  },
  {
   "cell_type": "markdown",
   "metadata": {},
   "source": [
    "20: Find Median in Two Sorted Arrays"
   ]
  },
  {
   "cell_type": "code",
   "execution_count": null,
   "metadata": {},
   "outputs": [],
   "source": []
  }
 ],
 "metadata": {
  "kernelspec": {
   "display_name": "Python 3",
   "language": "python",
   "name": "python3"
  },
  "language_info": {
   "codemirror_mode": {
    "name": "ipython",
    "version": 3
   },
   "file_extension": ".py",
   "mimetype": "text/x-python",
   "name": "python",
   "nbconvert_exporter": "python",
   "pygments_lexer": "ipython3",
   "version": "3.11.8"
  }
 },
 "nbformat": 4,
 "nbformat_minor": 2
}
