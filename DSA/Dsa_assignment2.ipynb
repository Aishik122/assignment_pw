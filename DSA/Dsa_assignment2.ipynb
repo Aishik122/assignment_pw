{
 "cells": [
  {
   "cell_type": "markdown",
   "metadata": {},
   "source": [
    "Problem 1: Reverse a singly linked list."
   ]
  },
  {
   "cell_type": "code",
   "execution_count": 5,
   "metadata": {},
   "outputs": [
    {
     "name": "stdout",
     "output_type": "stream",
     "text": [
      "4 -> 3 -> 2 -> 1 -> None\n"
     ]
    }
   ],
   "source": [
    "class ListNode:\n",
    "    def __init__(self, val=0, next=None):\n",
    "        self.val = val\n",
    "        self.next = next\n",
    "\n",
    "class Rev:\n",
    "    def reverseList(self, head: ListNode) -> ListNode:\n",
    "        prev = None\n",
    "        curr = head\n",
    "        while curr:\n",
    "            nextTemp = curr.next\n",
    "            curr.next = prev\n",
    "            prev = curr\n",
    "            curr = nextTemp\n",
    "        return prev\n",
    "\n",
    "# Example usage\n",
    "head = ListNode(1, ListNode(2, ListNode(3, ListNode(4, None))))\n",
    "solution = Rev()\n",
    "newHead = solution.reverseList(head)\n",
    "\n",
    "while newHead:\n",
    "  print(newHead.val, end=\" -> \")\n",
    "  newHead = newHead.next\n",
    "print(\"None\")"
   ]
  },
  {
   "cell_type": "markdown",
   "metadata": {},
   "source": [
    "Problem 2: Merge two sorted linked lists into one sorted linked list."
   ]
  },
  {
   "cell_type": "code",
   "execution_count": 6,
   "metadata": {},
   "outputs": [],
   "source": [
    "li1=ListNode(1,ListNode(3,ListNode(5,None)))\n",
    "li2 = ListNode(2,ListNode(4,ListNode(6,None)))\n"
   ]
  },
  {
   "cell_type": "code",
   "execution_count": 7,
   "metadata": {},
   "outputs": [
    {
     "name": "stdout",
     "output_type": "stream",
     "text": [
      "1 -> 2 -> 3 -> 4 -> 5 -> 6 -> None\n"
     ]
    }
   ],
   "source": [
    "class ListNode:\n",
    "    def __init__(self, val=0, next=None):\n",
    "        self.val = val\n",
    "        self.next = next\n",
    "\n",
    "    def mergeTwoLists(self, list1: ListNode, list2: ListNode) :\n",
    "        # Create a dummy node for the merged list\n",
    "        dummy = ListNode(0)\n",
    "        tail = dummy\n",
    "\n",
    "        # Iterate while both lists have elements\n",
    "        while list1 and list2:\n",
    "            # Compare values and append the smaller node to the tail\n",
    "            if list1.val < list2.val:\n",
    "                tail.next = list1\n",
    "                list1 = list1.next\n",
    "            else:\n",
    "                tail.next = list2\n",
    "                list2 = list2.next\n",
    "            tail = tail.next\n",
    "\n",
    "        # Append remaining elements from either list (if any)\n",
    "        tail.next = list1 or list2\n",
    "\n",
    "        # Return the head of the merged list (dummy.next)\n",
    "        return dummy.next\n",
    "\n",
    "solution = ListNode()\n",
    "mergedList = solution.mergeTwoLists(li1, li2)\n",
    "\n",
    "while mergedList:\n",
    "  print(mergedList.val, end=\" -> \")\n",
    "  mergedList = mergedList.next\n",
    "print(\"None\")\n"
   ]
  },
  {
   "cell_type": "markdown",
   "metadata": {},
   "source": [
    "Problem 3: Remove the nth node from the end of a linked list."
   ]
  },
  {
   "cell_type": "code",
   "execution_count": 13,
   "metadata": {},
   "outputs": [
    {
     "name": "stdout",
     "output_type": "stream",
     "text": [
      "Original linked list:\n",
      "1 -> 2 -> 3 -> 4 -> 5 -> None\n",
      "Linked list after removing the 2nd node from the end:\n",
      "1 -> 2 -> 3 -> 5 -> None\n"
     ]
    }
   ],
   "source": [
    "class ListNode:\n",
    "    def __init__(self, val=0, next=None):\n",
    "        self.val = val\n",
    "        self.next = next\n",
    "\n",
    "class RemElement(ListNode):\n",
    "    def __init__(self, val=0, next=None):\n",
    "        super().__init__(val, next)\n",
    "\n",
    "    def removeNthFromEnd(self, head: ListNode, n: int) -> ListNode:\n",
    "        dummy = ListNode(0)\n",
    "        dummy.next = head\n",
    "        fast = slow = dummy\n",
    "\n",
    "        for _ in range(n):\n",
    "            if not fast.next:\n",
    "                return head\n",
    "            fast = fast.next\n",
    "\n",
    "        while fast.next:\n",
    "            slow = slow.next\n",
    "            fast = fast.next\n",
    "\n",
    "        if not slow.next:\n",
    "            return dummy.next\n",
    "\n",
    "        slow.next = slow.next.next\n",
    "\n",
    "        return dummy.next\n",
    "\n",
    "# Helper function to create a linked list from a list of values\n",
    "def create_linked_list(values):\n",
    "    dummy = ListNode()\n",
    "    current = dummy\n",
    "    for value in values:\n",
    "        current.next = ListNode(value)\n",
    "        current = current.next\n",
    "    return dummy.next\n",
    "\n",
    "# Helper function to print the linked list\n",
    "def print_linked_list(head):\n",
    "    current = head\n",
    "    while current:\n",
    "        print(current.val, end=\" -> \")\n",
    "        current = current.next\n",
    "    print(\"None\")\n",
    "\n",
    "# Example usage\n",
    "values = [1, 2, 3, 4, 5]\n",
    "head = create_linked_list(values)\n",
    "print(\"Original linked list:\")\n",
    "print_linked_list(head)\n",
    "\n",
    "remover = RemElement()\n",
    "new_head = remover.removeNthFromEnd(head, 2)\n",
    "\n",
    "print(\"Linked list after removing the 2nd node from the end:\")\n",
    "print_linked_list(new_head)"
   ]
  },
  {
   "cell_type": "markdown",
   "metadata": {},
   "source": []
  },
  {
   "cell_type": "code",
   "execution_count": null,
   "metadata": {},
   "outputs": [],
   "source": []
  }
 ],
 "metadata": {
  "kernelspec": {
   "display_name": "Python 3",
   "language": "python",
   "name": "python3"
  },
  "language_info": {
   "codemirror_mode": {
    "name": "ipython",
    "version": 3
   },
   "file_extension": ".py",
   "mimetype": "text/x-python",
   "name": "python",
   "nbconvert_exporter": "python",
   "pygments_lexer": "ipython3",
   "version": "3.11.8"
  }
 },
 "nbformat": 4,
 "nbformat_minor": 2
}
