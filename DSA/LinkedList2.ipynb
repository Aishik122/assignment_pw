{
 "cells": [
  {
   "cell_type": "markdown",
   "metadata": {},
   "source": [
    "Define a doubly linked list  "
   ]
  },
  {
   "cell_type": "code",
   "execution_count": 37,
   "metadata": {},
   "outputs": [],
   "source": [
    "class LinkNode:\n",
    "    def __init__(self,data,prev=None,next=None):\n",
    "        self.data = data \n",
    "        self.pred = prev \n",
    "        self.next = next\n",
    "    \n",
    "    def setData(self,data):\n",
    "        self.data =data \n",
    "    def getData(self):\n",
    "        return self.data\n",
    "    \n",
    "    def setNext(self,next):\n",
    "        self.next = next \n",
    "    def getNext(self):\n",
    "        return self.next \n",
    "\n",
    "    def setPrev(self,prev):\n",
    "        self.prev=prev\n",
    "    def getPrev(self):\n",
    "        return self.prev"
   ]
  },
  {
   "cell_type": "code",
   "execution_count": 8,
   "metadata": {},
   "outputs": [],
   "source": [
    "node_1 = LinkNode(1)\n",
    "node_2 = LinkNode(2)\n",
    "node_3 = LinkNode(3)\n",
    "node_4 = LinkNode(4)\n",
    "node_5 = LinkNode(5)\n",
    "\n"
   ]
  },
  {
   "cell_type": "code",
   "execution_count": 9,
   "metadata": {},
   "outputs": [],
   "source": [
    "node_1.setNext(node_2)\n",
    "node_2.setNext(node_3)\n",
    "node_3.setNext(node_4)\n",
    "node_4.setNext(node_5)\n",
    "\n",
    "node_5.setPrev(node_4)\n",
    "node_4.setPrev(node_3)\n",
    "node_3.setPrev(node_2)\n",
    "node_2.setPrev(node_1)"
   ]
  },
  {
   "cell_type": "code",
   "execution_count": 10,
   "metadata": {},
   "outputs": [
    {
     "name": "stdout",
     "output_type": "stream",
     "text": [
      "1 => 2 => 3 => 4 => 5 => none\n"
     ]
    }
   ],
   "source": [
    "def traverse(node):\n",
    "    curr = node_1\n",
    "    while curr:\n",
    "        print(curr.data,end = \" => \")\n",
    "        curr = curr.next\n",
    "    print(\"none\")\n",
    "traverse(node_1)"
   ]
  },
  {
   "cell_type": "markdown",
   "metadata": {},
   "source": [
    "Function to reverse a linked List\n"
   ]
  },
  {
   "cell_type": "code",
   "execution_count": 51,
   "metadata": {},
   "outputs": [
    {
     "name": "stdout",
     "output_type": "stream",
     "text": [
      "Original linked list:\n",
      "1 2 3 4 5 \n",
      "Reversed linked list:\n",
      "5 4 3 2 1 \n"
     ]
    }
   ],
   "source": [
    "class Node:\n",
    "    def __init__(self, data):\n",
    "        self.data = data\n",
    "        self.next = None\n",
    "\n",
    "def reverse_linked_list(head):\n",
    "    prev_node = None\n",
    "    current_node = head\n",
    "\n",
    "    while current_node:\n",
    "        next_node = current_node.next\n",
    "        current_node.next = prev_node\n",
    "        prev_node = current_node\n",
    "        current_node = next_node\n",
    "\n",
    "    return prev_node  \n",
    "\n",
    "\n",
    "def print_linked_list(head):\n",
    "    current_node = head\n",
    "    while current_node:\n",
    "        print(current_node.data, end=\" \")\n",
    "        current_node = current_node.next\n",
    "    print()\n",
    "\n",
    "head = Node(1)\n",
    "head.next = Node(2)\n",
    "head.next.next = Node(3)\n",
    "head.next.next.next = Node(4)\n",
    "head.next.next.next.next = Node(5)\n",
    "\n",
    "print(\"Original linked list:\")\n",
    "print_linked_list(head)\n",
    "\n",
    "# Reverse the linked list in-place\n",
    "head = reverse_linked_list(head)\n",
    "\n",
    "print(\"Reversed linked list:\")\n",
    "print_linked_list(head)"
   ]
  },
  {
   "cell_type": "markdown",
   "metadata": {},
   "source": [
    "Detecting a cycle in a linked"
   ]
  },
  {
   "cell_type": "code",
   "execution_count": 2,
   "metadata": {},
   "outputs": [
    {
     "data": {
      "text/plain": [
       "True"
      ]
     },
     "execution_count": 2,
     "metadata": {},
     "output_type": "execute_result"
    }
   ],
   "source": [
    "head = Node(1)\n",
    "head.next = Node(2)\n",
    "head.next.next = Node(3)\n",
    "head.next.next.next = Node(4)\n",
    "head.next.next.next.next = Node(5)\n",
    "head.next.next.next.next.next = head.next # cycle node \n",
    "\n",
    "def cycle(head):\n",
    "    if not head or not head.next:\n",
    "        return (False)\n",
    "\n",
    "    slow = head\n",
    "    fast = head.next \n",
    "\n",
    "    while fast and fast.next:\n",
    "        if slow == fast:\n",
    "            return (True)\n",
    "\n",
    "        slow = slow.next \n",
    "        fast = fast.next.next\n",
    "    return False\n",
    "cycle(head)"
   ]
  },
  {
   "cell_type": "code",
   "execution_count": 3,
   "metadata": {},
   "outputs": [
    {
     "data": {
      "text/plain": [
       "False"
      ]
     },
     "execution_count": 3,
     "metadata": {},
     "output_type": "execute_result"
    }
   ],
   "source": [
    "head = Node(1)\n",
    "head.next = Node(2)\n",
    "head.next.next = Node(3)\n",
    "head.next.next.next = Node(4)\n",
    "head.next.next.next.next = Node(5) # without cycle\n",
    "cycle(head)"
   ]
  },
  {
   "cell_type": "markdown",
   "metadata": {},
   "source": [
    "Remove nth node from the end \n"
   ]
  },
  {
   "cell_type": "code",
   "execution_count": 67,
   "metadata": {},
   "outputs": [],
   "source": [
    "head = Node(10)\n",
    "head.next = Node(2)\n",
    "head.next.next = Node(33)\n",
    "head.next.next.next = Node(41)\n",
    "head.next.next.next.next = Node(15)"
   ]
  },
  {
   "cell_type": "code",
   "execution_count": 68,
   "metadata": {},
   "outputs": [
    {
     "name": "stdout",
     "output_type": "stream",
     "text": [
      "10 2 33 41 15 \n"
     ]
    }
   ],
   "source": [
    "print_linked_list(head)"
   ]
  },
  {
   "cell_type": "code",
   "execution_count": 71,
   "metadata": {},
   "outputs": [],
   "source": [
    "def remove_nth_from_end(head, n):\n",
    "    dummy = LinkNode(0)\n",
    "    dummy.next = head\n",
    "    first = dummy\n",
    "    second = dummy\n",
    "\n",
    "    # Move the first pointer ahead by n+1 steps\n",
    "    for _ in range(n + 1):\n",
    "        first = first.next\n",
    "\n",
    "    # Move both pointers together until the first pointer reaches the end\n",
    "    while first is not None:\n",
    "        first = first.next\n",
    "        second = second.next\n",
    "\n",
    "    # Remove the nth node from the end by skipping it\n",
    "    second.next = second.next.next\n",
    "\n",
    "    return dummy.next\n",
    "new_head = remove_nth_from_end(head, 4)"
   ]
  },
  {
   "cell_type": "code",
   "execution_count": 72,
   "metadata": {},
   "outputs": [],
   "source": [
    "def print_linked_list(head):\n",
    "    current = head\n",
    "    while current:\n",
    "        print(current.data, end=\" -> \")\n",
    "        current = current.next\n",
    "    print(\"None\")"
   ]
  },
  {
   "cell_type": "code",
   "execution_count": 73,
   "metadata": {},
   "outputs": [
    {
     "name": "stdout",
     "output_type": "stream",
     "text": [
      "10 -> 33 -> 41 -> 15 -> None\n"
     ]
    }
   ],
   "source": [
    "print_linked_list(new_head)"
   ]
  },
  {
   "cell_type": "markdown",
   "metadata": {},
   "source": [
    "remove duplicates"
   ]
  },
  {
   "cell_type": "code",
   "execution_count": 75,
   "metadata": {},
   "outputs": [
    {
     "name": "stdout",
     "output_type": "stream",
     "text": [
      "Original linked list:\n",
      "1 -> 1 -> 2 -> 3 -> 3 -> None\n",
      "Linked list after removing duplicates:\n",
      "1 -> 2 -> 3 -> None\n"
     ]
    }
   ],
   "source": [
    "def delete_duplicates(head):\n",
    "    current = head\n",
    "\n",
    "    while current and current.next:\n",
    "        if current.data == current.next.data:\n",
    "            current.next = current.next.next\n",
    "        else:\n",
    "            current = current.next\n",
    "\n",
    "    return head\n",
    "\n",
    "\n",
    "head = LinkNode(1)\n",
    "head.next = LinkNode(1)\n",
    "head.next.next = LinkNode(2)\n",
    "head.next.next.next = LinkNode(3)\n",
    "head.next.next.next.next = LinkNode(3)\n",
    "\n",
    "print(\"Original linked list:\")\n",
    "print_linked_list(head)\n",
    "\n",
    "# Remove duplicates from the sorted linked list\n",
    "new_head = delete_duplicates(head)\n",
    "\n",
    "print(\"Linked list after removing duplicates:\")\n",
    "print_linked_list(new_head)"
   ]
  },
  {
   "cell_type": "markdown",
   "metadata": {},
   "source": [
    "intersection point of two linked lists"
   ]
  },
  {
   "cell_type": "code",
   "execution_count": 77,
   "metadata": {},
   "outputs": [
    {
     "name": "stdout",
     "output_type": "stream",
     "text": [
      "Linked list A:\n",
      "1 -> 2 -> 3 -> 4 -> 5 -> None\n",
      "Linked list B:\n",
      "6 -> 7 -> 4 -> 5 -> None\n",
      "Intersection node: 4\n"
     ]
    }
   ],
   "source": [
    "def get_intersection_node(headA, headB):\n",
    "    # Get the lengths of both lists\n",
    "    lenA = get_length(headA)\n",
    "    lenB = get_length(headB)\n",
    "\n",
    "    # Calculate the difference in lengths\n",
    "    diff = abs(lenA - lenB)\n",
    "\n",
    "    # Move the pointer of the longer list forward by the difference\n",
    "    if lenA > lenB:\n",
    "        for _ in range(diff):\n",
    "            headA = headA.next\n",
    "    else:\n",
    "        for _ in range(diff):\n",
    "            headB = headB.next\n",
    "\n",
    "    # Traverse both lists in parallel until intersection point is found\n",
    "    while headA != headB:\n",
    "        headA = headA.next\n",
    "        headB = headB.next\n",
    "\n",
    "    return headA\n",
    "\n",
    "def get_length(head):\n",
    "    length = 0\n",
    "    while head:\n",
    "        length += 1\n",
    "        head = head.next\n",
    "    return length\n",
    "\n",
    "intersect_node = LinkNode(4)\n",
    "intersect_node.next = LinkNode(5)\n",
    "\n",
    "headA = LinkNode(1)\n",
    "headA.next = LinkNode(2)\n",
    "headA.next.next = LinkNode(3)\n",
    "headA.next.next.next = intersect_node\n",
    "\n",
    "headB = LinkNode(6)\n",
    "headB.next = LinkNode(7)\n",
    "headB.next.next = intersect_node\n",
    "\n",
    "print(\"Linked list A:\")\n",
    "print_linked_list(headA)\n",
    "print(\"Linked list B:\")\n",
    "print_linked_list(headB)\n",
    "\n",
    "intersection = get_intersection_node(headA, headB)\n",
    "if intersection:\n",
    "    print(\"Intersection node:\", intersection.data)\n",
    "else:\n",
    "    print(\"No intersection found\")\n"
   ]
  },
  {
   "cell_type": "markdown",
   "metadata": {},
   "source": []
  }
 ],
 "metadata": {
  "kernelspec": {
   "display_name": "Python 3",
   "language": "python",
   "name": "python3"
  },
  "language_info": {
   "codemirror_mode": {
    "name": "ipython",
    "version": 3
   },
   "file_extension": ".py",
   "mimetype": "text/x-python",
   "name": "python",
   "nbconvert_exporter": "python",
   "pygments_lexer": "ipython3",
   "version": "3.11.9"
  }
 },
 "nbformat": 4,
 "nbformat_minor": 2
}
