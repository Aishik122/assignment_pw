{
 "cells": [
  {
   "cell_type": "markdown",
   "metadata": {},
   "source": [
    "Find the value of T(2) for the recurrence relation T(n) = 3T(n-1) + 12n, given that T(0)=5."
   ]
  },
  {
   "cell_type": "code",
   "execution_count": null,
   "metadata": {},
   "outputs": [],
   "source": [
    "\"\"\"\n",
    "T(0)=5 \n",
    "T(1)= 3 * T(0)+12*1\n",
    "T(2)= 3*T(1) + 12*2 \n",
    "-> T(2) = 3*(3*T(0)+12*1)+12*2\n",
    "-> T(2) = 3* (3*5+12) + 12*2 \n",
    "-> T(2) = 3* (27) + 24 \n",
    "-> T(2) = 81+24\n",
    "-> T(2) = 105 \n",
    "\"\"\"\n"
   ]
  },
  {
   "cell_type": "code",
   "execution_count": null,
   "metadata": {},
   "outputs": [],
   "source": [
    "# 2.Given a rec%rrence relation, solve it %sing the s%bstit%tion method:"
   ]
  },
  {
   "cell_type": "code",
   "execution_count": null,
   "metadata": {},
   "outputs": [],
   "source": [
    "\"\"\"\n",
    "a) T(n) = T(n-1) + c\n",
    "\n",
    "kn+b=k(n-1)+b+c\n",
    "\n",
    "Simplify:\n",
    "\n",
    "kn+b=kn-k+b+c\n",
    "k=k-1 +n/c \n",
    "1= -1/n + c/kn \n",
    "\n",
    "now k = c/(c-1)\n",
    "so, T(n) = c*n/(c-1) + b\n",
    "\"\"\"\n",
    "\n",
    "\n",
    "\"\"\"\n",
    "b. T(n) = 2T(n/2) + n\n",
    "T(n)= 2T(n/2) +n\n",
    "T(n)=anlogn+bn  [ where a and b cons.]\n",
    "a n logn+bn = 2(a.(n/2)log(n/2)+b.(n/2))+n\n",
    "now \n",
    "a.n.log(n) + bn = an log(n) - an +bn + n\n",
    "0 = -an  + n \n",
    "a= 1 \n",
    "now ,  T(n) = n log n + bn \n",
    "\n",
    "\n",
    "\n",
    "\n",
    "\"\"\"\n",
    "\n",
    "\"\"\"\n",
    "c. T(n) = 2T(n/2) + c \n",
    "T(n) = a.n [where a cons.]\n",
    "a.n = 2(a.(n/2))+c\n",
    "a.n = an + c \n",
    "c= 0 \n",
    "T(n)=a.n\n",
    "\n",
    "\"\"\"\n",
    "\"\"\"\n",
    "d. T(n) = T(n/2) + c\n",
    "T(n) = c.n [ where c is cons]\n",
    "cn = c.(n/2)  + c \n",
    "cn = (cn)/2 + c \n",
    "c = c/2 +1 \n",
    "c= 2 \n",
    "so , T(n) = 2n \n",
    "\"\"\"\n",
    "\n"
   ]
  },
  {
   "cell_type": "markdown",
   "metadata": {},
   "source": [
    "3. Given a rec%rrence relation, solve it %sing the rec%rsive tree approach:"
   ]
  },
  {
   "cell_type": "code",
   "execution_count": null,
   "metadata": {},
   "outputs": [],
   "source": [
    "# 3a. T(n) = 2T(n-1) +1 \n",
    "\"\"\"\n",
    "T(n):\n",
    "    2T(n-1)+1 \n",
    "        2T(n-2) + 1 \n",
    "            2T(n-3) +1 \n",
    "                ...\n",
    "                    2T(n-n-1) + 1 \n",
    "T(n) = 2^0 + 2^1 +2^2 + ... + 2^n\n",
    "T(n)= 2^(n+1) - 1 \n",
    "\n",
    "\"\"\""
   ]
  },
  {
   "cell_type": "code",
   "execution_count": null,
   "metadata": {},
   "outputs": [],
   "source": [
    "# 3b. T(n) = 2T(n/2) + n\n",
    "\"\"\"\n",
    "2T(n) = 2T(n/2) + n \n",
    "    2T(n/4) + n/2 \n",
    "        2T(n/8) + n/4 \n",
    "        ... \n",
    "T(n) = nlog(n)\n",
    "so \n",
    "T(n) = 2T(n/2) + n \n",
    "\n",
    "\"\"\""
   ]
  }
 ],
 "metadata": {
  "kernelspec": {
   "display_name": "Python 3",
   "language": "python",
   "name": "python3"
  },
  "language_info": {
   "name": "python",
   "version": "3.11.8"
  }
 },
 "nbformat": 4,
 "nbformat_minor": 2
}
