{
 "cells": [
  {
   "cell_type": "markdown",
   "metadata": {},
   "source": [
    "1. Given an array, check if it contains any duplicates or not.\n",
    "arr = [1, 2, 4, 2, 5, 9]\n",
    "Output = True\n"
   ]
  },
  {
   "cell_type": "code",
   "execution_count": 6,
   "metadata": {},
   "outputs": [
    {
     "data": {
      "text/plain": [
       "'duplicate found ,2 is the duplicate element '"
      ]
     },
     "execution_count": 6,
     "metadata": {},
     "output_type": "execute_result"
    }
   ],
   "source": [
    "arr=[1, 2, 4, 2, 5, 9]\n",
    "def duplicate_arr(arr):\n",
    "    for i in range(len(arr)): # for loop iter in arr for check elements \n",
    "        for j in range(i+1,len(arr)): # this foor loop responcible for check if duplicate is there , like it check i=0 ,then it search for j = i+1 index \n",
    "            if arr[i]==arr[j]:\n",
    "                return f'duplicate found ,{arr[i]} is the duplicate element ' # if duplicate is there then it show the duplicate is present \n",
    "                break\n",
    "            else:\n",
    "                return False # if duplicate is not there it return False as output \n",
    "                \n",
    "duplicate_arr(arr)"
   ]
  },
  {
   "cell_type": "markdown",
   "metadata": {},
   "source": [
    "\n",
    "2. Given an array and an integer k, rotate the array to the right by k steps.\n",
    "arr = [1, 2, 3, 4, 5, 6, 7] k = 3\n",
    "Output = [5, 6, 7, 1, 2, 3, 4]\n",
    "\n"
   ]
  },
  {
   "cell_type": "code",
   "execution_count": 11,
   "metadata": {},
   "outputs": [
    {
     "data": {
      "text/plain": [
       "[5, 6, 7, 1, 2, 3, 4]"
      ]
     },
     "execution_count": 11,
     "metadata": {},
     "output_type": "execute_result"
    }
   ],
   "source": [
    "arr = [1, 2, 3, 4, 5, 6, 7] \n",
    "k = 3\n",
    "def rev_arr_given_K(arr,k):\n",
    "    li=[] # initiating a empty list \n",
    "    li=arr[k+1:] # adding arr tothe k+1 ele to all \n",
    "    li.extend(arr[:k+1]) # extend arr to get all individual element in the end of the previous arr (here i slice arr 0 to kth index )\n",
    "    return li\n",
    "rev_arr_given_K(arr,k)"
   ]
  },
  {
   "cell_type": "markdown",
   "metadata": {},
   "source": [
    "3. Reverse the given array in-place, means without using any extra data structure.\n",
    "arr = [2, 4, 5, 7, 9, 12]\n",
    "Output = [12, 9, 7, 5, 4, 2]\n",
    "\n"
   ]
  },
  {
   "cell_type": "code",
   "execution_count": 14,
   "metadata": {},
   "outputs": [
    {
     "data": {
      "text/plain": [
       "[12, 9, 5, 4, 2]"
      ]
     },
     "execution_count": 14,
     "metadata": {},
     "output_type": "execute_result"
    }
   ],
   "source": [
    "arr = [2, 4, 5, 7, 9, 12]\n",
    "def replace_arr(arr):\n",
    "    for i in range(len(arr)//2): # if the number of element become odd in that case we use integer divison \n",
    "        arr[i],arr[-(i+1)]=arr[-(i+1)],arr[i] # just replace the arr element location \n",
    "    return arr # return the arr\n",
    "replace_arr(arr)"
   ]
  },
  {
   "cell_type": "markdown",
   "metadata": {},
   "source": [
    "4. Given an array of integers, find the maximum element in an array\n",
    "arr = [10, 5, 20, 8, 15]\n",
    "Output = 20\n",
    "\n"
   ]
  },
  {
   "cell_type": "code",
   "execution_count": 15,
   "metadata": {},
   "outputs": [
    {
     "data": {
      "text/plain": [
       "20"
      ]
     },
     "execution_count": 15,
     "metadata": {},
     "output_type": "execute_result"
    }
   ],
   "source": [
    "arr=[10, 5, 20, 8, 15]\n",
    "def  max_finder_arr(arr):\n",
    "    a=0 # initiating a variale with 0 \n",
    "    for i in range(len(arr)): # iter in arr index \n",
    "        if arr[i]>a: # check if the current element is greater then a or not , if greter then a then store it in a \n",
    "            a=arr[i] # then again check a is greater then the next number or not \n",
    "\n",
    "    return a # return a as output which hold max value of list \n",
    "max_finder_arr(arr)"
   ]
  },
  {
   "cell_type": "markdown",
   "metadata": {},
   "source": [
    "5. Given a sorted array, remove the duplicate element without using any extra data structure.\n",
    "arr = [1, 1, 2, 2, 2, 3, 3, 4, 4, 4, 5, 5]\n",
    "Output = [1, 2, 3, 4, 5]"
   ]
  },
  {
   "cell_type": "code",
   "execution_count": 31,
   "metadata": {},
   "outputs": [
    {
     "name": "stdout",
     "output_type": "stream",
     "text": [
      "The array after removing duplicates: [1, 2, 3, 4, 5]\n"
     ]
    }
   ],
   "source": [
    "def remove_duplicates(arr):\n",
    "  i = 0\n",
    "  for j in range(1, len(arr)):\n",
    "    if arr[i] != arr[j]:\n",
    "      i += 1\n",
    "      arr[i] = arr[j]\n",
    "  return i + 1\n",
    "\n",
    "# Example usage\n",
    "arr = [1, 1, 2, 2, 2, 3, 3, 4, 4, 4, 5, 5]\n",
    "new_len = remove_duplicates(arr)\n",
    "print(f\"The array after removing duplicates: {arr[:new_len]}\")"
   ]
  }
 ],
 "metadata": {
  "kernelspec": {
   "display_name": ".amazon",
   "language": "python",
   "name": "python3"
  },
  "language_info": {
   "codemirror_mode": {
    "name": "ipython",
    "version": 3
   },
   "file_extension": ".py",
   "mimetype": "text/x-python",
   "name": "python",
   "nbconvert_exporter": "python",
   "pygments_lexer": "ipython3",
   "version": "3.11.8"
  }
 },
 "nbformat": 4,
 "nbformat_minor": 2
}
