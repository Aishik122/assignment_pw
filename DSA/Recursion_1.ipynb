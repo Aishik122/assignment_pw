{
 "cells": [
  {
   "cell_type": "markdown",
   "metadata": {},
   "source": [
    "Q.1 Can you explain the logic and working of the Tower of Hanoi algorithm by writing a Java program?\n",
    "How does the recursion work, and how are the movements of disks between rods accomplished?"
   ]
  },
  {
   "cell_type": "code",
   "execution_count": 27,
   "metadata": {},
   "outputs": [
    {
     "name": "stdout",
     "output_type": "stream",
     "text": [
      "1  move disc A to C \n",
      "2  move disc A to B \n",
      "1  move disc C to B \n",
      "3  move disc A to C \n",
      "1  move disc B to A \n",
      "2  move disc B to C \n",
      "1  move disc A to C \n"
     ]
    }
   ],
   "source": [
    "def TOH(num_d,A=\"A\",B=\"B\",C=\"C\"):\n",
    "    if num_d == 1 :\n",
    "        print(f'{num_d}  move disc {A} to {C} ')\n",
    "        return \n",
    "    \n",
    "    TOH(num_d-1,A,C,B)\n",
    "    print(f'{num_d}  move disc {A} to {C} ')\n",
    "    TOH(num_d-1,B,A,C)\n",
    "    \n",
    "\n",
    "TOH(3)"
   ]
  }
 ],
 "metadata": {
  "kernelspec": {
   "display_name": "Python 3",
   "language": "python",
   "name": "python3"
  },
  "language_info": {
   "codemirror_mode": {
    "name": "ipython",
    "version": 3
   },
   "file_extension": ".py",
   "mimetype": "text/x-python",
   "name": "python",
   "nbconvert_exporter": "python",
   "pygments_lexer": "ipython3",
   "version": "3.11.8"
  }
 },
 "nbformat": 4,
 "nbformat_minor": 2
}
