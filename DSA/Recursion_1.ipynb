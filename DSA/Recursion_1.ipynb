{
 "cells": [
  {
   "cell_type": "markdown",
   "metadata": {},
   "source": [
    "Q.1 Can you explain the logic and working of the Tower of Hanoi algorithm by writing a Java program?\n",
    "How does the recursion work, and how are the movements of disks between rods accomplished?"
   ]
  },
  {
   "cell_type": "code",
   "execution_count": 27,
   "metadata": {},
   "outputs": [
    {
     "name": "stdout",
     "output_type": "stream",
     "text": [
      "1  move disc A to C \n",
      "2  move disc A to B \n",
      "1  move disc C to B \n",
      "3  move disc A to C \n",
      "1  move disc B to A \n",
      "2  move disc B to C \n",
      "1  move disc A to C \n"
     ]
    }
   ],
   "source": [
    "def TOH(num_d,A=\"A\",B=\"B\",C=\"C\"):\n",
    "    if num_d == 1 :\n",
    "        print(f'{num_d}  move disc {A} to {C} ') # move final disk to end if value 1 base case \n",
    "        return \n",
    "    \n",
    "    TOH(num_d-1,A,C,B)  # else move other to B stand \n",
    "    print(f'{num_d}  move disc {A} to {C} ')\n",
    "    TOH(num_d-1,B,A,C) #then recursive  \n",
    "    \n",
    "\n",
    "TOH(3)"
   ]
  },
  {
   "cell_type": "markdown",
   "metadata": {},
   "source": [
    "Q.2 Given two strings word1 and word2, return the minimum number of operations required to convert word1 to word2."
   ]
  },
  {
   "cell_type": "code",
   "execution_count": 29,
   "metadata": {},
   "outputs": [
    {
     "name": "stdout",
     "output_type": "stream",
     "text": [
      "Minimum operations to convert 'horse' to 'ros': 3\n"
     ]
    }
   ],
   "source": [
    "def min_operations_recursive(word1, word2):\n",
    "    if not word1:\n",
    "        return len(word2)\n",
    "    if not word2:\n",
    "        return len(word1)\n",
    "\n",
    "    if word1[-1] == word2[-1]:\n",
    "        return min_operations_recursive(word1[:-1], word2[:-1])\n",
    "    else:\n",
    "        # Perform one of the three operations (insertion, deletion, substitution)\n",
    "        delete = 1 + min_operations_recursive(word1[:-1], word2) \n",
    "        insert = 1 + min_operations_recursive(word1, word2[:-1])\n",
    "        substitute = 1 + min_operations_recursive(word1[:-1], word2[:-1])\n",
    "        \n",
    "        return min(delete, insert, substitute)\n",
    "\n",
    "word1 = \"horse\"\n",
    "word2 = \"ros\"\n",
    "operations = min_operations_recursive(word1, word2)\n",
    "print(f\"Minimum operations to convert '{word1}' to '{word2}': {operations}\")\n"
   ]
  },
  {
   "cell_type": "markdown",
   "metadata": {},
   "source": [
    "Q. 3 Print the max value of the array [ 13, 1, -3, 22, 5]."
   ]
  },
  {
   "cell_type": "code",
   "execution_count": 35,
   "metadata": {},
   "outputs": [
    {
     "name": "stdout",
     "output_type": "stream",
     "text": [
      "The maximum value in the array is: 22\n"
     ]
    }
   ],
   "source": [
    "def find_max_recursive(arr, index):\n",
    "    if index == 0:\n",
    "        return arr[0]\n",
    "    else:\n",
    "        return max(arr[index], find_max_recursive(arr, index - 1))\n",
    "\n",
    "array = [13, 1, -3, 22, 5]\n",
    "max_value = find_max_recursive(array, len(array) - 1)\n",
    "print(f\"The maximum value in the array is: {max_value}\")\n"
   ]
  },
  {
   "cell_type": "markdown",
   "metadata": {},
   "source": [
    "Q.4 Find the sum of the values of the array [92, 23, 15, -20, 10]."
   ]
  },
  {
   "cell_type": "code",
   "execution_count": 39,
   "metadata": {},
   "outputs": [
    {
     "data": {
      "text/plain": [
       "120"
      ]
     },
     "execution_count": 39,
     "metadata": {},
     "output_type": "execute_result"
    }
   ],
   "source": [
    "arr=[92, 23, 15, -20, 10]\n",
    "def sum_r(arr, index):\n",
    "    if index == 0:\n",
    "        return arr[0]\n",
    "    else:\n",
    "        return arr[index] + sum_r(arr, index - 1)\n",
    "\n",
    "sum_r(arr,len(arr)-1)"
   ]
  },
  {
   "cell_type": "markdown",
   "metadata": {},
   "source": [
    "Q.5 Given a number n. Print if it is an armstrong number or not.An armstrong number is a number if the sum\n",
    "of every digit in that number raised to the power of total digits in that number is equal to the number."
   ]
  },
  {
   "cell_type": "code",
   "execution_count": 42,
   "metadata": {},
   "outputs": [
    {
     "name": "stdout",
     "output_type": "stream",
     "text": [
      "153 is an Armstrong number.\n"
     ]
    }
   ],
   "source": [
    "def count_digits(num):\n",
    "    if num == 0:\n",
    "        return 0\n",
    "    else:\n",
    "        return 1 + count_digits(num // 10)\n",
    "\n",
    "def armstrong_recursive(num, power):\n",
    "    if num == 0:\n",
    "        return 0\n",
    "    else:\n",
    "        return (num % 10) ** power + armstrong_recursive(num // 10, power)\n",
    "\n",
    "def is_armstrong(num):\n",
    "    num_digits = count_digits(num)\n",
    "    power = num_digits\n",
    "    return num == armstrong_recursive(num, power)\n",
    "\n",
    "# Example usage:\n",
    "number = int(input(\"Enter a number: \"))\n",
    "result = \"an\" if is_armstrong(number) else \"not an\"\n",
    "print(f\"{number} is {result} Armstrong number.\")\n",
    "\n",
    "    "
   ]
  }
 ],
 "metadata": {
  "kernelspec": {
   "display_name": "Python 3",
   "language": "python",
   "name": "python3"
  },
  "language_info": {
   "codemirror_mode": {
    "name": "ipython",
    "version": 3
   },
   "file_extension": ".py",
   "mimetype": "text/x-python",
   "name": "python",
   "nbconvert_exporter": "python",
   "pygments_lexer": "ipython3",
   "version": "3.11.8"
  }
 },
 "nbformat": 4,
 "nbformat_minor": 2
}
