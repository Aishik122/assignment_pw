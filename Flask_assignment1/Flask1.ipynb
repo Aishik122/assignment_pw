{
 "cells": [
  {
   "cell_type": "code",
   "execution_count": 7,
   "metadata": {},
   "outputs": [
    {
     "name": "stdout",
     "output_type": "stream",
     "text": [
      "Collecting pandas\n",
      "  Downloading pandas-2.0.3-cp38-cp38-manylinux_2_17_x86_64.manylinux2014_x86_64.whl (12.4 MB)\n",
      "\u001b[K     |████████████████████████████████| 12.4 MB 19.2 MB/s eta 0:00:01\n",
      "\u001b[?25hRequirement already satisfied: python-dateutil>=2.8.2 in /config/.local/lib/python3.8/site-packages (from pandas) (2.8.2)\n",
      "Collecting tzdata>=2022.1\n",
      "  Downloading tzdata-2023.4-py2.py3-none-any.whl (346 kB)\n",
      "\u001b[K     |████████████████████████████████| 346 kB 61.4 MB/s eta 0:00:01\n",
      "\u001b[?25hCollecting numpy>=1.20.3; python_version < \"3.10\"\n",
      "  Downloading numpy-1.24.4-cp38-cp38-manylinux_2_17_x86_64.manylinux2014_x86_64.whl (17.3 MB)\n",
      "\u001b[K     |████████████████████████████████| 17.3 MB 63.5 MB/s eta 0:00:01\n",
      "\u001b[?25hCollecting pytz>=2020.1\n",
      "  Downloading pytz-2023.3.post1-py2.py3-none-any.whl (502 kB)\n",
      "\u001b[K     |████████████████████████████████| 502 kB 67.6 MB/s eta 0:00:01\n",
      "\u001b[?25hRequirement already satisfied: six>=1.5 in /config/.local/lib/python3.8/site-packages (from python-dateutil>=2.8.2->pandas) (1.16.0)\n",
      "Installing collected packages: tzdata, numpy, pytz, pandas\n",
      "\u001b[33m  WARNING: The scripts f2py, f2py3 and f2py3.8 are installed in '/config/.local/bin' which is not on PATH.\n",
      "  Consider adding this directory to PATH or, if you prefer to suppress this warning, use --no-warn-script-location.\u001b[0m\n",
      "Successfully installed numpy-1.24.4 pandas-2.0.3 pytz-2023.3.post1 tzdata-2023.4\n",
      "Note: you may need to restart the kernel to use updated packages.\n"
     ]
    }
   ],
   "source": [
    "pip install Flask\n",
    "pip install pandas "
   ]
  },
  {
   "cell_type": "markdown",
   "metadata": {},
   "source": [
    "# Basics of Flask:"
   ]
  },
  {
   "cell_type": "markdown",
   "metadata": {},
   "source": [
    "1. Create a Flask app that displays \"Hello, World!\" on the homepage."
   ]
  },
  {
   "cell_type": "code",
   "execution_count": 1,
   "metadata": {},
   "outputs": [
    {
     "ename": "ModuleNotFoundError",
     "evalue": "No module named 'flask'",
     "output_type": "error",
     "traceback": [
      "\u001b[0;31m---------------------------------------------------------------------------\u001b[0m",
      "\u001b[0;31mModuleNotFoundError\u001b[0m                       Traceback (most recent call last)",
      "Cell \u001b[0;32mIn[1], line 1\u001b[0m\n\u001b[0;32m----> 1\u001b[0m \u001b[38;5;28;01mfrom\u001b[39;00m \u001b[38;5;21;01mflask\u001b[39;00m \u001b[38;5;28;01mimport\u001b[39;00m Flask \n\u001b[1;32m      2\u001b[0m app \u001b[38;5;241m=\u001b[39m Flask(\u001b[38;5;18m__name__\u001b[39m)\n\u001b[1;32m      3\u001b[0m \u001b[38;5;129m@app\u001b[39m\u001b[38;5;241m.\u001b[39mroute(\u001b[38;5;124m'\u001b[39m\u001b[38;5;124m/home\u001b[39m\u001b[38;5;124m'\u001b[39m)\n\u001b[1;32m      4\u001b[0m \u001b[38;5;28;01mdef\u001b[39;00m \u001b[38;5;21mfirst_com\u001b[39m():\n",
      "\u001b[0;31mModuleNotFoundError\u001b[0m: No module named 'flask'"
     ]
    }
   ],
   "source": [
    "# for the Flask questions TA told me to upload photos and code here , i also upload app.py files please check and dont give me zero now .\n",
    "\n",
    "\n",
    "from flask import Flask \n",
    "app = Flask(__name__)\n",
    "@app.route('/home')\n",
    "def first_com():\n",
    "    return \"Hellow, World\"\n",
    "\n",
    "if __name__==\"__main__\":\n",
    "    app.run(host='0.0.0.0',debug=True)"
   ]
  },
  {
   "cell_type": "markdown",
   "metadata": {},
   "source": [
    "2. Build a Flask app with static HTML pages and navigate between them.\n",
    "\n"
   ]
  },
  {
   "cell_type": "code",
   "execution_count": null,
   "metadata": {},
   "outputs": [],
   "source": [
    "from flask import Flask ,render_template\n",
    "app = Flask(__name__)\n",
    "@app.route('/home')\n",
    "def home():\n",
    "    return render_template(\"home.html\")\n",
    "@app.route('/index')\n",
    "def index():\n",
    "    return render_template(\"index.html\")\n",
    "\n",
    "if __name__==\"__main__\":\n",
    "    app.run(host='0.0.0.0',debug=True)"
   ]
  },
  {
   "cell_type": "markdown",
   "metadata": {},
   "source": [
    "3. Develop a Flask app that uses URL parameters to display dynamic content.\n"
   ]
  },
  {
   "cell_type": "code",
   "execution_count": null,
   "metadata": {},
   "outputs": [],
   "source": [
    "from flask import Flask ,render_template\n",
    "app = Flask(__name__)\n",
    "@app.route('/home')\n",
    "def home():\n",
    "    return render_template(\"home.html\")\n",
    "@app.route('/index')\n",
    "def index():\n",
    "    return render_template(\"index.html\")\n",
    "\n",
    "if __name__==\"__main__\":\n",
    "    app.run(host='0.0.0.0',debug=True)"
   ]
  },
  {
   "cell_type": "markdown",
   "metadata": {},
   "source": [
    "\n",
    "4. Create a Flask app with a form that accepts user input and displays it.\n",
    "\n"
   ]
  },
  {
   "cell_type": "code",
   "execution_count": null,
   "metadata": {},
   "outputs": [],
   "source": [
    "# i gonna change the templete files please consider it !! to make a form :) \n",
    "from flask import Flask, render_template, request\n",
    "\n",
    "app = Flask(__name__)\n",
    "\n",
    "@app.route(\"/home\", methods=[\"GET\",\"POST\"])\n",
    "def home():\n",
    "    if request.method ==\"POST\":\n",
    "        name = request.form[\"name\"]\n",
    "        return render_template(\"index.html\", name=name)\n",
    "    else:\n",
    "        return render_template(\"home.html\")\n",
    "\n",
    "if __name__ == \"__main__\":\n",
    "    app.run(host='0.0.0.0',debug=True)\n",
    "\n",
    "# home html\n",
    "# <!DOCTYPE html>\n",
    "<html>\n",
    "<head>\n",
    "  <title>User Input Form</title>\n",
    "</head>\n",
    "<body>\n",
    "  <h1>Enter your name:</h1>\n",
    "  <form method=\"POST\">\n",
    "    <label for=\"name\">Name:</label>\n",
    "    <input type=\"text\" id=\"name\" name=\"name\">\n",
    "    <button type=\"submit\">Submit</button>\n",
    "  </form>\n",
    "</body>\n",
    "</html> \n",
    "# index html\n",
    "<!DOCTYPE html>\n",
    "<html>\n",
    "<head>\n",
    "  <title>Result</title>\n",
    "</head>\n",
    "<body>\n",
    "  <h1>Hello, {{ name }}!</h1>\n",
    "</body>\n",
    "</html>"
   ]
  },
  {
   "cell_type": "markdown",
   "metadata": {},
   "source": [
    "5. Implement user sessions in a Flask app to store and display user-specific data."
   ]
  },
  {
   "cell_type": "code",
   "execution_count": null,
   "metadata": {},
   "outputs": [],
   "source": [
    "# again requesting you to please check the Q5.py file ok \n",
    "from flask import Flask, render_template, request, session, redirect, url_for\n",
    "import pandas as pd\n",
    "import os \n",
    "\n",
    "\n",
    "app = Flask(__name__)\n",
    "app.secret_key = os.urandom(24)  \n",
    "\n",
    "\n",
    "class CustomData:\n",
    "    def __init__(self, name: str, age: int, roll: str, course: str):\n",
    "        self.name = name\n",
    "        self.age = age\n",
    "        self.roll = roll\n",
    "        self.course = course\n",
    "        \n",
    "    def get_data_frame(self):\n",
    "        try:\n",
    "            custom_data_input_dict = {\n",
    "                'name': [self.name],\n",
    "                'age': [self.age],\n",
    "                'roll': [self.roll],\n",
    "                'course': [self.course]\n",
    "            }\n",
    "            return pd.DataFrame(custom_data_input_dict)\n",
    "        except Exception as e:\n",
    "            raise Exception()\n",
    "\n",
    "@app.route('/home', methods=['GET', 'POST'])\n",
    "def home():\n",
    "    if request.method == 'GET':\n",
    "        return render_template('home.html')\n",
    "    elif request.method == 'POST':\n",
    "        data = CustomData(\n",
    "            name=request.form.get('name'),\n",
    "            age=request.form.get('age'),\n",
    "            roll=request.form.get('roll'),\n",
    "            course=request.form.get('course')\n",
    "        )\n",
    "        df = data.get_data_frame()\n",
    "\n",
    "        # Store user data in the session\n",
    "        session['user_data'] = df.to_dict(orient='records')[0]\n",
    "\n",
    "        return redirect(url_for('index'))  # Change to 'index' instead of 'submit'\n",
    "\n",
    "@app.route('/index')  # Change from '/submit' to '/index'\n",
    "def index():\n",
    "    # Retrieve user data from the session\n",
    "    user_data = session.get('user_data', None)\n",
    "\n",
    "    if user_data:\n",
    "        return render_template('index.html', name=user_data['name'], age=user_data['age'],\n",
    "                               roll=user_data['roll'], course=user_data['course'])\n",
    "    else:\n",
    "        return \"Data not available yet\"\n",
    "\n",
    "if __name__ == '__main__':\n",
    "    app.run(host='0.0.0.0', debug=True)\n",
    "# Home file may get changed use this \n",
    "<!DOCTYPE html>\n",
    "<html lang=\"en\">\n",
    "<head>\n",
    "    <meta charset=\"UTF-8\">\n",
    "    <meta name=\"viewport\" content=\"width=device-width, initial-scale=1.0\">\n",
    "    <title>Home</title>\n",
    "</head>\n",
    "<body>\n",
    "    <h1>Home</h1>\n",
    "    <form method=\"post\" action=\"/home\">\n",
    "        <label for=\"name\">Name:</label>\n",
    "        <input type=\"text\" id=\"name\" name=\"name\" required><br>\n",
    "        <label for=\"age\">Age:</label>\n",
    "        <input type=\"number\" id=\"age\" name=\"age\" required><br>\n",
    "        <label for=\"roll\">Roll:</label>\n",
    "        <input type=\"text\" id=\"roll\" name=\"roll\" required><br>\n",
    "        <label for=\"course\">Course:</label>\n",
    "        <input type=\"text\" id=\"course\" name=\"course\" required><br>\n",
    "        <input type=\"submit\" value=\"Submit\">\n",
    "    </form>\n",
    "</body>\n",
    "</html>\n",
    "## now index file \n",
    "<!DOCTYPE html>\n",
    "<html lang=\"en\">\n",
    "<head>\n",
    "    <meta charset=\"UTF-8\">\n",
    "    <meta name=\"viewport\" content=\"width=device-width, initial-scale=1.0\">\n",
    "    <title>Submit</title>\n",
    "</head>\n",
    "<body>\n",
    "    <h1>Submit</h1>\n",
    "    <p>Name: {{ name }}</p>\n",
    "    <p>Age: {{ age }}</p>\n",
    "    <p>Roll: {{ roll }}</p>\n",
    "    <p>Course: {{ course }}</p>\n",
    "</body>\n",
    "</html>\n",
    "\n"
   ]
  },
  {
   "cell_type": "markdown",
   "metadata": {},
   "source": [
    "# Intermediate Flask Topics:\n",
    "\n",
    "\n",
    "\n",
    "\n"
   ]
  },
  {
   "cell_type": "markdown",
   "metadata": {},
   "source": [
    "6. Build a Flask app that allows users to upload files and display them on the website.\n",
    "\n"
   ]
  },
  {
   "cell_type": "markdown",
   "metadata": {},
   "source": [
    "7. Integrate a SQLite database with Flask to perform CRUD operations on a list of items.\n"
   ]
  },
  {
   "cell_type": "markdown",
   "metadata": {},
   "source": [
    "\n",
    "8. Implement user authentication and registration in a Flask app using Flask-Login.\n"
   ]
  },
  {
   "cell_type": "markdown",
   "metadata": {},
   "source": [
    "\n",
    "9. Create a RESTful API using Flask to perform CRUD operations on resources like books or movies.\n"
   ]
  },
  {
   "cell_type": "markdown",
   "metadata": {},
   "source": [
    "\n",
    "10. Design a Flask app with proper error handling for 404 and 500 errors."
   ]
  },
  {
   "cell_type": "markdown",
   "metadata": {},
   "source": [
    "# Real-time Development:\n"
   ]
  },
  {
   "cell_type": "markdown",
   "metadata": {},
   "source": [
    "11. Create a real-time chat application using Flask-SocketIO.\n",
    "\n"
   ]
  },
  {
   "cell_type": "markdown",
   "metadata": {},
   "source": [
    "12. Build a Flask app that updates data in real-time using WebSocket connections.\n",
    "\n"
   ]
  },
  {
   "cell_type": "markdown",
   "metadata": {},
   "source": [
    "13. Implement notifications in a Flask app using websockets to notify users of updates."
   ]
  }
 ],
 "metadata": {
  "kernelspec": {
   "display_name": "Python 3.8.10 64-bit",
   "language": "python",
   "name": "python3"
  },
  "language_info": {
   "codemirror_mode": {
    "name": "ipython",
    "version": 3
   },
   "file_extension": ".py",
   "mimetype": "text/x-python",
   "name": "python",
   "nbconvert_exporter": "python",
   "pygments_lexer": "ipython3",
   "version": "3.8.10"
  },
  "orig_nbformat": 4,
  "vscode": {
   "interpreter": {
    "hash": "e7370f93d1d0cde622a1f8e1c04877d8463912d04d973331ad4851f04de6915a"
   }
  }
 },
 "nbformat": 4,
 "nbformat_minor": 2
}
