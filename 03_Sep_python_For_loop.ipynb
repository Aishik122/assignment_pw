{
 "cells": [
  {
   "cell_type": "markdown",
   "metadata": {},
   "source": [
    "# Basic Level:"
   ]
  },
  {
   "cell_type": "markdown",
   "metadata": {},
   "source": [
    "\n",
    "1. Write a Python program to print the numbers from 1 to 10 using a `for` loop.\n"
   ]
  },
  {
   "cell_type": "code",
   "execution_count": 2,
   "metadata": {},
   "outputs": [
    {
     "name": "stdout",
     "output_type": "stream",
     "text": [
      "1\n",
      "2\n",
      "3\n",
      "4\n",
      "5\n",
      "6\n",
      "7\n",
      "8\n",
      "9\n",
      "10\n"
     ]
    }
   ],
   "source": [
    "def one_ten(x=1,y=10):\n",
    "    for i in range(x,y+1):\n",
    "        print(i)\n",
    "one_ten(1,10)"
   ]
  },
  {
   "cell_type": "markdown",
   "metadata": {},
   "source": [
    "2. Create a program that calculates the sum of all numbers in a list using a `for` loop.\n"
   ]
  },
  {
   "cell_type": "code",
   "execution_count": 3,
   "metadata": {},
   "outputs": [
    {
     "data": {
      "text/plain": [
       "110"
      ]
     },
     "execution_count": 3,
     "metadata": {},
     "output_type": "execute_result"
    }
   ],
   "source": [
    "li=[x*2 for x in range(1,11)]\n",
    "def f_sum(li):\n",
    "    c=0\n",
    "    for i in li:\n",
    "        c+=i\n",
    "    return c\n",
    "f_sum(li)"
   ]
  },
  {
   "cell_type": "markdown",
   "metadata": {},
   "source": [
    "3. Write a program to print the characters of a string in reverse order using a `for` loop.\n"
   ]
  },
  {
   "cell_type": "code",
   "execution_count": 15,
   "metadata": {},
   "outputs": [
    {
     "name": "stdout",
     "output_type": "stream",
     "text": [
      "ognaM\n"
     ]
    }
   ],
   "source": [
    "def rev_str(x):\n",
    "  s=''\n",
    "  for i in range(len(x) - 1, -1, -1):\n",
    "    s+=x[i]\n",
    "  return s\n",
    "print(rev_str(\"Mango\"))"
   ]
  },
  {
   "cell_type": "markdown",
   "metadata": {},
   "source": [
    "4. Develop a program that finds the factorial of a given number using a `for` loop.\n"
   ]
  },
  {
   "cell_type": "code",
   "execution_count": 16,
   "metadata": {},
   "outputs": [
    {
     "data": {
      "text/plain": [
       "120"
      ]
     },
     "execution_count": 16,
     "metadata": {},
     "output_type": "execute_result"
    }
   ],
   "source": [
    "def n_factorial(x):\n",
    "    c=1\n",
    "    for i in range(1,x+1):\n",
    "        c=c*i\n",
    "    return c\n",
    "n_factorial(5)"
   ]
  },
  {
   "cell_type": "markdown",
   "metadata": {},
   "source": [
    "5. Create a program to print the multiplication table of a given number using a `for` loop.\n"
   ]
  },
  {
   "cell_type": "code",
   "execution_count": 18,
   "metadata": {},
   "outputs": [
    {
     "data": {
      "text/plain": [
       "[2, 4, 6, 8, 10, 12, 14, 16, 18, 20]"
      ]
     },
     "execution_count": 18,
     "metadata": {},
     "output_type": "execute_result"
    }
   ],
   "source": [
    "def multi_table(num):\n",
    "    li=[]\n",
    "    for i in range(1,11):\n",
    "        li.append(num*i)\n",
    "    return li \n",
    "\n",
    "multi_table(2)"
   ]
  },
  {
   "cell_type": "markdown",
   "metadata": {},
   "source": [
    "6. Write a program that counts the number of even and odd numbers in a list using a `for` loop.\n"
   ]
  },
  {
   "cell_type": "code",
   "execution_count": 22,
   "metadata": {},
   "outputs": [
    {
     "name": "stdout",
     "output_type": "stream",
     "text": [
      "number of odd found in list\n",
      "12\n",
      "number of even found in list\n",
      "11\n"
     ]
    }
   ],
   "source": [
    "def odd_even_count(li):\n",
    "    odd=0\n",
    "    even=0\n",
    "    for i in li:\n",
    "        if i%2==0:\n",
    "            even+=1\n",
    "        else:\n",
    "            odd+=1\n",
    "    print('number of odd found in list')\n",
    "    print(odd)\n",
    "    print('number of even found in list')\n",
    "    print(even) \n",
    "odd_even_count([1,2,5,4,6,9,8,7,4,5,1,2,3,23,65,98,45,12,3,2,6,5,98])"
   ]
  },
  {
   "cell_type": "markdown",
   "metadata": {},
   "source": [
    "7. Develop a program that prints the squares of numbers from 1 to 5 using a `for` loop.\n"
   ]
  },
  {
   "cell_type": "code",
   "execution_count": 25,
   "metadata": {},
   "outputs": [
    {
     "name": "stdout",
     "output_type": "stream",
     "text": [
      "1\n",
      "4\n",
      "9\n",
      "16\n",
      "25\n"
     ]
    }
   ],
   "source": [
    "def  sqr_num(start_num,end_num):\n",
    "    for i in range(start_num,end_num+1):\n",
    "        print(i**2)\n",
    "sqr_num(1,5)"
   ]
  },
  {
   "cell_type": "markdown",
   "metadata": {},
   "source": [
    "8. Create a program to find the length of a string without using the `len()` function.\n"
   ]
  },
  {
   "cell_type": "code",
   "execution_count": 26,
   "metadata": {},
   "outputs": [
    {
     "data": {
      "text/plain": [
       "6"
      ]
     },
     "execution_count": 26,
     "metadata": {},
     "output_type": "execute_result"
    }
   ],
   "source": [
    "def len_str(x):\n",
    "    c=0\n",
    "    for i in x:\n",
    "        c+=1\n",
    "    return c\n",
    "len_str(\"School\")"
   ]
  },
  {
   "cell_type": "markdown",
   "metadata": {},
   "source": [
    "9. Write a program that calculates the average of a list of numbers using a `for` loop.\n"
   ]
  },
  {
   "cell_type": "code",
   "execution_count": 34,
   "metadata": {},
   "outputs": [
    {
     "name": "stdout",
     "output_type": "stream",
     "text": [
      "14.5\n"
     ]
    }
   ],
   "source": [
    "def avg_li(li):\n",
    "    x=0\n",
    "    c=0\n",
    "    for i in li:\n",
    "        c+=1\n",
    "        x=x+i\n",
    "    return x/c\n",
    " \n",
    "print(avg_li([x for x in range(10,20)]))"
   ]
  },
  {
   "cell_type": "markdown",
   "metadata": {},
   "source": [
    "10. Develop a program that prints the first `n` Fibonacci numbers using a `for` loop."
   ]
  },
  {
   "cell_type": "code",
   "execution_count": 39,
   "metadata": {},
   "outputs": [
    {
     "name": "stdout",
     "output_type": "stream",
     "text": [
      "0\n",
      "1\n",
      "1\n",
      "2\n",
      "3\n",
      "5\n",
      "8\n",
      "13\n"
     ]
    }
   ],
   "source": [
    "def fibo(num):\n",
    "    a,b=0,1\n",
    "    for i in range(num):\n",
    "        print(a)\n",
    "        a,b=b,a+b\n",
    "fibo(8)"
   ]
  },
  {
   "cell_type": "markdown",
   "metadata": {},
   "source": [
    "# Intermediate Level:\n"
   ]
  },
  {
   "cell_type": "markdown",
   "metadata": {},
   "source": [
    "11. Write a program to check if a given list contains any duplicates using a `for` loop.\n"
   ]
  },
  {
   "cell_type": "code",
   "execution_count": 40,
   "metadata": {},
   "outputs": [
    {
     "data": {
      "text/plain": [
       "'contain duplicate values'"
      ]
     },
     "execution_count": 40,
     "metadata": {},
     "output_type": "execute_result"
    }
   ],
   "source": [
    "def check_duplicate(li):\n",
    "    c=0\n",
    "    for i in range(len(li)):\n",
    "        for j in range(i,len(li)):\n",
    "            if li[i]==li[j]:\n",
    "                c+=1\n",
    "            else:\n",
    "                continue\n",
    "    if c==0:\n",
    "        return False\n",
    "    else:\n",
    "        return \"contain duplicate values\"\n",
    "check_duplicate([1,2,1,3,6,5,4,7,8,9,5,4,8,5,6,3,2,1,4,10])"
   ]
  },
  {
   "cell_type": "markdown",
   "metadata": {},
   "source": [
    "12. Create a program that prints the prime numbers in a given range using a `for` loop.\n"
   ]
  },
  {
   "cell_type": "code",
   "execution_count": 58,
   "metadata": {},
   "outputs": [
    {
     "name": "stdout",
     "output_type": "stream",
     "text": [
      "11\n",
      "13\n",
      "15\n",
      "17\n",
      "19\n"
     ]
    }
   ],
   "source": [
    "def prime_num(start_num,end_num):\n",
    "    for i in range(start_num,end_num+1): # first for loop to collect all numbers in the given range \n",
    "        for j in range(2,int(i/2)+1): # again a for loop to check if the number is a prime or not \n",
    "            if i % j ==0:\n",
    "                break\n",
    "            else:\n",
    "                print(i)\n",
    "                break\n",
    "            \n",
    "\n",
    "prime_num(10,20)"
   ]
  },
  {
   "cell_type": "markdown",
   "metadata": {},
   "source": [
    "13. Develop a program that counts the number of vowels in a string using a `for` loop.\n"
   ]
  },
  {
   "cell_type": "code",
   "execution_count": 61,
   "metadata": {},
   "outputs": [
    {
     "data": {
      "text/plain": [
       "2"
      ]
     },
     "execution_count": 61,
     "metadata": {},
     "output_type": "execute_result"
    }
   ],
   "source": [
    "def vol_find(x):\n",
    "    c=0\n",
    "    for i in x:\n",
    "        if i.upper() in ['A','E','I','O','U']:\n",
    "            c+=1\n",
    "    return c \n",
    "vol_find(\"School\")"
   ]
  },
  {
   "cell_type": "markdown",
   "metadata": {},
   "source": [
    "14. Write a program to find the maximum element in a 2D list using a nested `for` loop.\n"
   ]
  },
  {
   "cell_type": "code",
   "execution_count": 75,
   "metadata": {},
   "outputs": [
    {
     "data": {
      "text/plain": [
       "9"
      ]
     },
     "execution_count": 75,
     "metadata": {},
     "output_type": "execute_result"
    }
   ],
   "source": [
    "def max_ele(li):\n",
    "    x=[]\n",
    "    for i in li:\n",
    "        for j in i :\n",
    "            x.append(j)\n",
    "    return max(x)\n",
    "max_ele([[1,2,3],[4,5,6],[7,8,9]])"
   ]
  },
  {
   "cell_type": "markdown",
   "metadata": {},
   "source": [
    "15. Create a program that removes all occurrences of a specific element from a list using a `for` loop.\n"
   ]
  },
  {
   "cell_type": "code",
   "execution_count": 79,
   "metadata": {},
   "outputs": [
    {
     "name": "stdout",
     "output_type": "stream",
     "text": [
      "The original list is :  [11, 123, 3, 21, 213, 43, 21, 3, 12, 3, 123, 4, 23, 425, 6, 43, 423, 43, 3, 3, 3, 3, 90]\n",
      "The list after removing all occurrences of  3  is :  [11, 123, 21, 213, 43, 21, 12, 123, 4, 23, 425, 6, 43, 423, 43, 90]\n"
     ]
    }
   ],
   "source": [
    "def remove_all(test_list, rem_ele):\n",
    "  temp = []\n",
    "  for ele in test_list:\n",
    "    if ele != rem_ele:\n",
    "      temp.append(ele)\n",
    "  return temp\n",
    "\n",
    "test_list = [11, 123, 3, 21, 213, 43, 21, 3, 12, 3, 123, 4, 23, 425, 6, 43, 423, 43, 3, 3, 3, 3, 90]\n",
    "rem_ele = 3\n",
    "res = remove_all(test_list, rem_ele)\n",
    "print(\"The original list is : \", test_list)\n",
    "print(\"The list after removing all occurrences of \", rem_ele, \" is : \", res)"
   ]
  },
  {
   "cell_type": "markdown",
   "metadata": {},
   "source": [
    "16. Develop a program that generates a multiplication table for numbers from 1 to 5 using a nested `for` loop.\n"
   ]
  },
  {
   "cell_type": "code",
   "execution_count": 80,
   "metadata": {},
   "outputs": [
    {
     "name": "stdout",
     "output_type": "stream",
     "text": [
      "1 * 1 = 1\n",
      "1 * 2 = 2\n",
      "1 * 3 = 3\n",
      "1 * 4 = 4\n",
      "1 * 5 = 5\n",
      "1 * 6 = 6\n",
      "1 * 7 = 7\n",
      "1 * 8 = 8\n",
      "1 * 9 = 9\n",
      "1 * 10 = 10\n",
      "2 * 1 = 2\n",
      "2 * 2 = 4\n",
      "2 * 3 = 6\n",
      "2 * 4 = 8\n",
      "2 * 5 = 10\n",
      "2 * 6 = 12\n",
      "2 * 7 = 14\n",
      "2 * 8 = 16\n",
      "2 * 9 = 18\n",
      "2 * 10 = 20\n",
      "3 * 1 = 3\n",
      "3 * 2 = 6\n",
      "3 * 3 = 9\n",
      "3 * 4 = 12\n",
      "3 * 5 = 15\n",
      "3 * 6 = 18\n",
      "3 * 7 = 21\n",
      "3 * 8 = 24\n",
      "3 * 9 = 27\n",
      "3 * 10 = 30\n",
      "4 * 1 = 4\n",
      "4 * 2 = 8\n",
      "4 * 3 = 12\n",
      "4 * 4 = 16\n",
      "4 * 5 = 20\n",
      "4 * 6 = 24\n",
      "4 * 7 = 28\n",
      "4 * 8 = 32\n",
      "4 * 9 = 36\n",
      "4 * 10 = 40\n",
      "5 * 1 = 5\n",
      "5 * 2 = 10\n",
      "5 * 3 = 15\n",
      "5 * 4 = 20\n",
      "5 * 5 = 25\n",
      "5 * 6 = 30\n",
      "5 * 7 = 35\n",
      "5 * 8 = 40\n",
      "5 * 9 = 45\n",
      "5 * 10 = 50\n",
      "None\n"
     ]
    }
   ],
   "source": [
    "def multipl_table():\n",
    "    for i in range(1,6):\n",
    "        for j in range(1,11):\n",
    "            print(f'{i} * {j} = {i*j}')\n",
    "print(multipl_table())"
   ]
  },
  {
   "cell_type": "markdown",
   "metadata": {},
   "source": [
    "17. Write a program that converts a list of Fahrenheit temperatures to Celsius using a `for` loop.\n"
   ]
  },
  {
   "cell_type": "code",
   "execution_count": 85,
   "metadata": {},
   "outputs": [
    {
     "name": "stdout",
     "output_type": "stream",
     "text": [
      "Actual fehrenheit list is  [6, 6, 3, 8, 8, 7, 6, 5, 3, 7]\n",
      "converted Celsius list is\n"
     ]
    },
    {
     "data": {
      "text/plain": [
       "[-14.44, -14.44, -16.11, -13.33, -13.33, -13.89, -14.44, -15.0, -16.11, -13.89]"
      ]
     },
     "execution_count": 85,
     "metadata": {},
     "output_type": "execute_result"
    }
   ],
   "source": [
    "# feel lazy to create a list every time so i go for random list -_- \n",
    "import random\n",
    " \n",
    "rand_list=[]\n",
    "n=10\n",
    "for i in range(n):\n",
    "    rand_list.append(random.randint(3,9))\n",
    "print(f'Actual fehrenheit list is  {rand_list}')\n",
    "# actual code start here \n",
    "\n",
    "\n",
    "def li_f_c(li):\n",
    "    c=[]\n",
    "    for i in li:\n",
    "        c.append(round((5/9) *(i-32),2) )\n",
    "    return c \n",
    "print(f'converted Celsius list is' )\n",
    "li_f_c(rand_list)"
   ]
  },
  {
   "cell_type": "markdown",
   "metadata": {},
   "source": [
    "18. Create a program to print the common elements from two lists using a `for` loop.\n"
   ]
  },
  {
   "cell_type": "code",
   "execution_count": 87,
   "metadata": {},
   "outputs": [
    {
     "name": "stdout",
     "output_type": "stream",
     "text": [
      "1st list is  [3, 9, 3, 6, 8, 6, 3, 7, 8, 4]\n",
      "2nd list is  [8, 7, 9, 9, 6, 7, 9, 9, 7, 5]\n",
      "common elements are [9, 6, 8, 7]\n"
     ]
    }
   ],
   "source": [
    "rand_list=[]\n",
    "n=10\n",
    "for i in range(n):\n",
    "    rand_list.append(random.randint(3,9))\n",
    "print(f'1st list is  {rand_list}')\n",
    "\n",
    "rand_list_2=[]\n",
    "n=10\n",
    "for i in range(n):\n",
    "    rand_list_2.append(random.randint(3,9))\n",
    "print(f'2nd list is  {rand_list_2}')\n",
    "def com_ele(x,y):\n",
    "    li=[]\n",
    "    for i in x:\n",
    "        for j in y:\n",
    "            if i==j and i not in li:\n",
    "                li.append(i)\n",
    "    return li \n",
    "print(f'common elements are {com_ele(rand_list,rand_list_2)}')"
   ]
  },
  {
   "cell_type": "markdown",
   "metadata": {},
   "source": [
    "19. Develop a program that prints the pattern of right-angled triangles using a `for` loop. Use ‘*’ to draw the\n",
    "pattern\n"
   ]
  },
  {
   "cell_type": "code",
   "execution_count": 4,
   "metadata": {},
   "outputs": [
    {
     "name": "stdout",
     "output_type": "stream",
     "text": [
      "* \n",
      "* * \n",
      "* * * \n",
      "* * * * \n",
      "* * * * * \n"
     ]
    }
   ],
   "source": [
    "def trian(x,y):\n",
    "    for i in range(x):\n",
    "        for j in range(y):\n",
    "            if i >=j :\n",
    "                print('*',end=' ')\n",
    "        print()\n",
    "trian(5,5)"
   ]
  },
  {
   "cell_type": "markdown",
   "metadata": {},
   "source": [
    "20. Write a program to find the greatest common divisor (GCD) of two numbers using a `for` loop."
   ]
  },
  {
   "cell_type": "code",
   "execution_count": 3,
   "metadata": {},
   "outputs": [
    {
     "name": "stdout",
     "output_type": "stream",
     "text": [
      "0 value error execution terminated\n",
      "9\n"
     ]
    }
   ],
   "source": [
    "def GCD(x,y):\n",
    "    li=[]\n",
    "    if (x != 0 and y!=0) and (x>y):\n",
    "        for i in range(1,y+1):\n",
    "            if x%i ==0 and y%i ==0:\n",
    "                li.append(i)\n",
    "    elif  (x != 0 and y!=0) and (x<y):\n",
    "        for i in range(1,x+1):\n",
    "            if x%i ==0 and y%i ==0:\n",
    "                li.append(i)\n",
    "    else:\n",
    "        return \"0 value error execution terminated\"\n",
    "    li.sort(reverse=True)\n",
    "    return li[0]\n",
    "print(GCD(5,0))\n",
    "print(GCD(36,27))"
   ]
  },
  {
   "cell_type": "markdown",
   "metadata": {},
   "source": [
    "# Advanced Level:"
   ]
  },
  {
   "cell_type": "markdown",
   "metadata": {},
   "source": [
    "\n",
    "21. Create a program that calculates the sum of the digits of numbers in a list using a list comprehension."
   ]
  },
  {
   "cell_type": "code",
   "execution_count": 17,
   "metadata": {},
   "outputs": [
    {
     "name": "stdout",
     "output_type": "stream",
     "text": [
      "list is  [3, 5, 8, 4, 3, 9, 6, 9, 4, 3]\n",
      "54\n"
     ]
    }
   ],
   "source": [
    "import random \n",
    "li=[]\n",
    "n=10\n",
    "for i in range(n):\n",
    "    li.append(random.randint(3,9))\n",
    "print(f'list is  {li}')\n",
    "\n",
    "def sum_digits(nums):\n",
    "  return sum(sum(int(d) for d in str(n)) for n in nums)\n",
    "print(sum_digits(li))"
   ]
  },
  {
   "cell_type": "markdown",
   "metadata": {},
   "source": [
    "22. Write a program to find the prime factors of a given number using a `for` loop and list comprehension.\n"
   ]
  },
  {
   "cell_type": "code",
   "execution_count": 19,
   "metadata": {},
   "outputs": [
    {
     "name": "stdout",
     "output_type": "stream",
     "text": [
      "Prime factors of 100: [2, 2, 5, 5]\n"
     ]
    }
   ],
   "source": [
    "def p_f(number: int) -> list:\n",
    "    if number <= 1:\n",
    "        return []\n",
    "\n",
    "    factors = []\n",
    "    divisor = 2\n",
    "\n",
    "    while divisor * divisor <= number:\n",
    "        while number % divisor == 0:\n",
    "            factors.append(divisor)\n",
    "            number //= divisor\n",
    "        divisor += 1\n",
    "\n",
    "\n",
    "    \n",
    "    if number > 1:\n",
    "        factors.append(number)\n",
    "\n",
    "    return factors\n",
    "\n",
    "# Example usage\n",
    "given_number = 100\n",
    "prime_factors_list = p_f(given_number)\n",
    "print(f\"Prime factors of {given_number}: {prime_factors_list}\")"
   ]
  },
  {
   "cell_type": "markdown",
   "metadata": {},
   "source": [
    "23. Develop a program that extracts unique elements from a list and stores them in a new list using a list\n",
    "comprehension.\n"
   ]
  },
  {
   "cell_type": "code",
   "execution_count": 22,
   "metadata": {},
   "outputs": [
    {
     "name": "stdout",
     "output_type": "stream",
     "text": [
      "[4]\n"
     ]
    }
   ],
   "source": [
    "def unique_elements(input_list):\n",
    "    unique_list=[]\n",
    "    unique_list = [x for x in input_list if input_list.count(x)==1]\n",
    "    return unique_list\n",
    "\n",
    "input_list = [1, 2, 3, 1, 4, 5, 2, 3, 5]\n",
    "unique_list = unique_elements(input_list)\n",
    "print(unique_list)"
   ]
  },
  {
   "cell_type": "markdown",
   "metadata": {},
   "source": [
    "24. Create a program that generates a list of all palindromic numbers up to a specified limit using a list\n",
    "comprehension.\n"
   ]
  },
  {
   "cell_type": "code",
   "execution_count": 25,
   "metadata": {},
   "outputs": [
    {
     "name": "stdout",
     "output_type": "stream",
     "text": [
      "Palindromic Numbers up to 100:\n",
      "[0, 1, 2, 3, 4, 5, 6, 7, 8, 9, 11, 22, 33, 44, 55, 66, 77, 88, 99]\n"
     ]
    }
   ],
   "source": [
    "def is_palindrome(number):\n",
    "    # Check if the number is a palindrome\n",
    "    return str(number) == str(number)[::-1]\n",
    "\n",
    "\n",
    "# Use a list comprehension to generate palindromic numbers up to the specified limit\n",
    "def generate_palindromic_numbers(limit):\n",
    "    palindromic_numbers = [num for num in range(limit + 1) if is_palindrome(num)]\n",
    "    return palindromic_numbers\n",
    "limit = 100\n",
    "palindromic_list = generate_palindromic_numbers(limit)\n",
    "\n",
    "# Print the result\n",
    "print(f\"Palindromic Numbers up to {limit}:\")\n",
    "print(palindromic_list)"
   ]
  },
  {
   "cell_type": "markdown",
   "metadata": {},
   "source": [
    "25. Write a program to flatten a nested list using list comprehension.\n"
   ]
  },
  {
   "cell_type": "code",
   "execution_count": 38,
   "metadata": {},
   "outputs": [
    {
     "name": "stdout",
     "output_type": "stream",
     "text": [
      "[1, 2, 3, 4, 5, 6, 7, 8, 9]\n"
     ]
    }
   ],
   "source": [
    "nested_list = [[1, 2, 3], [4, 5, 6], [7, 8, 9]]\n",
    "def flatten_nested_list(nested_list):\n",
    "    flattened_list = [element for sublist in nested_list for element in sublist]\n",
    "    return flattened_list\n",
    "\n",
    "print(flatten_nested_list(nested_list))"
   ]
  },
  {
   "cell_type": "markdown",
   "metadata": {},
   "source": [
    "26. Develop a program that computes the sum of even and odd numbers in a list separately using list\n",
    "comprehension.\n"
   ]
  },
  {
   "cell_type": "code",
   "execution_count": 41,
   "metadata": {},
   "outputs": [
    {
     "name": "stdout",
     "output_type": "stream",
     "text": [
      "original list is [1, 2, 3, 4, 5, 6, 7, 8, 9, 10]\n",
      "odd list is [1, 3, 5, 7, 9]\n",
      "even list is [2, 4, 6, 8, 10]\n"
     ]
    }
   ],
   "source": [
    "li=[x for x in range(1,11)]\n",
    "def odd_even_nums(li):\n",
    "    odd=[x for x in li if x%2 != 0]\n",
    "    even=[x for x in li if x%2 == 0]\n",
    "\n",
    "    return odd,even\n",
    "a,b=odd_even_nums(li)\n",
    "print(f'original list is {li}')\n",
    "print(f\"odd list is {a}\")\n",
    "print(f\"even list is {b}\")"
   ]
  },
  {
   "cell_type": "markdown",
   "metadata": {},
   "source": [
    "27. Create a program that generates a list of squares of odd numbers between 1 and 10 using list comprehension.\n"
   ]
  },
  {
   "cell_type": "code",
   "execution_count": 42,
   "metadata": {},
   "outputs": [
    {
     "name": "stdout",
     "output_type": "stream",
     "text": [
      "original list is [1, 2, 3, 4, 5, 6, 7, 8, 9, 10]\n",
      "squares of odd numbers list is [1, 9, 25, 49, 81]\n"
     ]
    }
   ],
   "source": [
    "li=[x for x in range(1,11)]\n",
    "def srq_odd(li):\n",
    "    results=[x**2 for x in li if x%2!=0]\n",
    "    return results\n",
    "\n",
    "print(f\"original list is {li}\")\n",
    "print(f\"squares of odd numbers list is {srq_odd(li)}\")"
   ]
  },
  {
   "cell_type": "markdown",
   "metadata": {},
   "source": [
    "28. Write a program that combines two lists into a dictionary using list comprehension.\n"
   ]
  },
  {
   "cell_type": "code",
   "execution_count": 44,
   "metadata": {},
   "outputs": [
    {
     "name": "stdout",
     "output_type": "stream",
     "text": [
      "list is  [4, 8, 7, 5, 8, 5, 6, 7, 5, 3]\n",
      "list is  [4, 9, 8, 4, 5, 3, 4, 6, 5, 9]\n",
      "dictionary is {4: 4, 8: 5, 7: 6, 5: 5, 6: 4, 3: 9}\n"
     ]
    }
   ],
   "source": [
    "# I'am not sure , is that possible , It cound only possible with dictionary comprehension\n",
    "# So I use dict comprehension for this problem\n",
    "\n",
    "# li1 and li2 \n",
    "import random \n",
    "li1=[]\n",
    "n=10\n",
    "for i in range(n):\n",
    "    li1.append(random.randint(3,9))\n",
    "print(f'list is  {li1}')\n",
    "import random \n",
    "li2=[]\n",
    "n=10\n",
    "for i in range(n):\n",
    "    li2.append(random.randint(3,9))\n",
    "print(f'list is  {li2}')\n",
    "\n",
    "def combo_list_dict(li1,li2):\n",
    "    di={key:value for key,value in zip(li1,li2)}\n",
    "    return di\n",
    "\n",
    "print(f\"dictionary is {combo_list_dict(li1,li2)}\") # each time dictionary update cause 10 numbers key,value pair to reduce in 6 (becz all number are random numbers :) "
   ]
  },
  {
   "cell_type": "markdown",
   "metadata": {},
   "source": [
    "29. Develop a program that extracts the vowels from a string and stores them in a list using list comprehension.\n"
   ]
  },
  {
   "cell_type": "code",
   "execution_count": 45,
   "metadata": {},
   "outputs": [
    {
     "name": "stdout",
     "output_type": "stream",
     "text": [
      "real str is I like python\n",
      "real str is ['I', 'i', 'e', 'o']\n"
     ]
    }
   ],
   "source": [
    "def vowel_extractor(s):\n",
    "    li=[x for x in s if x.lower() in ['a','e','i','o','u']]\n",
    "    return li\n",
    "s='I like python'\n",
    "\n",
    "print(f'real str is {s}')\n",
    "print(f'real str is {vowel_extractor(s)}')"
   ]
  },
  {
   "cell_type": "markdown",
   "metadata": {},
   "source": [
    "30. Create a program that removes all non-numeric characters from a list of strings using list comprehension."
   ]
  },
  {
   "cell_type": "code",
   "execution_count": 47,
   "metadata": {},
   "outputs": [
    {
     "name": "stdout",
     "output_type": "stream",
     "text": [
      "Input Strings: ['abc123', '45def', '6ghi789', '1jkl2mno']\n",
      "Output Strings: ['123', '45', '6789', '12']\n"
     ]
    }
   ],
   "source": [
    "def remove_non_numeric(strings):\n",
    "\n",
    "    result = [''.join(char for char in s if char.isdigit()) for s in strings]\n",
    "    return result\n",
    "\n",
    "\n",
    "input_strings = [\"abc123\", \"45def\", \"6ghi789\", \"1jkl2mno\"]\n",
    "output_strings = remove_non_numeric(input_strings)\n",
    "\n",
    "print(\"Input Strings:\", input_strings)\n",
    "print(\"Output Strings:\", output_strings)"
   ]
  },
  {
   "cell_type": "markdown",
   "metadata": {},
   "source": [
    "# Challenge Level:\n"
   ]
  },
  {
   "cell_type": "markdown",
   "metadata": {},
   "source": [
    "31. Write a program to generate a list of prime numbers using the Sieve of Eratosthenes algorithm and list\n",
    "comprehension.\n"
   ]
  },
  {
   "cell_type": "code",
   "execution_count": 2,
   "metadata": {},
   "outputs": [
    {
     "data": {
      "text/plain": [
       "[1, 2, 3, 5, 7, 11, 13, 17, 19, 23, 29, 31, 37, 41, 43, 47]"
      ]
     },
     "execution_count": 2,
     "metadata": {},
     "output_type": "execute_result"
    }
   ],
   "source": [
    "def Eratosthenes(start_num,end_num):\n",
    "    is_prime = lambda num: all(num % i != 0 for i in range(2, int(num**0.5) + 1))\n",
    "    x =[x for x in range(start_num, end_num) if is_prime(x)]\n",
    "    return x \n",
    "Eratosthenes(1,50)"
   ]
  },
  {
   "cell_type": "markdown",
   "metadata": {},
   "source": [
    "32. Create a program that generates a list of all Pythagorean triplets up to a specified limit using list\n",
    "comprehension.\n"
   ]
  },
  {
   "cell_type": "code",
   "execution_count": 7,
   "metadata": {},
   "outputs": [
    {
     "name": "stdout",
     "output_type": "stream",
     "text": [
      "Pythagorean triple: (7, 8, 9)\n",
      "Pythagorean triple: (17, 12, 13)\n",
      "Pythagorean triple: (17, 18, 19)\n",
      "Pythagorean triple: (31, 16, 17)\n",
      "Pythagorean triple: (31, 32, 33)\n",
      "Pythagorean triple: (49, 20, 21)\n",
      "Pythagorean triple: (49, 30, 31)\n",
      "Pythagorean triple: (49, 40, 41)\n",
      "Pythagorean triple: (49, 50, 51)\n"
     ]
    }
   ],
   "source": [
    "# Pythagorean triplets are a^2 +b^2 =c^2 \n",
    "#we can use this formula to generate pythagorean triplets \n",
    "#a = 2m^2 - 1\n",
    "#b = 2mn + 2m\n",
    "#c = 2mn + 2m + 1\n",
    "\n",
    "def generate_pythagorean_triplets(limit):\n",
    "    for m in range(2, limit + 1):\n",
    "        for n in range(1, m):\n",
    "            if GCD(m, n) == 1: # same GCD function that we created before \n",
    "                a = 2 * m**2 - 1\n",
    "                b = 2 * m * n + 2 * m\n",
    "                c = 2 * m * n + 2 * m + 1\n",
    "                print(f\"Pythagorean triple: ({a}, {b}, {c})\")\n",
    "\n",
    "generate_pythagorean_triplets(5)"
   ]
  },
  {
   "cell_type": "markdown",
   "metadata": {},
   "source": [
    "\n",
    "33. Develop a program that generates a list of all possible combinations of two lists using list comprehension.\n"
   ]
  },
  {
   "cell_type": "code",
   "execution_count": 8,
   "metadata": {},
   "outputs": [
    {
     "name": "stdout",
     "output_type": "stream",
     "text": [
      "All possible combinations of [1, 2, 3] and ['a', 'b', 'c'] are: [(1, 'a'), (1, 'b'), (1, 'c'), (2, 'a'), (2, 'b'), (2, 'c'), (3, 'a'), (3, 'b'), (3, 'c')]\n"
     ]
    }
   ],
   "source": [
    "\n",
    "def generate_combinations(list1, list2):\n",
    "    combinations = [(x, y) for x in list1 for y in list2]\n",
    "\n",
    "    return combinations\n",
    "\n",
    "# Example usage:\n",
    "list_a = [1, 2, 3]\n",
    "list_b = ['a', 'b', 'c']\n",
    "\n",
    "result = generate_combinations(list_a, list_b)\n",
    "print(\"All possible combinations of\", list_a, \"and\", list_b, \"are:\", result)"
   ]
  },
  {
   "cell_type": "markdown",
   "metadata": {},
   "source": [
    "34. Write a program that calculates the mean, median, and mode of a list of numbers using list\n",
    "comprehension."
   ]
  },
  {
   "cell_type": "code",
   "execution_count": 9,
   "metadata": {},
   "outputs": [
    {
     "name": "stdout",
     "output_type": "stream",
     "text": [
      "Mean: 3.375\n",
      "Median: 3.5\n",
      "Mode: [5]\n"
     ]
    }
   ],
   "source": [
    "from collections import Counter\n",
    "\n",
    "# Function to calculate mean, median, and mode\n",
    "def calculate_statistics(numbers):\n",
    "    # Mean calculation using list comprehension\n",
    "    mean = sum(numbers) / len(numbers)\n",
    "\n",
    "    # Median calculation using list comprehension\n",
    "    sorted_numbers = sorted(numbers)\n",
    "    n = len(sorted_numbers)\n",
    "    median = (sorted_numbers[n // 2] + sorted_numbers[(n - 1) // 2]) / 2\n",
    "\n",
    "    # Mode calculation using Counter and list comprehension\n",
    "    counts = Counter(numbers)\n",
    "    mode = [num for num, count in counts.items() if count == max(counts.values())] # list comprehension\n",
    "\n",
    "    return mean, median, mode\n",
    "\n",
    "# Example usage:\n",
    "number_list = [1, 2, 2, 3, 4, 5, 5, 5]\n",
    "mean, median, mode = calculate_statistics(number_list)\n",
    "\n",
    "print(\"Mean:\", mean)\n",
    "print(\"Median:\", median)\n",
    "print(\"Mode:\", mode)\n",
    "\n"
   ]
  },
  {
   "cell_type": "markdown",
   "metadata": {},
   "source": [
    "35. Create a program that generates Pascal's triangle up to a specified number of rows using list\n",
    "comprehension.\n"
   ]
  },
  {
   "cell_type": "code",
   "execution_count": 12,
   "metadata": {},
   "outputs": [
    {
     "name": "stdout",
     "output_type": "stream",
     "text": [
      "Pascal's Triangle up to 5 rows:\n",
      "       1       \n",
      "      1 1      \n",
      "     1 2 1     \n",
      "    1 3 3 1    \n",
      "   1 4 6 4 1   \n"
     ]
    }
   ],
   "source": [
    "def generate_pascals_triangle(rows):\n",
    "    triangle = [[1] * (row + 1) for row in range(rows)]\n",
    "    \n",
    "    for row in range(2, rows):\n",
    "        for col in range(1, row):\n",
    "            triangle[row][col] = triangle[row - 1][col - 1] + triangle[row - 1][col]\n",
    "\n",
    "    return triangle\n",
    "\n",
    "# Function to print Pascal's triangle\n",
    "def print_pascals_triangle(triangle):\n",
    "    for row in triangle:\n",
    "        print(\" \".join(map(str, row)).center(len(triangle[-1]) * 3))\n",
    "\n",
    "# Example usage:\n",
    "num_rows = 5\n",
    "pascals_triangle = generate_pascals_triangle(num_rows)\n",
    "\n",
    "print(\"Pascal's Triangle up to\", num_rows, \"rows:\")\n",
    "print_pascals_triangle(pascals_triangle)\n",
    "\n"
   ]
  },
  {
   "cell_type": "markdown",
   "metadata": {},
   "source": [
    "36. Develop a program that calculates the sum of the digits of a factorial of numbers from 1 to 5 using list\n",
    "comprehension.\n"
   ]
  },
  {
   "cell_type": "code",
   "execution_count": 13,
   "metadata": {},
   "outputs": [
    {
     "name": "stdout",
     "output_type": "stream",
     "text": [
      "The factorial of 1 is 1, and the sum of its digits is 1.\n",
      "The factorial of 2 is 2, and the sum of its digits is 2.\n",
      "The factorial of 3 is 6, and the sum of its digits is 6.\n",
      "The factorial of 4 is 24, and the sum of its digits is 6.\n",
      "The factorial of 5 is 120, and the sum of its digits is 3.\n"
     ]
    }
   ],
   "source": [
    "import math\n",
    "\n",
    "# Function to calculate the sum of digits of a number\n",
    "def sum_of_digits(number):\n",
    "    return sum(int(digit) for digit in str(number))\n",
    "\n",
    "# Calculate factorial and sum of digits using list comprehension\n",
    "factorials_and_sums = [(n, math.factorial(n), sum_of_digits(math.factorial(n))) for n in range(1, 6)]\n",
    "\n",
    "# Print the results\n",
    "for n, factorial, digit_sum in factorials_and_sums:\n",
    "    print(f\"The factorial of {n} is {factorial}, and the sum of its digits is {digit_sum}.\")\n"
   ]
  },
  {
   "cell_type": "markdown",
   "metadata": {},
   "source": [
    "37. Write a program that finds the longest word in a sentence using list comprehension.\n"
   ]
  },
  {
   "cell_type": "code",
   "execution_count": 14,
   "metadata": {},
   "outputs": [
    {
     "name": "stdout",
     "output_type": "stream",
     "text": [
      "Longest word in the sentence: sentence\n"
     ]
    }
   ],
   "source": [
    "# Function to find the longest word in a sentence\n",
    "def find_longest_word(sentence):\n",
    "    # Use list comprehension to get a list of words in the sentence\n",
    "    words = [word.strip(\".,?!\") for word in sentence.split()]\n",
    "\n",
    "    # Use max() function with key argument to find the longest word\n",
    "    longest_word = max(words, key=len)\n",
    "\n",
    "    return longest_word\n",
    "\n",
    "# Example usage:\n",
    "input_sentence = \"This is a sample sentence to find the longest word.\"\n",
    "result = find_longest_word(input_sentence)\n",
    "\n",
    "print(\"Longest word in the sentence:\", result)\n"
   ]
  },
  {
   "cell_type": "markdown",
   "metadata": {},
   "source": [
    "38. Create a program that filters a list of strings to include only those with more than three vowels using list\n",
    "comprehension.\n"
   ]
  },
  {
   "cell_type": "code",
   "execution_count": 15,
   "metadata": {},
   "outputs": [
    {
     "name": "stdout",
     "output_type": "stream",
     "text": [
      "Original list: ['hello', 'world', 'python', 'programming', 'example']\n",
      "Filtered list (more than three vowels): []\n"
     ]
    }
   ],
   "source": [
    "# Function to count vowels in a word\n",
    "def count_vowels(word):\n",
    "    return sum(1 for char in word if char.lower() in 'aeiou')\n",
    "\n",
    "# Program to filter strings with more than three vowels\n",
    "def filter_strings_with_vowels(word_list):\n",
    "    return [word for word in word_list if count_vowels(word) > 3]\n",
    "\n",
    "# Example usage:\n",
    "word_list = [\"hello\", \"world\", \"python\", \"programming\", \"example\"]\n",
    "\n",
    "filtered_words = filter_strings_with_vowels(word_list)\n",
    "\n",
    "print(\"Original list:\", word_list)\n",
    "print(\"Filtered list (more than three vowels):\", filtered_words)\n"
   ]
  },
  {
   "cell_type": "markdown",
   "metadata": {},
   "source": [
    "39. Develop a program that calculates the sum of the digits of numbers from 1 to 1000 using list\n",
    "comprehension.\n"
   ]
  },
  {
   "cell_type": "code",
   "execution_count": 17,
   "metadata": {},
   "outputs": [
    {
     "name": "stdout",
     "output_type": "stream",
     "text": [
      "The sum of the digits of numbers from 1 to 1000 is: 13501\n"
     ]
    }
   ],
   "source": [
    "# Function to calculate the sum of digits of a number\n",
    "def sum_of_digits(number):\n",
    "    return sum(int(digit) for digit in str(number))\n",
    "\n",
    "# List comprehension to generate numbers from 1 to 1000 and calculate the sum of their digits\n",
    "digit_sums = [sum_of_digits(number) for number in range(1, 1001)]\n",
    "\n",
    "# Print the result\n",
    "total_sum = sum(digit_sums)\n",
    "print(\"The sum of the digits of numbers from 1 to 1000 is:\", total_sum)\n"
   ]
  },
  {
   "cell_type": "markdown",
   "metadata": {},
   "source": [
    "40. Write a program that generates a list of prime palindromic numbers using list comprehension."
   ]
  },
  {
   "cell_type": "code",
   "execution_count": 18,
   "metadata": {},
   "outputs": [
    {
     "name": "stdout",
     "output_type": "stream",
     "text": [
      "Prime palindromic numbers up to 1000: [2, 3, 5, 7, 11, 101, 131, 151, 181, 191, 313, 353, 373, 383, 727, 757, 787, 797, 919, 929]\n"
     ]
    }
   ],
   "source": [
    "# Function to check if a number is prime\n",
    "def is_prime(num):\n",
    "    if num < 2:\n",
    "        return False\n",
    "    for i in range(2, int(num**0.5) + 1):\n",
    "        if num % i == 0:\n",
    "            return False\n",
    "    return True\n",
    "\n",
    "# Function to check if a number is a palindrome\n",
    "def is_palindrome(num):\n",
    "    return str(num) == str(num)[::-1]\n",
    "\n",
    "# Generate a list of prime palindromic numbers using list comprehension\n",
    "prime_palindromes = [num for num in range(1, 1000) if is_prime(num) and is_palindrome(num)]\n",
    "\n",
    "# Print the result\n",
    "print(\"Prime palindromic numbers up to 1000:\", prime_palindromes)\n"
   ]
  }
 ],
 "metadata": {
  "kernelspec": {
   "display_name": "Python 3",
   "language": "python",
   "name": "python3"
  },
  "language_info": {
   "codemirror_mode": {
    "name": "ipython",
    "version": 3
   },
   "file_extension": ".py",
   "mimetype": "text/x-python",
   "name": "python",
   "nbconvert_exporter": "python",
   "pygments_lexer": "ipython3",
   "version": "3.11.6"
  }
 },
 "nbformat": 4,
 "nbformat_minor": 2
}
