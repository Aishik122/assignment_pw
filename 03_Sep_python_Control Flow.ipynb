{
 "cells": [
  {
   "cell_type": "markdown",
   "metadata": {},
   "source": [
    "# Basic If-Else Statements:"
   ]
  },
  {
   "cell_type": "markdown",
   "metadata": {},
   "source": [
    "1. Write a Python program to check if a given number is positive or negative."
   ]
  },
  {
   "cell_type": "code",
   "execution_count": 1,
   "metadata": {},
   "outputs": [
    {
     "data": {
      "text/plain": [
       "'positive'"
      ]
     },
     "execution_count": 1,
     "metadata": {},
     "output_type": "execute_result"
    }
   ],
   "source": [
    "def nv_pv(x):\n",
    "    if x>0:\n",
    "        return \"positive\"\n",
    "    if x<0:\n",
    "        return \"negative\"\n",
    "    else:\n",
    "        return \"the number you enter is 0\"\n",
    "nv_pv(1)"
   ]
  },
  {
   "cell_type": "markdown",
   "metadata": {},
   "source": [
    "2. Create a program that determines if a person is eligible to vote based on their age.\n"
   ]
  },
  {
   "cell_type": "code",
   "execution_count": 5,
   "metadata": {},
   "outputs": [
    {
     "data": {
      "text/plain": [
       "True"
      ]
     },
     "execution_count": 5,
     "metadata": {},
     "output_type": "execute_result"
    }
   ],
   "source": [
    "# for this question I considered Indian citizens voting age\n",
    "\n",
    "def vot_permitted(age):\n",
    "    if age>= 18:\n",
    "        return True\n",
    "    else:\n",
    "        return False\n",
    "vot_permitted(20)"
   ]
  },
  {
   "cell_type": "markdown",
   "metadata": {},
   "source": [
    "3. Develop a program to find the maximum of two numbers using if-else statements.\n"
   ]
  },
  {
   "cell_type": "code",
   "execution_count": 6,
   "metadata": {},
   "outputs": [
    {
     "data": {
      "text/plain": [
       "90"
      ]
     },
     "execution_count": 6,
     "metadata": {},
     "output_type": "execute_result"
    }
   ],
   "source": [
    "def max_nums(a,b):\n",
    "    if a > b:\n",
    "        return a\n",
    "    else:\n",
    "        return b\n",
    "max_nums(12,90)"
   ]
  },
  {
   "cell_type": "markdown",
   "metadata": {},
   "source": [
    "4. Write a Python script to classify a given year as a leap year or not.\n"
   ]
  },
  {
   "cell_type": "code",
   "execution_count": 7,
   "metadata": {},
   "outputs": [
    {
     "name": "stdout",
     "output_type": "stream",
     "text": [
      "2020 is a leap year\n"
     ]
    }
   ],
   "source": [
    "def is_leap_year(year):\n",
    "    if (year % 4 == 0) and (year % 100 != 0) or (year % 400 == 0):\n",
    "        return True\n",
    "    else:\n",
    "        return False\n",
    "\n",
    "# Get the year from the user\n",
    "year = 2020\n",
    "\n",
    "# Check if the year is a leap year\n",
    "if is_leap_year(year):\n",
    "    print(year, \"is a leap year\")\n",
    "else:\n",
    "    print(year, \"is not a leap year\")"
   ]
  },
  {
   "cell_type": "markdown",
   "metadata": {},
   "source": [
    "5. Create a program that checks whether a character is a vowel or a consonant.\n"
   ]
  },
  {
   "cell_type": "code",
   "execution_count": 8,
   "metadata": {},
   "outputs": [
    {
     "data": {
      "text/plain": [
       "True"
      ]
     },
     "execution_count": 8,
     "metadata": {},
     "output_type": "execute_result"
    }
   ],
   "source": [
    "def is_volwel(x):\n",
    "    if x.lower() in ['a','e','i','o','u']:\n",
    "        return True \n",
    "    else:\n",
    "        return False\n",
    "is_volwel(\"A\")"
   ]
  },
  {
   "cell_type": "markdown",
   "metadata": {},
   "source": [
    "6. Implement a program to determine whether a given number is even or odd.\n"
   ]
  },
  {
   "cell_type": "code",
   "execution_count": 10,
   "metadata": {},
   "outputs": [
    {
     "data": {
      "text/plain": [
       "'Odd'"
      ]
     },
     "execution_count": 10,
     "metadata": {},
     "output_type": "execute_result"
    }
   ],
   "source": [
    "def odd_even(num):\n",
    "    if num%2 == 0:\n",
    "        return 'Even'\n",
    "    else:\n",
    "        return 'Odd'\n",
    "odd_even(11)"
   ]
  },
  {
   "cell_type": "markdown",
   "metadata": {},
   "source": [
    "7. Write a Python function to calculate the absolute value of a number without using the `abs()` function.\n"
   ]
  },
  {
   "cell_type": "code",
   "execution_count": 12,
   "metadata": {},
   "outputs": [
    {
     "data": {
      "text/plain": [
       "10"
      ]
     },
     "execution_count": 12,
     "metadata": {},
     "output_type": "execute_result"
    }
   ],
   "source": [
    "def  abs_re(x):\n",
    "    x=int(str(x)[1:])\n",
    "    return x\n",
    "abs_re(-10)"
   ]
  },
  {
   "cell_type": "markdown",
   "metadata": {},
   "source": [
    "8. Develop a program that determines the largest of three given numbers using if-else statements.\n"
   ]
  },
  {
   "cell_type": "code",
   "execution_count": 13,
   "metadata": {},
   "outputs": [
    {
     "data": {
      "text/plain": [
       "90"
      ]
     },
     "execution_count": 13,
     "metadata": {},
     "output_type": "execute_result"
    }
   ],
   "source": [
    "def max_nums(a,b,c):\n",
    "    if a > b and a>c :\n",
    "        return a \n",
    "    if b>a and b>c :\n",
    "        return b\n",
    "    if c>a and c>b:\n",
    "        return c\n",
    "\n",
    "max_nums(12,90,81)"
   ]
  },
  {
   "cell_type": "markdown",
   "metadata": {},
   "source": [
    "9. Create a program that checks if a given string is a palindrome.\n"
   ]
  },
  {
   "cell_type": "code",
   "execution_count": 17,
   "metadata": {},
   "outputs": [
    {
     "data": {
      "text/plain": [
       "True"
      ]
     },
     "execution_count": 17,
     "metadata": {},
     "output_type": "execute_result"
    }
   ],
   "source": [
    "def  palindrom(x):\n",
    "    if x.lower()==x[::-1].lower():\n",
    "        return True \n",
    "    else:\n",
    "        return False\n",
    "palindrom(\"Mam\")"
   ]
  },
  {
   "cell_type": "markdown",
   "metadata": {},
   "source": [
    "10. Write a Python program to calculate the grade based on a student's score."
   ]
  },
  {
   "cell_type": "code",
   "execution_count": 18,
   "metadata": {},
   "outputs": [
    {
     "data": {
      "text/plain": [
       "'B'"
      ]
     },
     "execution_count": 18,
     "metadata": {},
     "output_type": "execute_result"
    }
   ],
   "source": [
    "def grade(num):\n",
    "    if num >=90:\n",
    "        return \"A+\"\n",
    "    if num <90 and num >=80:\n",
    "        return \"A\"\n",
    "    if num <80 and num >=60:\n",
    "        return \"B+\"\n",
    "    if num <60 and num >=40:\n",
    "        return \"B\"\n",
    "    if num <40 and num >=30:\n",
    "        return \"C\"\n",
    "    else:\n",
    "        return \"F\"\n",
    "grade(55)"
   ]
  },
  {
   "cell_type": "markdown",
   "metadata": {},
   "source": [
    "# Nested If-Else Statements:\n"
   ]
  },
  {
   "cell_type": "markdown",
   "metadata": {},
   "source": [
    "11. Write a program to find the largest among three numbers using nested if-else statements."
   ]
  },
  {
   "cell_type": "code",
   "execution_count": 6,
   "metadata": {},
   "outputs": [
    {
     "name": "stdout",
     "output_type": "stream",
     "text": [
      "40\n"
     ]
    }
   ],
   "source": [
    "def largest(num1, num2, num3):\n",
    "    li = [num1, num2, num3]\n",
    "    for i in range(len(li)):\n",
    "        for j in range(0, len(li) - 1):\n",
    "            if li[j] > li[j + 1]:\n",
    "                li[j], li[j + 1] = li[j + 1], li[j]\n",
    "    return li[-1]\n",
    "\n",
    "print(largest(40, 30, 20))"
   ]
  },
  {
   "cell_type": "markdown",
   "metadata": {},
   "source": [
    "12. Implement a program to determine if a triangle is equilateral, isosceles, or scalene.\n"
   ]
  },
  {
   "cell_type": "code",
   "execution_count": 9,
   "metadata": {},
   "outputs": [
    {
     "data": {
      "text/plain": [
       "'scalene triangle'"
      ]
     },
     "execution_count": 9,
     "metadata": {},
     "output_type": "execute_result"
    }
   ],
   "source": [
    "def type_triangles(a,b,c):\n",
    "    if a == b and b==c:\n",
    "        return \"equilateral triangle\"\n",
    "    elif (a==b and a!=c) or (b==c and a!=c) :\n",
    "        return 'isosceles triangle'\n",
    "    else:\n",
    "        return 'scalene triangle'\n",
    "type_triangles(6,7,10)"
   ]
  },
  {
   "cell_type": "markdown",
   "metadata": {},
   "source": [
    "13. Develop a program that checks if a year is a leap year and also if it is a century year.\n"
   ]
  },
  {
   "cell_type": "code",
   "execution_count": 11,
   "metadata": {},
   "outputs": [
    {
     "name": "stdout",
     "output_type": "stream",
     "text": [
      "2023 is not a leap year.\n"
     ]
    }
   ],
   "source": [
    "def is_leap_year(year):\n",
    "    # Leap year is divisible by 4\n",
    "    leap = (year % 4 == 0)\n",
    "    \n",
    "    # If it's a century year, it should also be divisible by 400\n",
    "    century = (year % 100 == 0)\n",
    "    leap_century = (year % 400 == 0)\n",
    "    \n",
    "    # Checking conditions for leap year\n",
    "    if leap and (not century or leap_century):\n",
    "        return True\n",
    "    else:\n",
    "        return False\n",
    "\n",
    "year_to_check = 2023  # You can change this to test different years\n",
    "if is_leap_year(year_to_check):\n",
    "    print(f\"{year_to_check} is a leap year.\")\n",
    "    if year_to_check % 100 == 0:\n",
    "        print(f\"{year_to_check} is also a century year.\")\n",
    "else:\n",
    "    print(f\"{year_to_check} is not a leap year.\")"
   ]
  },
  {
   "cell_type": "markdown",
   "metadata": {},
   "source": [
    "14. Write a Python script to determine if a number is positive, negative, or zero.\n"
   ]
  },
  {
   "cell_type": "code",
   "execution_count": 12,
   "metadata": {},
   "outputs": [
    {
     "data": {
      "text/plain": [
       "'the number is negative'"
      ]
     },
     "execution_count": 12,
     "metadata": {},
     "output_type": "execute_result"
    }
   ],
   "source": [
    "def pos_neg_zero(x):\n",
    "    if x == 0:\n",
    "        return \"the number is zero\"\n",
    "    if x>0:\n",
    "        return \"the number is positive\"\n",
    "    if x< 0:\n",
    "        return \"the number is negative\"\n",
    "pos_neg_zero(-10)"
   ]
  },
  {
   "cell_type": "markdown",
   "metadata": {},
   "source": [
    "15. Create a program to check if a person is a teenager (between 13 and 19 years old).\n"
   ]
  },
  {
   "cell_type": "code",
   "execution_count": 16,
   "metadata": {},
   "outputs": [
    {
     "data": {
      "text/plain": [
       "'not a teenager'"
      ]
     },
     "execution_count": 16,
     "metadata": {},
     "output_type": "execute_result"
    }
   ],
   "source": [
    "def teenager(num):\n",
    "    num = str(num)\n",
    "    if num[0]=='1' and num[1] in [str(x) for x in range(3,10)]:\n",
    "        return 'teenager'\n",
    "    else:\n",
    "        return \"not a teenager\"\n",
    "teenager(20)"
   ]
  },
  {
   "cell_type": "markdown",
   "metadata": {},
   "source": [
    "16. Develop a program that determines the type of angle based on its measure (acute, obtuse, or right).\n"
   ]
  },
  {
   "cell_type": "code",
   "execution_count": 17,
   "metadata": {},
   "outputs": [
    {
     "data": {
      "text/plain": [
       "'obtuse'"
      ]
     },
     "execution_count": 17,
     "metadata": {},
     "output_type": "execute_result"
    }
   ],
   "source": [
    "def type_angles(x):\n",
    "    if x<90:\n",
    "        return \"acute angle\"\n",
    "    if x==90:\n",
    "        return \"right angle\"\n",
    "    if x>=90 and x<180:\n",
    "        return \"obtuse\"\n",
    "type_angles(120)"
   ]
  },
  {
   "cell_type": "markdown",
   "metadata": {},
   "source": [
    "17. Write a Python program to calculate the roots of a quadratic equation.\n"
   ]
  },
  {
   "cell_type": "code",
   "execution_count": null,
   "metadata": {},
   "outputs": [],
   "source": [
    "# for this let consider x is a str which represent a quadratic equation\n",
    "# x^2 +2x+3=0\n",
    "def quadric_equiation(x):\n",
    "    "
   ]
  },
  {
   "cell_type": "markdown",
   "metadata": {},
   "source": [
    "18. Implement a program to determine the day of the week based on a user-provided number (1 for Monday, 2\n",
    "for Tuesday, etc.).\n"
   ]
  },
  {
   "cell_type": "code",
   "execution_count": 18,
   "metadata": {},
   "outputs": [
    {
     "data": {
      "text/plain": [
       "'Monday'"
      ]
     },
     "execution_count": 18,
     "metadata": {},
     "output_type": "execute_result"
    }
   ],
   "source": [
    "def week_days(x):\n",
    "    d={1:\"Monday\",2:\"Tuesday\",3:\"Wednesday\",4:\"Thirsday\",5:\"Friday\",6:\"Saturday\",7:\"Sunday\"}\n",
    "    return d[x]\n",
    "week_days(1)"
   ]
  },
  {
   "cell_type": "markdown",
   "metadata": {},
   "source": [
    "19. Create a program that determines if a year is a leap year and also if it is evenly divisible by 400.\n"
   ]
  },
  {
   "cell_type": "code",
   "execution_count": 19,
   "metadata": {},
   "outputs": [
    {
     "name": "stdout",
     "output_type": "stream",
     "text": [
      "2023 is not a leap year.\n"
     ]
    }
   ],
   "source": [
    "def is_leap_year(year):\n",
    "    # Leap year is divisible by 4\n",
    "    leap = (year % 4 == 0)\n",
    "    \n",
    "    # If it's a century year, it should also be divisible by 400\n",
    "    century = (year % 100 == 0)\n",
    "    leap_century = (year % 400 == 0)\n",
    "    \n",
    "    # Checking conditions for leap year\n",
    "    if leap and (not century or leap_century):\n",
    "        return True\n",
    "    else:\n",
    "        return False\n",
    "\n",
    "year_to_check = 2023  # You can change this to test different years\n",
    "if is_leap_year(year_to_check):\n",
    "    print(f\"{year_to_check} is a leap year.\")\n",
    "    if year_to_check % 100 == 0:\n",
    "        print(f\"{year_to_check} is also a century year.\")\n",
    "else:\n",
    "    print(f\"{year_to_check} is not a leap year.\")"
   ]
  },
  {
   "cell_type": "markdown",
   "metadata": {},
   "source": [
    "20. Develop a program that checks if a given number is prime or not using nested if-else statements."
   ]
  },
  {
   "cell_type": "code",
   "execution_count": 20,
   "metadata": {},
   "outputs": [
    {
     "name": "stdout",
     "output_type": "stream",
     "text": [
      "2 is a prime number.\n"
     ]
    }
   ],
   "source": [
    "def is_prime(number):\n",
    "    # Check if the number is less than 2\n",
    "    if number < 2:\n",
    "        print(f\"{number} is not a prime number.\")\n",
    "    else:\n",
    "        # Check for factors from 2 to the square root of the number\n",
    "        for i in range(2, int(number**0.5) + 1):\n",
    "            # If the number is divisible by any other number, it's not prime\n",
    "            if number % i == 0:\n",
    "                print(f\"{number} is not a prime number.\")\n",
    "                break\n",
    "        else:\n",
    "            # If no factors were found, the number is prime\n",
    "            print(f\"{number} is a prime number.\")\n",
    "\n",
    "# Get input from the user\n",
    "num = int(input(\"Enter a number: \"))\n",
    "\n",
    "# Call the function to check if the number is prime\n",
    "is_prime(num)\n"
   ]
  },
  {
   "cell_type": "markdown",
   "metadata": {},
   "source": [
    "# Elif Statements:\n"
   ]
  },
  {
   "cell_type": "markdown",
   "metadata": {},
   "source": [
    "21. Write a Python program to assign grades based on different ranges of scores using elif statements.\n"
   ]
  },
  {
   "cell_type": "code",
   "execution_count": 21,
   "metadata": {},
   "outputs": [
    {
     "data": {
      "text/plain": [
       "'B'"
      ]
     },
     "execution_count": 21,
     "metadata": {},
     "output_type": "execute_result"
    }
   ],
   "source": [
    "def grade(num):\n",
    "    if num >=90:\n",
    "        return \"A+\"\n",
    "    if num <90 and num >=80:\n",
    "        return \"A\"\n",
    "    if num <80 and num >=60:\n",
    "        return \"B+\"\n",
    "    if num <60 and num >=40:\n",
    "        return \"B\"\n",
    "    if num <40 and num >=30:\n",
    "        return \"C\"\n",
    "    else:\n",
    "        return \"F\"\n",
    "grade(55)"
   ]
  },
  {
   "cell_type": "markdown",
   "metadata": {},
   "source": [
    "23. Develop a program to categorize a given person's BMI into underweight, normal, overweight, or obese using\n",
    "elif statements.\n"
   ]
  },
  {
   "cell_type": "markdown",
   "metadata": {},
   "source": [
    "25. Write a Python script to determine the type of a character (uppercase, lowercase, or special) using elif\n",
    "statements.\n",
    "\n"
   ]
  },
  {
   "cell_type": "code",
   "execution_count": 22,
   "metadata": {},
   "outputs": [
    {
     "data": {
      "text/plain": [
       "'special character'"
      ]
     },
     "execution_count": 22,
     "metadata": {},
     "output_type": "execute_result"
    }
   ],
   "source": [
    "def type_chr(x):\n",
    "    if ord(x) in range(65,65+27):\n",
    "        return \"capital letter\"\n",
    "    if ord(x) in range(97,97+27):\n",
    "        return \"small latter\"\n",
    "    else:\n",
    "        return \"special character\"\n",
    "type_chr(\"*\")"
   ]
  },
  {
   "cell_type": "markdown",
   "metadata": {},
   "source": [
    "26. Implement a program to calculate the discounted price based on different purchase amounts using elif\n",
    "statements.\n"
   ]
  },
  {
   "cell_type": "code",
   "execution_count": 23,
   "metadata": {},
   "outputs": [
    {
     "name": "stdout",
     "output_type": "stream",
     "text": [
      "The discounted price is: $765.00\n"
     ]
    }
   ],
   "source": [
    "def calculate_discounted_price(purchase_amount):\n",
    "    if purchase_amount < 100:\n",
    "        discount = 0\n",
    "    elif purchase_amount < 500:\n",
    "        discount = 0.05\n",
    "    elif purchase_amount < 1000:\n",
    "        discount = 0.1\n",
    "    elif purchase_amount < 2000:\n",
    "        discount = 0.15\n",
    "    else:\n",
    "        discount = 0.2\n",
    "\n",
    "    discounted_price = purchase_amount - (purchase_amount * discount)\n",
    "    return discounted_price\n",
    "\n",
    "purchase_amount = float(input(\"Enter the purchase amount: $\"))\n",
    "discounted_price = calculate_discounted_price(purchase_amount)\n",
    "print(f\"The discounted price is: ${discounted_price:.2f}\")\n"
   ]
  },
  {
   "cell_type": "markdown",
   "metadata": {},
   "source": [
    "27. Develop a program to calculate the electricity bill based on different consumption slabs using elif\n",
    "statements.\n"
   ]
  },
  {
   "cell_type": "code",
   "execution_count": 2,
   "metadata": {},
   "outputs": [
    {
     "name": "stdout",
     "output_type": "stream",
     "text": [
      "Your electricity bill is:  5500.00 Rs only /-\n"
     ]
    }
   ],
   "source": [
    "def calculate_electricity_bill(units_consumed):\n",
    "    if units_consumed <= 50:\n",
    "        # First slab: 0 - 50 units\n",
    "        rate = 12.0  # Rate per unit in this slab\n",
    "    elif units_consumed <= 100:\n",
    "        # Second slab: 51 - 100 units\n",
    "        rate = 14.0  # Rate per unit in this slab\n",
    "    elif units_consumed <= 200:\n",
    "        # Third slab: 101 - 200 units\n",
    "        rate = 18.5  # Rate per unit in this slab\n",
    "    else:\n",
    "        # Fourth slab: More than 200 units\n",
    "        rate = 22.0  # Rate per unit in this slab\n",
    "\n",
    "    # Calculate the total bill\n",
    "    total_bill = units_consumed * rate\n",
    "    return total_bill\n",
    "\n",
    "# Example usage\n",
    "units_consumed = int(input(\"Enter the number of units consumed: \"))\n",
    "bill_amount = calculate_electricity_bill(units_consumed)\n",
    "print(f\"Your electricity bill is:  {bill_amount:.2f} Rs only /-\" )"
   ]
  },
  {
   "cell_type": "markdown",
   "metadata": {},
   "source": [
    "28. Create a program to determine the type of quadrilateral based on its angles and sides using elif\n",
    "statements.\n"
   ]
  },
  {
   "cell_type": "code",
   "execution_count": 4,
   "metadata": {},
   "outputs": [
    {
     "name": "stdout",
     "output_type": "stream",
     "text": [
      "The quadrilateral is a Square.\n"
     ]
    }
   ],
   "source": [
    "def determine_quadrilateral_type(angle1, angle2, angle3, angle4, side1, side2, side3, side4):\n",
    "    # Check if it's a square\n",
    "    if angle1 == angle2 == angle3 == angle4 == 90 and side1 == side2 == side3 == side4:\n",
    "        return \"Square\"\n",
    "\n",
    "    # Check if it's a rectangle\n",
    "    elif angle1 == angle3 == 90 and angle2 == angle4 == 90 and side1 == side3 and side2 == side4:\n",
    "        return \"Rectangle\"\n",
    "\n",
    "    # Check if it's a parallelogram\n",
    "    elif angle1 == angle3 and angle2 == angle4 and side1 == side3 and side2 == side4:\n",
    "        return \"Parallelogram\"\n",
    "\n",
    "    # Check if it's a rhombus\n",
    "    elif angle1 == angle2 == angle3 == angle4 and side1 == side2 == side3 == side4:\n",
    "        return \"Rhombus\"\n",
    "\n",
    "    # Check if it's a trapezoid\n",
    "    elif angle1 == angle2 and angle3 == angle4 and side1 != side2 and side3 == side4:\n",
    "        return \"Trapezoid\"\n",
    "\n",
    "    # Otherwise, it's a general quadrilateral\n",
    "    else:\n",
    "        return \"Quadrilateral\"\n",
    "\n",
    "# Example usage\n",
    "angle1 = int(input(\"Enter the first angle: \"))\n",
    "angle2 = int(input(\"Enter the second angle: \"))\n",
    "angle3 = int(input(\"Enter the third angle: \"))\n",
    "angle4 = int(input(\"Enter the fourth angle: \"))\n",
    "side1 = int(input(\"Enter the length of the first side: \"))\n",
    "side2 = int(input(\"Enter the length of the second side: \"))\n",
    "side3 = int(input(\"Enter the length of the third side: \"))\n",
    "side4 = int(input(\"Enter the length of the fourth side: \"))\n",
    "\n",
    "quad_type = determine_quadrilateral_type(angle1, angle2, angle3, angle4, side1, side2, side3, side4)\n",
    "print(f\"The quadrilateral is a {quad_type}.\")\n",
    "\n"
   ]
  },
  {
   "cell_type": "markdown",
   "metadata": {},
   "source": [
    "29. Write a Python script to determine the season based on a user-provided month using elif statements.\n"
   ]
  },
  {
   "cell_type": "code",
   "execution_count": 5,
   "metadata": {},
   "outputs": [
    {
     "name": "stdout",
     "output_type": "stream",
     "text": [
      "The season for month 6 is Summer.\n"
     ]
    }
   ],
   "source": [
    "def determine_season(month):\n",
    "    if month in [12, 1, 2]:\n",
    "        return \"Winter\"\n",
    "    elif month in [3, 4, 5]:\n",
    "        return \"Spring\"\n",
    "    elif month in [6, 7, 8]:\n",
    "        return \"Summer\"\n",
    "    elif month in [9, 10, 11]:\n",
    "        return \"Fall\"\n",
    "    else:\n",
    "        return \"Invalid month\"\n",
    "\n",
    "# Example usage\n",
    "try:\n",
    "    month = int(input(\"Enter the month (1-12): \"))\n",
    "    if 1 <= month <= 12:\n",
    "        season = determine_season(month)\n",
    "        print(f\"The season for month {month} is {season}.\")\n",
    "    else:\n",
    "        print(\"Invalid month. Please enter a number between 1 and 12.\")\n",
    "except ValueError:\n",
    "    print(\"Invalid input. Please enter a valid number.\")\n"
   ]
  },
  {
   "cell_type": "markdown",
   "metadata": {},
   "source": [
    "30. Implement a program to determine the type of a year (leap or common) and month (30 or 31 days) using\n",
    "elif statements."
   ]
  },
  {
   "cell_type": "code",
   "execution_count": 6,
   "metadata": {},
   "outputs": [
    {
     "name": "stdout",
     "output_type": "stream",
     "text": [
      "2012 is a leap year.\n",
      "The month 4 has 30 days.\n"
     ]
    }
   ],
   "source": [
    "def is_leap_year(year):\n",
    "    # Leap year if divisible by 4, but not divisible by 100 unless also divisible by 400\n",
    "    return (year % 4 == 0 and year % 100 != 0) or (year % 400 == 0)\n",
    "\n",
    "def days_in_month(month, year):\n",
    "    if month in [1, 3, 5, 7, 8, 10, 12]:\n",
    "        return 31\n",
    "    elif month in [4, 6, 9, 11]:\n",
    "        return 30\n",
    "    elif month == 2:\n",
    "        return 29 if is_leap_year(year) else 28\n",
    "    else:\n",
    "        return -1  # Invalid month\n",
    "\n",
    "# Example usage\n",
    "try:\n",
    "    year = int(input(\"Enter the year: \"))\n",
    "    month = int(input(\"Enter the month (1-12): \"))\n",
    "\n",
    "    if 1 <= month <= 12:\n",
    "        leap_year = is_leap_year(year)\n",
    "        month_days = days_in_month(month, year)\n",
    "\n",
    "        if leap_year:\n",
    "            print(f\"{year} is a leap year.\")\n",
    "        else:\n",
    "            print(f\"{year} is a common year.\")\n",
    "\n",
    "        if month_days != -1:\n",
    "            print(f\"The month {month} has {month_days} days.\")\n",
    "        else:\n",
    "            print(\"Invalid month.\")\n",
    "    else:\n",
    "        print(\"Invalid month. Please enter a number between 1 and 12.\")\n",
    "except ValueError:\n",
    "    print(\"Invalid input. Please enter valid numbers.\")\n"
   ]
  },
  {
   "cell_type": "markdown",
   "metadata": {},
   "source": [
    "# Basic Level:\n"
   ]
  },
  {
   "cell_type": "markdown",
   "metadata": {},
   "source": [
    "9. Create a program to calculate the total cost of a shopping cart based on discounts.\n"
   ]
  },
  {
   "cell_type": "code",
   "execution_count": 7,
   "metadata": {},
   "outputs": [
    {
     "name": "stdout",
     "output_type": "stream",
     "text": [
      "The total cost of the shopping cart is: $295.00\n"
     ]
    }
   ],
   "source": [
    "def calculate_discounted_price(item_price, quantity):\n",
    "    # Apply discounts based on quantity\n",
    "    if quantity >= 10:\n",
    "        discount = 0.1  # 10% discount for 10 or more items\n",
    "    elif quantity >= 5:\n",
    "        discount = 0.05  # 5% discount for 5 or more items\n",
    "    else:\n",
    "        discount = 0\n",
    "\n",
    "    discounted_price = item_price * quantity * (1 - discount)\n",
    "    return discounted_price\n",
    "\n",
    "def calculate_total_cost(cart):\n",
    "    total_cost = 0\n",
    "\n",
    "    for item in cart:\n",
    "        item_price = item['price']\n",
    "        quantity = item['quantity']\n",
    "        discounted_price = calculate_discounted_price(item_price, quantity)\n",
    "        total_cost += discounted_price\n",
    "\n",
    "    return total_cost\n",
    "\n",
    "# Example usage\n",
    "cart = [\n",
    "    {'item': 'Shirt', 'price': 20.0, 'quantity': 3},\n",
    "    {'item': 'Shoes', 'price': 50.0, 'quantity': 2},\n",
    "    {'item': 'Hat', 'price': 15.0, 'quantity': 10}\n",
    "]\n",
    "\n",
    "total_cost = calculate_total_cost(cart)\n",
    "print(f\"The total cost of the shopping cart is: ${total_cost:.2f}\")\n"
   ]
  },
  {
   "cell_type": "markdown",
   "metadata": {},
   "source": [
    "10. Write a program that checks if a given number is even or odd."
   ]
  },
  {
   "cell_type": "code",
   "execution_count": 8,
   "metadata": {},
   "outputs": [
    {
     "name": "stdout",
     "output_type": "stream",
     "text": [
      "The number 12 is Even.\n"
     ]
    }
   ],
   "source": [
    "def check_even_odd(number):\n",
    "    if number % 2 == 0:\n",
    "        return \"Even\"\n",
    "    else:\n",
    "        return \"Odd\"\n",
    "\n",
    "# Example usage\n",
    "try:\n",
    "    user_number = int(input(\"Enter a number: \"))\n",
    "    result = check_even_odd(user_number)\n",
    "    print(f\"The number {user_number} is {result}.\")\n",
    "except ValueError:\n",
    "    print(\"Invalid input. Please enter a valid number.\")\n"
   ]
  },
  {
   "cell_type": "markdown",
   "metadata": {},
   "source": [
    "25. Build a program that solves a linear equation for x, considering different cases.\n"
   ]
  },
  {
   "cell_type": "code",
   "execution_count": 9,
   "metadata": {},
   "outputs": [
    {
     "name": "stdout",
     "output_type": "stream",
     "text": [
      "The solution for the equation 12.0x + 42.0 = 0 is x = -3.5\n"
     ]
    }
   ],
   "source": [
    "def solve_linear_equation(a, b):\n",
    "    if a == 0:\n",
    "        if b == 0:\n",
    "            return \"Infinite solutions (all real numbers)\"\n",
    "        else:\n",
    "            return \"No solution\"\n",
    "    else:\n",
    "        x = -b / a\n",
    "        return f\"The solution for the equation {a}x + {b} = 0 is x = {x}\"\n",
    "\n",
    "# Example usage\n",
    "try:\n",
    "    coefficient_a = float(input(\"Enter the coefficient 'a': \"))\n",
    "    coefficient_b = float(input(\"Enter the coefficient 'b': \"))\n",
    "    \n",
    "    solution = solve_linear_equation(coefficient_a, coefficient_b)\n",
    "    print(solution)\n",
    "except ValueError:\n",
    "    print(\"Invalid input. Please enter valid numerical coefficients.\")\n"
   ]
  },
  {
   "cell_type": "markdown",
   "metadata": {},
   "source": [
    "26. Write a program that simulates a basic quiz game with multiple-choice questions and scoring.\n"
   ]
  },
  {
   "cell_type": "code",
   "execution_count": 10,
   "metadata": {},
   "outputs": [
    {
     "name": "stdout",
     "output_type": "stream",
     "text": [
      "What is the capital of France?\n",
      "1. Paris\n",
      "2. Berlin\n",
      "3. Madrid\n",
      "4. Rome\n",
      "Correct!\n",
      "\n",
      "Which planet is known as the Red Planet?\n",
      "1. Earth\n",
      "2. Mars\n",
      "3. Jupiter\n",
      "4. Venus\n",
      "Correct!\n",
      "\n",
      "What is the largest mammal on Earth?\n",
      "1. Elephant\n",
      "2. Blue Whale\n",
      "3. Giraffe\n",
      "4. Dolphin\n",
      "Wrong! The correct answer is: Blue Whale\n",
      "\n",
      "Quiz completed!\n",
      "Your score: 66.67%\n"
     ]
    }
   ],
   "source": [
    "def display_question(question, choices):\n",
    "    print(question)\n",
    "    for i, choice in enumerate(choices, start=1):\n",
    "        print(f\"{i}. {choice}\")\n",
    "\n",
    "def get_user_answer():\n",
    "    try:\n",
    "        answer = int(input(\"Enter the number of your answer: \"))\n",
    "        return answer\n",
    "    except ValueError:\n",
    "        print(\"Invalid input. Please enter a number.\")\n",
    "        return get_user_answer()\n",
    "\n",
    "def quiz_game(questions):\n",
    "    total_questions = len(questions)\n",
    "    correct_answers = 0\n",
    "\n",
    "    for question, choices, correct_answer in questions:\n",
    "        display_question(question, choices)\n",
    "        user_answer = get_user_answer()\n",
    "\n",
    "        if 1 <= user_answer <= len(choices):\n",
    "            if choices[user_answer - 1] == correct_answer:\n",
    "                print(\"Correct!\\n\")\n",
    "                correct_answers += 1\n",
    "            else:\n",
    "                print(f\"Wrong! The correct answer is: {correct_answer}\\n\")\n",
    "        else:\n",
    "            print(\"Invalid choice. Skipping to the next question.\\n\")\n",
    "\n",
    "    score = (correct_answers / total_questions) * 100\n",
    "    print(f\"Quiz completed!\\nYour score: {score:.2f}%\")\n",
    "\n",
    "# Example usage\n",
    "quiz_questions = [\n",
    "    (\"What is the capital of France?\", [\"Paris\", \"Berlin\", \"Madrid\", \"Rome\"], \"Paris\"),\n",
    "    (\"Which planet is known as the Red Planet?\", [\"Earth\", \"Mars\", \"Jupiter\", \"Venus\"], \"Mars\"),\n",
    "    (\"What is the largest mammal on Earth?\", [\"Elephant\", \"Blue Whale\", \"Giraffe\", \"Dolphin\"], \"Blue Whale\")\n",
    "]\n",
    "\n",
    "quiz_game(quiz_questions)\n"
   ]
  },
  {
   "cell_type": "markdown",
   "metadata": {},
   "source": [
    "28. Create a program that sorts three numbers in ascending order using conditional statements.\n"
   ]
  },
  {
   "cell_type": "code",
   "execution_count": 11,
   "metadata": {},
   "outputs": [
    {
     "name": "stdout",
     "output_type": "stream",
     "text": [
      "The numbers in ascending order: (21.0, 25.0, 36.0)\n"
     ]
    }
   ],
   "source": [
    "def sort_numbers(a, b, c):\n",
    "    if a <= b and a <= c:\n",
    "        smallest = a\n",
    "        if b <= c:\n",
    "            middle = b\n",
    "            largest = c\n",
    "        else:\n",
    "            middle = c\n",
    "            largest = b\n",
    "    elif b <= a and b <= c:\n",
    "        smallest = b\n",
    "        if a <= c:\n",
    "            middle = a\n",
    "            largest = c\n",
    "        else:\n",
    "            middle = c\n",
    "            largest = a\n",
    "    else:\n",
    "        smallest = c\n",
    "        if a <= b:\n",
    "            middle = a\n",
    "            largest = b\n",
    "        else:\n",
    "            middle = b\n",
    "            largest = a\n",
    "\n",
    "    return smallest, middle, largest\n",
    "\n",
    "# Example usage\n",
    "try:\n",
    "    num1 = float(input(\"Enter the first number: \"))\n",
    "    num2 = float(input(\"Enter the second number: \"))\n",
    "    num3 = float(input(\"Enter the third number: \"))\n",
    "\n",
    "    sorted_numbers = sort_numbers(num1, num2, num3)\n",
    "    print(f\"The numbers in ascending order: {sorted_numbers}\")\n",
    "except ValueError:\n",
    "    print(\"Invalid input. Please enter valid numerical values.\")\n",
    "\n"
   ]
  },
  {
   "cell_type": "markdown",
   "metadata": {},
   "source": [
    "29. Build a program that determines the roots of a quartic equation using numerical methods.\n"
   ]
  },
  {
   "cell_type": "code",
   "execution_count": 12,
   "metadata": {},
   "outputs": [
    {
     "name": "stdout",
     "output_type": "stream",
     "text": [
      "The root of the quartic equation is approximately: 2.000000\n"
     ]
    }
   ],
   "source": [
    "def quartic_equation(x, coefficients):\n",
    "    \"\"\"\n",
    "    Evaluate the quartic equation f(x) = ax^4 + bx^3 + cx^2 + dx + e\n",
    "    where coefficients = [a, b, c, d, e]\n",
    "    \"\"\"\n",
    "    a, b, c, d, e = coefficients\n",
    "    return a * x**4 + b * x**3 + c * x**2 + d * x + e\n",
    "\n",
    "def derivative_quartic(x, coefficients):\n",
    "    \"\"\"\n",
    "    Evaluate the derivative of the quartic equation f'(x) = 4ax^3 + 3bx^2 + 2cx + d\n",
    "    where coefficients = [a, b, c, d, e]\n",
    "    \"\"\"\n",
    "    a, b, c, d, _ = coefficients\n",
    "    return 4 * a * x**3 + 3 * b * x**2 + 2 * c * x + d\n",
    "\n",
    "def newton_method_quartic(coefficients, initial_guess, tolerance=1e-6, max_iterations=100):\n",
    "    \"\"\"\n",
    "    Use Newton's method to find the root of a quartic equation.\n",
    "    \"\"\"\n",
    "    x = initial_guess\n",
    "    for _ in range(max_iterations):\n",
    "        f_x = quartic_equation(x, coefficients)\n",
    "        f_prime_x = derivative_quartic(x, coefficients)\n",
    "\n",
    "        if abs(f_prime_x) < tolerance:\n",
    "            break\n",
    "\n",
    "        x = x - f_x / f_prime_x\n",
    "\n",
    "        if abs(f_x) < tolerance:\n",
    "            break\n",
    "\n",
    "    return x\n",
    "\n",
    "# Example usage\n",
    "coefficients = [1, -10, 35, -50, 24]  # Replace with your quartic coefficients\n",
    "initial_guess = 2.0\n",
    "\n",
    "root = newton_method_quartic(coefficients, initial_guess)\n",
    "\n",
    "print(f\"The root of the quartic equation is approximately: {root:.6f}\")\n"
   ]
  },
  {
   "cell_type": "markdown",
   "metadata": {},
   "source": [
    "30. Write a program that calculates the BMI (Body Mass Index) and provides health recommendations based\n",
    "on the user's input."
   ]
  },
  {
   "cell_type": "code",
   "execution_count": 13,
   "metadata": {},
   "outputs": [
    {
     "name": "stdout",
     "output_type": "stream",
     "text": [
      "Your BMI is: 1.00\n",
      "Category: Underweight\n",
      "Recommendation: You may need to gain some weight. Consult with a healthcare professional.\n"
     ]
    }
   ],
   "source": [
    "def calculate_bmi(weight, height):\n",
    "    \"\"\"\n",
    "    Calculate BMI using the formula: BMI = weight (kg) / (height (m) ** 2)\n",
    "    \"\"\"\n",
    "    return weight / (height ** 2)\n",
    "\n",
    "def interpret_bmi(bmi):\n",
    "    \"\"\"\n",
    "    Interpret BMI and provide health recommendations\n",
    "    \"\"\"\n",
    "    if bmi < 18.5:\n",
    "        return \"Underweight\", \"You may need to gain some weight. Consult with a healthcare professional.\"\n",
    "    elif 18.5 <= bmi < 24.9:\n",
    "        return \"Normal weight\", \"Your weight is within the healthy range. Keep it up!\"\n",
    "    elif 25 <= bmi < 29.9:\n",
    "        return \"Overweight\", \"Consider making healthy lifestyle choices, including a balanced diet and regular exercise.\"\n",
    "    else:\n",
    "        return \"Obese\", \"It's recommended to consult with a healthcare professional to discuss weight management.\"\n",
    "\n",
    "# Example usage\n",
    "try:\n",
    "    weight = float(input(\"Enter your weight in kilograms: \"))\n",
    "    height = float(input(\"Enter your height in meters: \"))\n",
    "\n",
    "    if weight > 0 and height > 0:\n",
    "        bmi = calculate_bmi(weight, height)\n",
    "        category, recommendation = interpret_bmi(bmi)\n",
    "\n",
    "        print(f\"Your BMI is: {bmi:.2f}\")\n",
    "        print(f\"Category: {category}\")\n",
    "        print(f\"Recommendation: {recommendation}\")\n",
    "    else:\n",
    "        print(\"Invalid input. Please enter positive values for weight and height.\")\n",
    "except ValueError:\n",
    "    print(\"Invalid input. Please enter valid numerical values.\")\n"
   ]
  },
  {
   "cell_type": "markdown",
   "metadata": {},
   "source": [
    "# Challenge Level:\n"
   ]
  },
  {
   "cell_type": "markdown",
   "metadata": {},
   "source": [
    "31. Create a program that validates a password based on complexity rules (length, characters, etc.).\n"
   ]
  },
  {
   "cell_type": "code",
   "execution_count": 14,
   "metadata": {},
   "outputs": [
    {
     "name": "stdout",
     "output_type": "stream",
     "text": [
      "Password is valid.\n"
     ]
    }
   ],
   "source": [
    "import re\n",
    "\n",
    "def is_valid_password(password):\n",
    "    # Check length\n",
    "    if len(password) < 8:\n",
    "        return False, \"Password must be at least 8 characters long.\"\n",
    "\n",
    "    # Check for at least one uppercase letter\n",
    "    if not any(char.isupper() for char in password):\n",
    "        return False, \"Password must contain at least one uppercase letter.\"\n",
    "\n",
    "    # Check for at least one lowercase letter\n",
    "    if not any(char.islower() for char in password):\n",
    "        return False, \"Password must contain at least one lowercase letter.\"\n",
    "\n",
    "    # Check for at least one digit\n",
    "    if not any(char.isdigit() for char in password):\n",
    "        return False, \"Password must contain at least one digit.\"\n",
    "\n",
    "    # Check for at least one special character\n",
    "    if not re.search(r'[!@#$%^&*(),.?\":{}|<>]', password):\n",
    "        return False, \"Password must contain at least one special character.\"\n",
    "\n",
    "    return True, \"Password is valid.\"\n",
    "\n",
    "# Example usage\n",
    "password = input(\"Enter your password: \")\n",
    "valid, message = is_valid_password(password)\n",
    "\n",
    "if valid:\n",
    "    print(\"Password is valid.\")\n",
    "else:\n",
    "    print(f\"Invalid password: {message}\")\n"
   ]
  },
  {
   "cell_type": "markdown",
   "metadata": {},
   "source": [
    "32. Develop a program that performs matrix addition and subtraction based on user input.\n"
   ]
  },
  {
   "cell_type": "code",
   "execution_count": 15,
   "metadata": {},
   "outputs": [
    {
     "name": "stdout",
     "output_type": "stream",
     "text": [
      "Enter details for Matrix 1:\n",
      "\n",
      "Enter details for Matrix 2:\n",
      "\n",
      "Matrix 1:\n",
      "[1.0, 2.0, 3.0]\n",
      "[4.0, 5.0, 6.0]\n",
      "[7.0, 8.0, 9.0]\n",
      "\n",
      "Matrix 2:\n",
      "[7.0, 8.0, 9.0]\n",
      "[4.0, 5.0, 6.0]\n",
      "[1.0, 2.0, 1.0]\n",
      "\n",
      "Matrix Addition:\n",
      "[8.0, 10.0, 12.0]\n",
      "[8.0, 10.0, 12.0]\n",
      "[8.0, 10.0, 10.0]\n",
      "\n",
      "Matrix Subtraction:\n",
      "[-6.0, -6.0, -6.0]\n",
      "[0.0, 0.0, 0.0]\n",
      "[6.0, 6.0, 8.0]\n"
     ]
    }
   ],
   "source": [
    "def matrix_addition(matrix1, matrix2):\n",
    "    \"\"\"\n",
    "    Perform matrix addition\n",
    "    \"\"\"\n",
    "    result = [[0 for _ in range(len(matrix1[0]))] for _ in range(len(matrix1))]\n",
    "    \n",
    "    for i in range(len(matrix1)):\n",
    "        for j in range(len(matrix1[0])):\n",
    "            result[i][j] = matrix1[i][j] + matrix2[i][j]\n",
    "\n",
    "    return result\n",
    "\n",
    "def matrix_subtraction(matrix1, matrix2):\n",
    "    \"\"\"\n",
    "    Perform matrix subtraction\n",
    "    \"\"\"\n",
    "    result = [[0 for _ in range(len(matrix1[0]))] for _ in range(len(matrix1))]\n",
    "    \n",
    "    for i in range(len(matrix1)):\n",
    "        for j in range(len(matrix1[0])):\n",
    "            result[i][j] = matrix1[i][j] - matrix2[i][j]\n",
    "\n",
    "    return result\n",
    "\n",
    "def input_matrix():\n",
    "    \"\"\"\n",
    "    Take user input for a matrix\n",
    "    \"\"\"\n",
    "    rows = int(input(\"Enter the number of rows: \"))\n",
    "    columns = int(input(\"Enter the number of columns: \"))\n",
    "\n",
    "    matrix = []\n",
    "    for i in range(rows):\n",
    "        row = []\n",
    "        for j in range(columns):\n",
    "            element = float(input(f\"Enter element at position ({i + 1}, {j + 1}): \"))\n",
    "            row.append(element)\n",
    "        matrix.append(row)\n",
    "\n",
    "    return matrix\n",
    "\n",
    "def display_matrix(matrix):\n",
    "    \"\"\"\n",
    "    Display a matrix\n",
    "    \"\"\"\n",
    "    for row in matrix:\n",
    "        print(row)\n",
    "\n",
    "# Example usage\n",
    "print(\"Enter details for Matrix 1:\")\n",
    "matrix1 = input_matrix()\n",
    "\n",
    "print(\"\\nEnter details for Matrix 2:\")\n",
    "matrix2 = input_matrix()\n",
    "\n",
    "print(\"\\nMatrix 1:\")\n",
    "display_matrix(matrix1)\n",
    "\n",
    "print(\"\\nMatrix 2:\")\n",
    "display_matrix(matrix2)\n",
    "\n",
    "# Perform addition\n",
    "result_addition = matrix_addition(matrix1, matrix2)\n",
    "print(\"\\nMatrix Addition:\")\n",
    "display_matrix(result_addition)\n",
    "\n",
    "# Perform subtraction\n",
    "result_subtraction = matrix_subtraction(matrix1, matrix2)\n",
    "print(\"\\nMatrix Subtraction:\")\n",
    "display_matrix(result_subtraction)\n"
   ]
  },
  {
   "cell_type": "markdown",
   "metadata": {},
   "source": [
    "33. Write a program that calculates the greatest common divisor (GCD) of two numbers using the Euclidean\n",
    "algorithm.\n"
   ]
  },
  {
   "cell_type": "code",
   "execution_count": 16,
   "metadata": {},
   "outputs": [
    {
     "name": "stdout",
     "output_type": "stream",
     "text": [
      "The GCD of 56 and 26 is: 2\n"
     ]
    }
   ],
   "source": [
    "def euclidean_algorithm(a, b):\n",
    "    while b:\n",
    "        a, b = b, a % b\n",
    "    return a\n",
    "\n",
    "# Example usage\n",
    "try:\n",
    "    num1 = int(input(\"Enter the first number: \"))\n",
    "    num2 = int(input(\"Enter the second number: \"))\n",
    "\n",
    "    if num1 < 0 or num2 < 0:\n",
    "        raise ValueError(\"Please enter non-negative integers.\")\n",
    "\n",
    "    gcd = euclidean_algorithm(num1, num2)\n",
    "    print(f\"The GCD of {num1} and {num2} is: {gcd}\")\n",
    "except ValueError as e:\n",
    "    print(f\"Error: {e}\")\n",
    "except Exception as e:\n",
    "    print(f\"An unexpected error occurred: {e}\")\n"
   ]
  },
  {
   "cell_type": "markdown",
   "metadata": {},
   "source": [
    "34. Build a program that performs matrix multiplication using nested loops and conditional statements.\n"
   ]
  },
  {
   "cell_type": "code",
   "execution_count": 17,
   "metadata": {},
   "outputs": [
    {
     "name": "stdout",
     "output_type": "stream",
     "text": [
      "Enter details for Matrix 1:\n",
      "\n",
      "Enter details for Matrix 2:\n",
      "\n",
      "Matrix 1:\n",
      "[7.0, 6.0]\n",
      "[9.0, 5.0]\n",
      "\n",
      "Matrix 2:\n",
      "[6.0, 5.0]\n",
      "[2.0, 3.0]\n",
      "\n",
      "Matrix Multiplication:\n",
      "[54.0, 53.0]\n",
      "[64.0, 60.0]\n"
     ]
    }
   ],
   "source": [
    "def matrix_multiplication(matrix1, matrix2):\n",
    "    \"\"\"\n",
    "    Perform matrix multiplication\n",
    "    \"\"\"\n",
    "    rows1, cols1 = len(matrix1), len(matrix1[0])\n",
    "    rows2, cols2 = len(matrix2), len(matrix2[0])\n",
    "\n",
    "    if cols1 != rows2:\n",
    "        raise ValueError(\"The number of columns in the first matrix must be equal to the number of rows in the second matrix for multiplication.\")\n",
    "\n",
    "    result = [[0 for _ in range(cols2)] for _ in range(rows1)]\n",
    "\n",
    "    for i in range(rows1):\n",
    "        for j in range(cols2):\n",
    "            for k in range(cols1):\n",
    "                result[i][j] += matrix1[i][k] * matrix2[k][j]\n",
    "\n",
    "    return result\n",
    "\n",
    "def input_matrix():\n",
    "    \"\"\"\n",
    "    Take user input for a matrix\n",
    "    \"\"\"\n",
    "    rows = int(input(\"Enter the number of rows: \"))\n",
    "    columns = int(input(\"Enter the number of columns: \"))\n",
    "\n",
    "    matrix = []\n",
    "    for i in range(rows):\n",
    "        row = []\n",
    "        for j in range(columns):\n",
    "            element = float(input(f\"Enter element at position ({i + 1}, {j + 1}): \"))\n",
    "            row.append(element)\n",
    "        matrix.append(row)\n",
    "\n",
    "    return matrix\n",
    "\n",
    "def display_matrix(matrix):\n",
    "    \"\"\"\n",
    "    Display a matrix\n",
    "    \"\"\"\n",
    "    for row in matrix:\n",
    "        print(row)\n",
    "\n",
    "# Example usage\n",
    "print(\"Enter details for Matrix 1:\")\n",
    "matrix1 = input_matrix()\n",
    "\n",
    "print(\"\\nEnter details for Matrix 2:\")\n",
    "matrix2 = input_matrix()\n",
    "\n",
    "print(\"\\nMatrix 1:\")\n",
    "display_matrix(matrix1)\n",
    "\n",
    "print(\"\\nMatrix 2:\")\n",
    "display_matrix(matrix2)\n",
    "\n",
    "try:\n",
    "    # Perform multiplication\n",
    "    result_multiplication = matrix_multiplication(matrix1, matrix2)\n",
    "    print(\"\\nMatrix Multiplication:\")\n",
    "    display_matrix(result_multiplication)\n",
    "except ValueError as e:\n",
    "    print(f\"Error: {e}\")\n",
    "except Exception as e:\n",
    "    print(f\"An unexpected error occurred: {e}\")\n"
   ]
  },
  {
   "cell_type": "markdown",
   "metadata": {},
   "source": [
    "35. Create a program that simulates a basic text-based tic-tac-toe game against the computer.\n"
   ]
  },
  {
   "cell_type": "code",
   "execution_count": 18,
   "metadata": {},
   "outputs": [
    {
     "name": "stdout",
     "output_type": "stream",
     "text": [
      "  |   |  \n",
      "---------\n",
      "  |   |  \n",
      "---------\n",
      "  |   |  \n",
      "---------\n",
      "  | X |  \n",
      "---------\n",
      "  |   |  \n",
      "---------\n",
      "O |   |  \n",
      "---------\n",
      "  | X |  \n",
      "---------\n",
      "  |   | O\n",
      "---------\n",
      "O |   | X\n",
      "---------\n",
      "  | X |  \n",
      "---------\n",
      "X | O | O\n",
      "---------\n",
      "O |   | X\n",
      "---------\n",
      "Cell already occupied. Try again.\n",
      "  | X |  \n",
      "---------\n",
      "X | O | O\n",
      "---------\n",
      "O |   | X\n",
      "---------\n",
      "Invalid input. Please enter numbers between 1 and 3.\n",
      "Invalid input. Please enter numbers between 1 and 3.\n",
      "Invalid input. Please enter numbers between 1 and 3.\n",
      "Cell already occupied. Try again.\n",
      "  | X |  \n",
      "---------\n",
      "X | O | O\n",
      "---------\n",
      "O |   | X\n",
      "---------\n",
      "Cell already occupied. Try again.\n",
      "  | X |  \n",
      "---------\n",
      "X | O | O\n",
      "---------\n",
      "O |   | X\n",
      "---------\n",
      "Cell already occupied. Try again.\n",
      "  | X |  \n",
      "---------\n",
      "X | O | O\n",
      "---------\n",
      "O |   | X\n",
      "---------\n",
      "Cell already occupied. Try again.\n",
      "  | X |  \n",
      "---------\n",
      "X | O | O\n",
      "---------\n",
      "O |   | X\n",
      "---------\n",
      "Cell already occupied. Try again.\n",
      "  | X |  \n",
      "---------\n",
      "X | O | O\n",
      "---------\n",
      "O |   | X\n",
      "---------\n",
      "Invalid input. Please enter numbers.\n",
      "Invalid input. Please enter numbers.\n",
      "Invalid input. Please enter numbers.\n",
      "X | X |  \n",
      "---------\n",
      "X | O | O\n",
      "---------\n",
      "O | O | X\n",
      "---------\n",
      "Cell already occupied. Try again.\n",
      "X | X |  \n",
      "---------\n",
      "X | O | O\n",
      "---------\n",
      "O | O | X\n",
      "---------\n",
      "Cell already occupied. Try again.\n",
      "X | X |  \n",
      "---------\n",
      "X | O | O\n",
      "---------\n",
      "O | O | X\n",
      "---------\n",
      "Cell already occupied. Try again.\n",
      "X | X |  \n",
      "---------\n",
      "X | O | O\n",
      "---------\n",
      "O | O | X\n",
      "---------\n",
      "Cell already occupied. Try again.\n",
      "X | X |  \n",
      "---------\n",
      "X | O | O\n",
      "---------\n",
      "O | O | X\n",
      "---------\n",
      "Invalid input. Please enter numbers.\n",
      "Invalid input. Please enter numbers.\n",
      "Invalid input. Please enter numbers.\n",
      "Invalid input. Please enter numbers.\n",
      "Invalid input. Please enter numbers.\n",
      "Invalid input. Please enter numbers.\n",
      "Invalid input. Please enter numbers.\n",
      "Invalid input. Please enter numbers.\n",
      "Invalid input. Please enter numbers.\n",
      "Invalid input. Please enter numbers.\n",
      "Invalid input. Please enter numbers.\n",
      "Invalid input. Please enter numbers.\n",
      "Invalid input. Please enter numbers.\n",
      "Invalid input. Please enter numbers.\n",
      "Invalid input. Please enter numbers.\n",
      "Invalid input. Please enter numbers.\n",
      "Invalid input. Please enter numbers.\n",
      "Invalid input. Please enter numbers.\n",
      "Invalid input. Please enter numbers.\n",
      "Invalid input. Please enter numbers.\n",
      "Invalid input. Please enter numbers.\n",
      "Invalid input. Please enter numbers.\n",
      "Invalid input. Please enter numbers.\n",
      "Invalid input. Please enter numbers.\n",
      "Invalid input. Please enter numbers.\n",
      "Invalid input. Please enter numbers.\n",
      "Invalid input. Please enter numbers.\n",
      "Invalid input. Please enter numbers.\n",
      "Invalid input. Please enter numbers.\n",
      "Invalid input. Please enter numbers.\n",
      "Invalid input. Please enter numbers.\n",
      "Invalid input. Please enter numbers.\n",
      "Invalid input. Please enter numbers.\n",
      "Invalid input. Please enter numbers.\n",
      "Invalid input. Please enter numbers.\n",
      "Invalid input. Please enter numbers.\n",
      "Invalid input. Please enter numbers.\n",
      "Invalid input. Please enter numbers.\n",
      "Invalid input. Please enter numbers.\n",
      "Invalid input. Please enter numbers.\n",
      "Invalid input. Please enter numbers.\n",
      "Invalid input. Please enter numbers.\n",
      "Invalid input. Please enter numbers.\n",
      "Invalid input. Please enter numbers.\n",
      "Invalid input. Please enter numbers.\n",
      "Invalid input. Please enter numbers.\n",
      "Invalid input. Please enter numbers.\n",
      "Invalid input. Please enter numbers.\n",
      "Invalid input. Please enter numbers.\n",
      "Invalid input. Please enter numbers.\n",
      "Invalid input. Please enter numbers.\n",
      "Invalid input. Please enter numbers.\n",
      "Invalid input. Please enter numbers.\n",
      "Invalid input. Please enter numbers.\n"
     ]
    },
    {
     "ename": "KeyboardInterrupt",
     "evalue": "Interrupted by user",
     "output_type": "error",
     "traceback": [
      "\u001b[1;31m---------------------------------------------------------------------------\u001b[0m",
      "\u001b[1;31mKeyboardInterrupt\u001b[0m                         Traceback (most recent call last)",
      "\u001b[1;32md:\\PW_Data_science\\Python\\03_Sep_python_Control Flow.ipynb Cell 84\u001b[0m line \u001b[0;36m1\n\u001b[0;32m    <a href='vscode-notebook-cell:/d%3A/PW_Data_science/Python/03_Sep_python_Control%20Flow.ipynb#Y225sZmlsZQ%3D%3D?line=102'>103</a>\u001b[0m             \u001b[39mbreak\u001b[39;00m\n\u001b[0;32m    <a href='vscode-notebook-cell:/d%3A/PW_Data_science/Python/03_Sep_python_Control%20Flow.ipynb#Y225sZmlsZQ%3D%3D?line=104'>105</a>\u001b[0m \u001b[39mif\u001b[39;00m \u001b[39m__name__\u001b[39m \u001b[39m==\u001b[39m \u001b[39m\"\u001b[39m\u001b[39m__main__\u001b[39m\u001b[39m\"\u001b[39m:\n\u001b[1;32m--> <a href='vscode-notebook-cell:/d%3A/PW_Data_science/Python/03_Sep_python_Control%20Flow.ipynb#Y225sZmlsZQ%3D%3D?line=105'>106</a>\u001b[0m     play_tic_tac_toe()\n",
      "\u001b[1;32md:\\PW_Data_science\\Python\\03_Sep_python_Control Flow.ipynb Cell 84\u001b[0m line \u001b[0;36m7\n\u001b[0;32m     <a href='vscode-notebook-cell:/d%3A/PW_Data_science/Python/03_Sep_python_Control%20Flow.ipynb#Y225sZmlsZQ%3D%3D?line=66'>67</a>\u001b[0m print_board(board)\n\u001b[0;32m     <a href='vscode-notebook-cell:/d%3A/PW_Data_science/Python/03_Sep_python_Control%20Flow.ipynb#Y225sZmlsZQ%3D%3D?line=68'>69</a>\u001b[0m \u001b[39m# Player's move\u001b[39;00m\n\u001b[1;32m---> <a href='vscode-notebook-cell:/d%3A/PW_Data_science/Python/03_Sep_python_Control%20Flow.ipynb#Y225sZmlsZQ%3D%3D?line=69'>70</a>\u001b[0m player_row, player_col \u001b[39m=\u001b[39m get_player_move()\n\u001b[0;32m     <a href='vscode-notebook-cell:/d%3A/PW_Data_science/Python/03_Sep_python_Control%20Flow.ipynb#Y225sZmlsZQ%3D%3D?line=70'>71</a>\u001b[0m \u001b[39mif\u001b[39;00m board[player_row][player_col] \u001b[39m==\u001b[39m \u001b[39m'\u001b[39m\u001b[39m \u001b[39m\u001b[39m'\u001b[39m:\n\u001b[0;32m     <a href='vscode-notebook-cell:/d%3A/PW_Data_science/Python/03_Sep_python_Control%20Flow.ipynb#Y225sZmlsZQ%3D%3D?line=71'>72</a>\u001b[0m     board[player_row][player_col] \u001b[39m=\u001b[39m player_symbol\n",
      "\u001b[1;32md:\\PW_Data_science\\Python\\03_Sep_python_Control Flow.ipynb Cell 84\u001b[0m line \u001b[0;36m4\n\u001b[0;32m     <a href='vscode-notebook-cell:/d%3A/PW_Data_science/Python/03_Sep_python_Control%20Flow.ipynb#Y225sZmlsZQ%3D%3D?line=46'>47</a>\u001b[0m \u001b[39mexcept\u001b[39;00m \u001b[39mValueError\u001b[39;00m:\n\u001b[0;32m     <a href='vscode-notebook-cell:/d%3A/PW_Data_science/Python/03_Sep_python_Control%20Flow.ipynb#Y225sZmlsZQ%3D%3D?line=47'>48</a>\u001b[0m     \u001b[39mprint\u001b[39m(\u001b[39m\"\u001b[39m\u001b[39mInvalid input. Please enter numbers.\u001b[39m\u001b[39m\"\u001b[39m)\n\u001b[1;32m---> <a href='vscode-notebook-cell:/d%3A/PW_Data_science/Python/03_Sep_python_Control%20Flow.ipynb#Y225sZmlsZQ%3D%3D?line=48'>49</a>\u001b[0m     \u001b[39mreturn\u001b[39;00m get_player_move()\n",
      "\u001b[1;32md:\\PW_Data_science\\Python\\03_Sep_python_Control Flow.ipynb Cell 84\u001b[0m line \u001b[0;36m4\n\u001b[0;32m     <a href='vscode-notebook-cell:/d%3A/PW_Data_science/Python/03_Sep_python_Control%20Flow.ipynb#Y225sZmlsZQ%3D%3D?line=46'>47</a>\u001b[0m \u001b[39mexcept\u001b[39;00m \u001b[39mValueError\u001b[39;00m:\n\u001b[0;32m     <a href='vscode-notebook-cell:/d%3A/PW_Data_science/Python/03_Sep_python_Control%20Flow.ipynb#Y225sZmlsZQ%3D%3D?line=47'>48</a>\u001b[0m     \u001b[39mprint\u001b[39m(\u001b[39m\"\u001b[39m\u001b[39mInvalid input. Please enter numbers.\u001b[39m\u001b[39m\"\u001b[39m)\n\u001b[1;32m---> <a href='vscode-notebook-cell:/d%3A/PW_Data_science/Python/03_Sep_python_Control%20Flow.ipynb#Y225sZmlsZQ%3D%3D?line=48'>49</a>\u001b[0m     \u001b[39mreturn\u001b[39;00m get_player_move()\n",
      "    \u001b[1;31m[... skipping similar frames: get_player_move at line 49 (51 times)]\u001b[0m\n",
      "\u001b[1;32md:\\PW_Data_science\\Python\\03_Sep_python_Control Flow.ipynb Cell 84\u001b[0m line \u001b[0;36m4\n\u001b[0;32m     <a href='vscode-notebook-cell:/d%3A/PW_Data_science/Python/03_Sep_python_Control%20Flow.ipynb#Y225sZmlsZQ%3D%3D?line=46'>47</a>\u001b[0m \u001b[39mexcept\u001b[39;00m \u001b[39mValueError\u001b[39;00m:\n\u001b[0;32m     <a href='vscode-notebook-cell:/d%3A/PW_Data_science/Python/03_Sep_python_Control%20Flow.ipynb#Y225sZmlsZQ%3D%3D?line=47'>48</a>\u001b[0m     \u001b[39mprint\u001b[39m(\u001b[39m\"\u001b[39m\u001b[39mInvalid input. Please enter numbers.\u001b[39m\u001b[39m\"\u001b[39m)\n\u001b[1;32m---> <a href='vscode-notebook-cell:/d%3A/PW_Data_science/Python/03_Sep_python_Control%20Flow.ipynb#Y225sZmlsZQ%3D%3D?line=48'>49</a>\u001b[0m     \u001b[39mreturn\u001b[39;00m get_player_move()\n",
      "\u001b[1;32md:\\PW_Data_science\\Python\\03_Sep_python_Control Flow.ipynb Cell 84\u001b[0m line \u001b[0;36m3\n\u001b[0;32m     <a href='vscode-notebook-cell:/d%3A/PW_Data_science/Python/03_Sep_python_Control%20Flow.ipynb#Y225sZmlsZQ%3D%3D?line=34'>35</a>\u001b[0m \u001b[39m\u001b[39m\u001b[39m\"\"\"\u001b[39;00m\n\u001b[0;32m     <a href='vscode-notebook-cell:/d%3A/PW_Data_science/Python/03_Sep_python_Control%20Flow.ipynb#Y225sZmlsZQ%3D%3D?line=35'>36</a>\u001b[0m \u001b[39mGet player's move\u001b[39;00m\n\u001b[0;32m     <a href='vscode-notebook-cell:/d%3A/PW_Data_science/Python/03_Sep_python_Control%20Flow.ipynb#Y225sZmlsZQ%3D%3D?line=36'>37</a>\u001b[0m \u001b[39m\"\"\"\u001b[39;00m\n\u001b[0;32m     <a href='vscode-notebook-cell:/d%3A/PW_Data_science/Python/03_Sep_python_Control%20Flow.ipynb#Y225sZmlsZQ%3D%3D?line=37'>38</a>\u001b[0m \u001b[39mtry\u001b[39;00m:\n\u001b[1;32m---> <a href='vscode-notebook-cell:/d%3A/PW_Data_science/Python/03_Sep_python_Control%20Flow.ipynb#Y225sZmlsZQ%3D%3D?line=38'>39</a>\u001b[0m     row \u001b[39m=\u001b[39m \u001b[39mint\u001b[39m(\u001b[39minput\u001b[39;49m(\u001b[39m\"\u001b[39;49m\u001b[39mEnter the row number (1, 2, or 3): \u001b[39;49m\u001b[39m\"\u001b[39;49m)) \u001b[39m-\u001b[39m \u001b[39m1\u001b[39m\n\u001b[0;32m     <a href='vscode-notebook-cell:/d%3A/PW_Data_science/Python/03_Sep_python_Control%20Flow.ipynb#Y225sZmlsZQ%3D%3D?line=39'>40</a>\u001b[0m     col \u001b[39m=\u001b[39m \u001b[39mint\u001b[39m(\u001b[39minput\u001b[39m(\u001b[39m\"\u001b[39m\u001b[39mEnter the column number (1, 2, or 3): \u001b[39m\u001b[39m\"\u001b[39m)) \u001b[39m-\u001b[39m \u001b[39m1\u001b[39m\n\u001b[0;32m     <a href='vscode-notebook-cell:/d%3A/PW_Data_science/Python/03_Sep_python_Control%20Flow.ipynb#Y225sZmlsZQ%3D%3D?line=41'>42</a>\u001b[0m     \u001b[39mif\u001b[39;00m \u001b[39m0\u001b[39m \u001b[39m<\u001b[39m\u001b[39m=\u001b[39m row \u001b[39m<\u001b[39m\u001b[39m=\u001b[39m \u001b[39m2\u001b[39m \u001b[39mand\u001b[39;00m \u001b[39m0\u001b[39m \u001b[39m<\u001b[39m\u001b[39m=\u001b[39m col \u001b[39m<\u001b[39m\u001b[39m=\u001b[39m \u001b[39m2\u001b[39m:\n",
      "File \u001b[1;32m~\\AppData\\Local\\Packages\\PythonSoftwareFoundation.Python.3.11_qbz5n2kfra8p0\\LocalCache\\local-packages\\Python311\\site-packages\\ipykernel\\kernelbase.py:1251\u001b[0m, in \u001b[0;36mKernel.raw_input\u001b[1;34m(self, prompt)\u001b[0m\n\u001b[0;32m   1249\u001b[0m     msg \u001b[39m=\u001b[39m \u001b[39m\"\u001b[39m\u001b[39mraw_input was called, but this frontend does not support input requests.\u001b[39m\u001b[39m\"\u001b[39m\n\u001b[0;32m   1250\u001b[0m     \u001b[39mraise\u001b[39;00m StdinNotImplementedError(msg)\n\u001b[1;32m-> 1251\u001b[0m \u001b[39mreturn\u001b[39;00m \u001b[39mself\u001b[39;49m\u001b[39m.\u001b[39;49m_input_request(\n\u001b[0;32m   1252\u001b[0m     \u001b[39mstr\u001b[39;49m(prompt),\n\u001b[0;32m   1253\u001b[0m     \u001b[39mself\u001b[39;49m\u001b[39m.\u001b[39;49m_parent_ident[\u001b[39m\"\u001b[39;49m\u001b[39mshell\u001b[39;49m\u001b[39m\"\u001b[39;49m],\n\u001b[0;32m   1254\u001b[0m     \u001b[39mself\u001b[39;49m\u001b[39m.\u001b[39;49mget_parent(\u001b[39m\"\u001b[39;49m\u001b[39mshell\u001b[39;49m\u001b[39m\"\u001b[39;49m),\n\u001b[0;32m   1255\u001b[0m     password\u001b[39m=\u001b[39;49m\u001b[39mFalse\u001b[39;49;00m,\n\u001b[0;32m   1256\u001b[0m )\n",
      "File \u001b[1;32m~\\AppData\\Local\\Packages\\PythonSoftwareFoundation.Python.3.11_qbz5n2kfra8p0\\LocalCache\\local-packages\\Python311\\site-packages\\ipykernel\\kernelbase.py:1295\u001b[0m, in \u001b[0;36mKernel._input_request\u001b[1;34m(self, prompt, ident, parent, password)\u001b[0m\n\u001b[0;32m   1292\u001b[0m \u001b[39mexcept\u001b[39;00m \u001b[39mKeyboardInterrupt\u001b[39;00m:\n\u001b[0;32m   1293\u001b[0m     \u001b[39m# re-raise KeyboardInterrupt, to truncate traceback\u001b[39;00m\n\u001b[0;32m   1294\u001b[0m     msg \u001b[39m=\u001b[39m \u001b[39m\"\u001b[39m\u001b[39mInterrupted by user\u001b[39m\u001b[39m\"\u001b[39m\n\u001b[1;32m-> 1295\u001b[0m     \u001b[39mraise\u001b[39;00m \u001b[39mKeyboardInterrupt\u001b[39;00m(msg) \u001b[39mfrom\u001b[39;00m \u001b[39mNone\u001b[39;00m\n\u001b[0;32m   1296\u001b[0m \u001b[39mexcept\u001b[39;00m \u001b[39mException\u001b[39;00m:\n\u001b[0;32m   1297\u001b[0m     \u001b[39mself\u001b[39m\u001b[39m.\u001b[39mlog\u001b[39m.\u001b[39mwarning(\u001b[39m\"\u001b[39m\u001b[39mInvalid Message:\u001b[39m\u001b[39m\"\u001b[39m, exc_info\u001b[39m=\u001b[39m\u001b[39mTrue\u001b[39;00m)\n",
      "\u001b[1;31mKeyboardInterrupt\u001b[0m: Interrupted by user"
     ]
    }
   ],
   "source": [
    "import random\n",
    "\n",
    "def print_board(board):\n",
    "    \"\"\"\n",
    "    Print the tic-tac-toe board\n",
    "    \"\"\"\n",
    "    for row in board:\n",
    "        print(\" | \".join(row))\n",
    "        print(\"-\" * 9)\n",
    "\n",
    "def check_winner(board, player):\n",
    "    \"\"\"\n",
    "    Check if the player has won\n",
    "    \"\"\"\n",
    "    for row in board:\n",
    "        if all(cell == player for cell in row):\n",
    "            return True\n",
    "\n",
    "    for col in range(3):\n",
    "        if all(board[row][col] == player for row in range(3)):\n",
    "            return True\n",
    "\n",
    "    if all(board[i][i] == player for i in range(3)) or all(board[i][2 - i] == player for i in range(3)):\n",
    "        return True\n",
    "\n",
    "    return False\n",
    "\n",
    "def is_board_full(board):\n",
    "    \"\"\"\n",
    "    Check if the board is full\n",
    "    \"\"\"\n",
    "    return all(all(cell != ' ' for cell in row) for row in board)\n",
    "\n",
    "def get_player_move():\n",
    "    \"\"\"\n",
    "    Get player's move\n",
    "    \"\"\"\n",
    "    try:\n",
    "        row = int(input(\"Enter the row number (1, 2, or 3): \")) - 1\n",
    "        col = int(input(\"Enter the column number (1, 2, or 3): \")) - 1\n",
    "\n",
    "        if 0 <= row <= 2 and 0 <= col <= 2:\n",
    "            return row, col\n",
    "        else:\n",
    "            print(\"Invalid input. Please enter numbers between 1 and 3.\")\n",
    "            return get_player_move()\n",
    "    except ValueError:\n",
    "        print(\"Invalid input. Please enter numbers.\")\n",
    "        return get_player_move()\n",
    "\n",
    "def get_computer_move(board):\n",
    "    \"\"\"\n",
    "    Get computer's move (randomly generated)\n",
    "    \"\"\"\n",
    "    empty_cells = [(i, j) for i in range(3) for j in range(3) if board[i][j] == ' ']\n",
    "    return random.choice(empty_cells)\n",
    "\n",
    "def play_tic_tac_toe():\n",
    "    \"\"\"\n",
    "    Play tic-tac-toe game\n",
    "    \"\"\"\n",
    "    board = [[' ' for _ in range(3)] for _ in range(3)]\n",
    "    player_symbol = 'X'\n",
    "    computer_symbol = 'O'\n",
    "\n",
    "    while True:\n",
    "        print_board(board)\n",
    "\n",
    "        # Player's move\n",
    "        player_row, player_col = get_player_move()\n",
    "        if board[player_row][player_col] == ' ':\n",
    "            board[player_row][player_col] = player_symbol\n",
    "        else:\n",
    "            print(\"Cell already occupied. Try again.\")\n",
    "            continue\n",
    "\n",
    "        # Check if player wins\n",
    "        if check_winner(board, player_symbol):\n",
    "            print_board(board)\n",
    "            print(\"Congratulations! You win!\")\n",
    "            break\n",
    "\n",
    "        # Check if the board is full\n",
    "        if is_board_full(board):\n",
    "            print_board(board)\n",
    "            print(\"It's a tie!\")\n",
    "            break\n",
    "\n",
    "        # Computer's move\n",
    "        computer_row, computer_col = get_computer_move(board)\n",
    "        board[computer_row][computer_col] = computer_symbol\n",
    "\n",
    "        # Check if computer wins\n",
    "        if check_winner(board, computer_symbol):\n",
    "            print_board(board)\n",
    "            print(\"Computer wins! Better luck next time.\")\n",
    "            break\n",
    "\n",
    "        # Check if the board is full\n",
    "        if is_board_full(board):\n",
    "            print_board(board)\n",
    "            print(\"It's a tie!\")\n",
    "            break\n",
    "\n",
    "if __name__ == \"__main__\":\n",
    "    play_tic_tac_toe()\n"
   ]
  },
  {
   "cell_type": "markdown",
   "metadata": {},
   "source": [
    "36. Write a program that generates Fibonacci numbers up to a specified term using iterative methods.\n"
   ]
  },
  {
   "cell_type": "code",
   "execution_count": 19,
   "metadata": {},
   "outputs": [
    {
     "name": "stdout",
     "output_type": "stream",
     "text": [
      "The first 5 Fibonacci numbers are: [0, 1, 1, 2, 3]\n"
     ]
    }
   ],
   "source": [
    "def generate_fibonacci(n):\n",
    "    \"\"\"\n",
    "    Generate Fibonacci numbers up to the nth term using iterative method\n",
    "    \"\"\"\n",
    "    fibonacci_sequence = [0, 1]\n",
    "\n",
    "    for i in range(2, n):\n",
    "        next_term = fibonacci_sequence[-1] + fibonacci_sequence[-2]\n",
    "        fibonacci_sequence.append(next_term)\n",
    "\n",
    "    return fibonacci_sequence\n",
    "\n",
    "# Example usage\n",
    "try:\n",
    "    n = int(input(\"Enter the number of Fibonacci terms to generate: \"))\n",
    "\n",
    "    if n <= 0:\n",
    "        raise ValueError(\"Please enter a positive integer.\")\n",
    "\n",
    "    fibonacci_sequence = generate_fibonacci(n)\n",
    "    print(f\"The first {n} Fibonacci numbers are: {fibonacci_sequence}\")\n",
    "except ValueError as e:\n",
    "    print(f\"Error: {e}\")\n",
    "except Exception as e:\n",
    "    print(f\"An unexpected error occurred: {e}\")\n"
   ]
  },
  {
   "cell_type": "markdown",
   "metadata": {},
   "source": [
    "37. Develop a program that calculates the nth term of the Fibonacci sequence using memoization.\n"
   ]
  },
  {
   "cell_type": "code",
   "execution_count": 20,
   "metadata": {},
   "outputs": [
    {
     "name": "stdout",
     "output_type": "stream",
     "text": [
      "The 40th term of the Fibonacci sequence is: 102334155\n"
     ]
    }
   ],
   "source": [
    "def fibonacci_memo(n, memo={}):\n",
    "    \"\"\"\n",
    "    Calculate the nth term of the Fibonacci sequence using memoization\n",
    "    \"\"\"\n",
    "    if n in memo:\n",
    "        return memo[n]\n",
    "    elif n <= 1:\n",
    "        return n\n",
    "    else:\n",
    "        memo[n] = fibonacci_memo(n - 1, memo) + fibonacci_memo(n - 2, memo)\n",
    "        return memo[n]\n",
    "\n",
    "# Example usage\n",
    "try:\n",
    "    n = int(input(\"Enter the value of n for the nth term of the Fibonacci sequence: \"))\n",
    "\n",
    "    if n < 0:\n",
    "        raise ValueError(\"Please enter a non-negative integer.\")\n",
    "\n",
    "    nth_term = fibonacci_memo(n)\n",
    "    print(f\"The {n}th term of the Fibonacci sequence is: {nth_term}\")\n",
    "except ValueError as e:\n",
    "    print(f\"Error: {e}\")\n",
    "except Exception as e:\n",
    "    print(f\"An unexpected error occurred: {e}\")\n"
   ]
  },
  {
   "cell_type": "markdown",
   "metadata": {},
   "source": [
    "38. Create a program that generates a calendar for a given month and year using conditional statements.\n"
   ]
  },
  {
   "cell_type": "code",
   "execution_count": 21,
   "metadata": {},
   "outputs": [
    {
     "name": "stdout",
     "output_type": "stream",
     "text": [
      "Calendar for July 1998\n",
      "Mo Tu We Th Fr Sa Su\n",
      "         1   2   3   4   5  \n",
      " 6   7   8   9  10  11  12  \n",
      "13  14  15  16  17  18  19  \n",
      "20  21  22  23  24  25  26  \n",
      "27  28  29  30  31          \n"
     ]
    }
   ],
   "source": [
    "import calendar\n",
    "\n",
    "def generate_calendar(year, month):\n",
    "    \"\"\"\n",
    "    Generate a calendar for a given month and year\n",
    "    \"\"\"\n",
    "    cal = calendar.monthcalendar(year, month)\n",
    "\n",
    "    # Print the header\n",
    "    print(f\"Calendar for {calendar.month_name[month]} {year}\")\n",
    "\n",
    "    # Print the days of the week\n",
    "    print(\"Mo Tu We Th Fr Sa Su\")\n",
    "\n",
    "    # Print the calendar\n",
    "    for week in cal:\n",
    "        for day in week:\n",
    "            if day == 0:\n",
    "                print(\"   \", end=\" \")  # Print empty space for days before the 1st of the month\n",
    "            else:\n",
    "                print(f\"{day:2d} \", end=\" \")  # Print the day with padding\n",
    "\n",
    "        print()  # Move to the next line for the next week\n",
    "\n",
    "# Example usage\n",
    "try:\n",
    "    year = int(input(\"Enter the year: \"))\n",
    "    month = int(input(\"Enter the month (1-12): \"))\n",
    "\n",
    "    if 1 <= month <= 12:\n",
    "        generate_calendar(year, month)\n",
    "    else:\n",
    "        print(\"Invalid month. Please enter a number between 1 and 12.\")\n",
    "except ValueError:\n",
    "    print(\"Invalid input. Please enter valid numbers.\")\n"
   ]
  },
  {
   "cell_type": "markdown",
   "metadata": {},
   "source": [
    "39. Build a program that simulates a basic text-based blackjack game against the computer.\n"
   ]
  },
  {
   "cell_type": "code",
   "execution_count": 24,
   "metadata": {},
   "outputs": [
    {
     "name": "stdout",
     "output_type": "stream",
     "text": [
      "Your cards: [5, 10], current score: 15\n",
      "Computer's first card: 6\n",
      "Your cards: [5, 10, 10], current score: 25\n",
      "Computer's first card: 6\n",
      "Your final hand: [5, 10, 10], final score: 25\n",
      "Computer's final hand: [6, 10, 10], final score: 26\n",
      "You went over. You lose.\n"
     ]
    }
   ],
   "source": [
    "import random\n",
    "\n",
    "def deal_card():\n",
    "    \"\"\"Deal a random card from the deck.\"\"\"\n",
    "    cards = [11, 2, 3, 4, 5, 6, 7, 8, 9, 10, 10, 10, 10]\n",
    "    return random.choice(cards)\n",
    "\n",
    "def calculate_score(cards):\n",
    "    \"\"\"Calculate the total value of a hand of cards.\"\"\"\n",
    "    if sum(cards) == 21 and len(cards) == 2:\n",
    "        return 0  # Blackjack (ace + 10-point card)\n",
    "\n",
    "    if 11 in cards and sum(cards) > 21:\n",
    "        cards.remove(11)\n",
    "        cards.append(1)  # Replace the ace with a 1\n",
    "\n",
    "    return sum(cards)\n",
    "\n",
    "def compare_scores(player_score, computer_score):\n",
    "    \"\"\"Compare the final scores and determine the winner.\"\"\"\n",
    "    if player_score == computer_score:\n",
    "        return \"It's a draw!\"\n",
    "    elif computer_score == 0:\n",
    "        return \"You lose. Computer has a Blackjack.\"\n",
    "    elif player_score == 0:\n",
    "        return \"You win with a Blackjack!\"\n",
    "    elif player_score > 21:\n",
    "        return \"You went over. You lose.\"\n",
    "    elif computer_score > 21:\n",
    "        return \"Computer went over. You win!\"\n",
    "    elif player_score > computer_score:\n",
    "        return \"You win!\"\n",
    "    else:\n",
    "        return \"You lose.\"\n",
    "\n",
    "def play_blackjack():\n",
    "    \"\"\"Play a text-based blackjack game against the computer.\"\"\"\n",
    "    player_cards = []\n",
    "    computer_cards = []\n",
    "    game_over = False\n",
    "\n",
    "    for _ in range(2):\n",
    "        player_cards.append(deal_card())\n",
    "        computer_cards.append(deal_card())\n",
    "\n",
    "    while not game_over:\n",
    "        player_score = calculate_score(player_cards)\n",
    "        computer_score = calculate_score(computer_cards)\n",
    "\n",
    "        print(f\"Your cards: {player_cards}, current score: {player_score}\")\n",
    "        print(f\"Computer's first card: {computer_cards[0]}\")\n",
    "\n",
    "        if player_score == 0 or computer_score == 0 or player_score > 21:\n",
    "            game_over = True\n",
    "        else:\n",
    "            should_continue = input(\"Type 'y' to get another card, 'n' to pass: \").lower()\n",
    "            if should_continue == 'y':\n",
    "                player_cards.append(deal_card())\n",
    "            else:\n",
    "                game_over = True\n",
    "\n",
    "    while computer_score != 0 and computer_score < 17:\n",
    "        computer_cards.append(deal_card())\n",
    "        computer_score = calculate_score(computer_cards)\n",
    "\n",
    "    print(f\"Your final hand: {player_cards}, final score: {player_score}\")\n",
    "    print(f\"Computer's final hand: {computer_cards}, final score: {computer_score}\")\n",
    "\n",
    "    result = compare_scores(player_score, computer_score)\n",
    "    print(result)\n",
    "\n",
    "# Example usage\n",
    "play_blackjack()\n"
   ]
  },
  {
   "cell_type": "markdown",
   "metadata": {},
   "source": [
    "40. Write a program that generates the prime factors of a given number using trial division."
   ]
  },
  {
   "cell_type": "code",
   "execution_count": 27,
   "metadata": {},
   "outputs": [
    {
     "name": "stdout",
     "output_type": "stream",
     "text": [
      "The prime factors of 211563 are: [3, 3, 11, 2137]\n"
     ]
    }
   ],
   "source": [
    "def generate_prime_factors(number):\n",
    "    \"\"\"Generate the prime factors of a given number using trial division.\"\"\"\n",
    "    factors = []\n",
    "    divisor = 2\n",
    "\n",
    "    while number > 1:\n",
    "        while number % divisor == 0:\n",
    "            factors.append(divisor)\n",
    "            number //= divisor\n",
    "        divisor += 1\n",
    "\n",
    "    return factors\n",
    "\n",
    "# Example usage\n",
    "try:\n",
    "    input_number = int(input(\"Enter a number to find its prime factors: \"))\n",
    "\n",
    "    if input_number <= 0:\n",
    "        raise ValueError(\"Please enter a positive integer.\")\n",
    "\n",
    "    prime_factors = generate_prime_factors(input_number)\n",
    "    print(f\"The prime factors of {input_number} are: {prime_factors}\")\n",
    "except ValueError as e:\n",
    "    print(f\"Error: {e}\")\n",
    "except Exception as e:\n",
    "    print(f\"An unexpected error occurred: {e}\")\n"
   ]
  }
 ],
 "metadata": {
  "kernelspec": {
   "display_name": "Python 3",
   "language": "python",
   "name": "python3"
  },
  "language_info": {
   "codemirror_mode": {
    "name": "ipython",
    "version": 3
   },
   "file_extension": ".py",
   "mimetype": "text/x-python",
   "name": "python",
   "nbconvert_exporter": "python",
   "pygments_lexer": "ipython3",
   "version": "3.11.6"
  }
 },
 "nbformat": 4,
 "nbformat_minor": 2
}
