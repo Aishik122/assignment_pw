{
 "cells": [
  {
   "cell_type": "markdown",
   "metadata": {},
   "source": [
    "# TOPIC: Python Basics Variable"
   ]
  },
  {
   "cell_type": "markdown",
   "metadata": {},
   "source": [
    "Declare two variables, `x` and `y`, and assign them integer values. Swap the\n",
    "values of these variables without using any temporary variable."
   ]
  },
  {
   "cell_type": "code",
   "execution_count": 2,
   "metadata": {},
   "outputs": [
    {
     "name": "stdout",
     "output_type": "stream",
     "text": [
      "Value of x is 5 and y is 10\n",
      "New value of x is {x} and y is {y}\n"
     ]
    }
   ],
   "source": [
    "x,y=5,10\n",
    "print(f'Value of x is {x} and y is {y}')\n",
    "x,y=y,x\n",
    "print('New value of x is {x} and y is {y}')\n"
   ]
  },
  {
   "cell_type": "markdown",
   "metadata": {},
   "source": [
    "Create a program that calculates the area of a rectangle. Take the length and\n",
    "width as inputs from the user and store them in variables. Calculate and\n",
    "display the area."
   ]
  },
  {
   "cell_type": "code",
   "execution_count": 5,
   "metadata": {},
   "outputs": [
    {
     "name": "stdout",
     "output_type": "stream",
     "text": [
      "area of rectangule is 50\n"
     ]
    }
   ],
   "source": [
    "def rectangule_area(length,width):\n",
    "    '''try to to calculate area of  rectangule'''\n",
    "    area=length*width\n",
    "    return area\n",
    "x=rectangule_area(10,5) # here we take length = 10 and width = 5\n",
    "print(f\"area of rectangule is {x}\")  "
   ]
  },
  {
   "cell_type": "markdown",
   "metadata": {},
   "source": [
    "Write a Python program that converts temperatures from Celsius to\n",
    "Fahrenheit. Take the temperature in Celsius as input, store it in a variable,\n",
    "convert it to Fahrenheit, and display the result."
   ]
  },
  {
   "cell_type": "code",
   "execution_count": 7,
   "metadata": {},
   "outputs": [
    {
     "name": "stdout",
     "output_type": "stream",
     "text": [
      "32 Celcius = 89.6 fehrenheit   \n"
     ]
    }
   ],
   "source": [
    "y=32\n",
    "def fahernheit(Celcius):\n",
    "    f = Celcius*(9/5)+32\n",
    "    return f \n",
    "x = fahernheit(y)\n",
    "print(f'{y} Celcius = {x} fehrenheit   ') "
   ]
  },
  {
   "cell_type": "markdown",
   "metadata": {},
   "source": [
    "# TOPIC: String Based Questions"
   ]
  },
  {
   "cell_type": "markdown",
   "metadata": {},
   "source": [
    "1. Write a Python program that takes a string as input and prints the length of\n",
    "the string."
   ]
  },
  {
   "cell_type": "code",
   "execution_count": 8,
   "metadata": {},
   "outputs": [
    {
     "name": "stdout",
     "output_type": "stream",
     "text": [
      "str is hellow\n",
      "length of str hellow is 6\n"
     ]
    }
   ],
   "source": [
    "def str_length(str):\n",
    "    return len(str)\n",
    "y=\"hellow\"\n",
    "print(f'str is {y}')\n",
    "x= str_length(y)\n",
    "print(f\"length of str {y} is {x}\")"
   ]
  },
  {
   "cell_type": "markdown",
   "metadata": {},
   "source": [
    "2. Create a program that takes a sentence from the user and counts the number\n",
    "of vowels (a, e, i, o, u) in the string."
   ]
  },
  {
   "cell_type": "code",
   "execution_count": 10,
   "metadata": {},
   "outputs": [
    {
     "name": "stdout",
     "output_type": "stream",
     "text": [
      "3\n"
     ]
    }
   ],
   "source": [
    "def vowels_count(str):\n",
    "    a=0\n",
    "    for i in range(len(str)):\n",
    "        if str[i].lower() in \"aeiou\":\n",
    "            a+=1\n",
    "    return a\n",
    "print(vowels_count('Aishik')) "
   ]
  },
  {
   "cell_type": "markdown",
   "metadata": {},
   "source": [
    "3. Given a string, reverse the order of characters using string slicing and print\n",
    "the reversed string."
   ]
  },
  {
   "cell_type": "code",
   "execution_count": 17,
   "metadata": {},
   "outputs": [
    {
     "name": "stdout",
     "output_type": "stream",
     "text": [
      "original string is PW\n",
      " reverse str is WP\n"
     ]
    }
   ],
   "source": [
    "def rev_str(str):\n",
    "    print(f'original string is {str}')\n",
    "    result=str[::-1]\n",
    "    return (result)\n",
    "print(f\" reverse str is {rev_str('PW')}\")"
   ]
  },
  {
   "cell_type": "markdown",
   "metadata": {},
   "source": [
    "4. Write a program that takes a string as input and checks if it is a palindrome"
   ]
  },
  {
   "cell_type": "code",
   "execution_count": 18,
   "metadata": {},
   "outputs": [
    {
     "name": "stdout",
     "output_type": "stream",
     "text": [
      "original string is CAT\n",
      "not a palindrom\n",
      "original string is Mom\n",
      "Palindrom\n"
     ]
    }
   ],
   "source": [
    "def palindrom(str):\n",
    "    print(f'original string is {str}')\n",
    "    rev=str[::-1]\n",
    "    if str.lower() == rev.lower() :  # I use lower to make all the characters lower case to find palindrom. Python is case sensitive :) \n",
    "        return 'Palindrom'\n",
    "    else:\n",
    "        return 'not a palindrom'\n",
    "print(palindrom(\"CAT\"))\n",
    "print(palindrom(\"Mom\"))"
   ]
  },
  {
   "cell_type": "markdown",
   "metadata": {},
   "source": [
    "5. Create a program that takes a string as input and removes all the spaces from\n",
    "it. Print the modified string without spaces."
   ]
  },
  {
   "cell_type": "code",
   "execution_count": 26,
   "metadata": {},
   "outputs": [
    {
     "name": "stdout",
     "output_type": "stream",
     "text": [
      "HeLLOw\n"
     ]
    }
   ],
   "source": [
    "def space_remove(str):\n",
    "    a=\"\"\n",
    "    for i in range(len(str)):\n",
    "        if ord(str[i]) != 32 : # here I use ascii value of space to remove it from string , If the value is 32(for space) then the logic not add it is the new str a  \n",
    "            a+=str[i]\n",
    "    return a \n",
    "print(space_remove(\"H  e L L O w\"))"
   ]
  }
 ],
 "metadata": {
  "kernelspec": {
   "display_name": "Python 3",
   "language": "python",
   "name": "python3"
  },
  "language_info": {
   "codemirror_mode": {
    "name": "ipython",
    "version": 3
   },
   "file_extension": ".py",
   "mimetype": "text/x-python",
   "name": "python",
   "nbconvert_exporter": "python",
   "pygments_lexer": "ipython3",
   "version": "3.11.6"
  }
 },
 "nbformat": 4,
 "nbformat_minor": 2
}
